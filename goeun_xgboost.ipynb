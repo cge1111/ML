{
 "cells": [
  {
   "cell_type": "markdown",
   "id": "459b316f",
   "metadata": {},
   "source": [
    "# subject : IEEE-CIS Fraud Detection Modeling \n",
    "\n",
    "<font size=\"5\">[kaggle](https://www.kaggle.com/competitions/ieee-fraud-detection/overview/description)</font>\n",
    "\n",
    "<font size=\"5\">workflow</font> <br>\n",
    "분석 문제 정의 → 데이터 수집 → EDA&Data Preprocessing → feature engineering → Model selection (XGBoost,LightGBM), 둘 중 더 좋은 성능으로 -> undersampling vs non undersampling, Confusion matrix 비교 → GridSearchCV(최적의 하이퍼파라미터를 찾아줌)\n",
    "\n",
    "\n",
    "## Data Preprocessing(전처리)\n",
    "\n",
    "- [ ] **결측치 처리** : 보통 결측치가 10% 미만이거나 많게는 20% 정도일 때 삭제, 혹은 빈도 수가 가장 높은 데이터로 대치한다고 합니다. 그러나 이는 데이터가 왜곡될 위험이 있기도 하고, 결측치가 20% 이상인 경우에는 별로 권장하지 않습니다.\n",
    "    1. 행 또는 열 삭제\n",
    "    2. **중앙값, 평균값**으로 대체\n",
    "    3. XGboost / LightGBM\n",
    "    4. K-NN\n",
    "    5. MICE (Multivariate Imputation by Chained Equation)\n",
    "    6. 딥러닝 이용\n",
    "\n",
    "<font size=\"4\">**train_final(knn).csv & test_final(knn).csv**</font>\n",
    "- [x] Vxxx column **PCA** <br>why?🤷🏻‍♀️ 컬럼 수가 339개로 많아 KNNImputer 진행하기에는 시간이 많이 소요되어 PCA진행\n",
    "    - scaling : minmax_scale\n",
    "    - n_components : 30\n",
    "    \n",
    "    \n",
    "- [x] Categorical Encoding <br>why?🤷🏻‍♀️ 텍스트로 이루어진 개별 범주형 변수를 수치형 변수 변환하여 연산하기 위해\n",
    "    - **label encoding**(알파벳 오더순으로 숫자를 할당)\n",
    "    \n",
    "        \n",
    "- [ ] ~~KNNImputer( 가까운 이웃의 수를 정하고 그 이웃들을 이용하여 결측치를 채우는 방식) =>   <br>why?🤷🏻‍♀️ 마스킹 데이터가 많아 결측치(전체 데이터의 40%이상 null값)를 채우기 어려움이 있어 KNNImputer사용~~**클러스터링용!!**\n",
    "    - n_neighbors: 5(하이퍼파라미터)\n",
    "    \n",
    "    \n",
    "\n",
    "<font size=\"4\">**train & test**</font>    \n",
    "- [ ] 날짜 데이터 추가(`TransactionDT` null값 없음 -> KNNImputer 뒤 적용 가능)\n",
    "    - START_DATE='2017-12-01'을 기준으로 `TransactionDT` 컬럼에 적용하여 `date`, `weekdays`, `hours`, `days` 컬럼 생성 후 'TransactionDT' 컬럼 drop\n",
    "\n",
    " \n",
    "## feature engineering\n",
    "[AMEX-Data Preprocesing & Feature Engineering](https://www.kaggle.com/code/susnato/amex-data-preprocesing-feature-engineering)\n",
    "\n",
    "\n",
    "1. [ ] feature importance (차원축소를 하기위해 ML을 돌림)\n",
    "    1. **LGBM**\n",
    "    2. 👍🏻[모델이 학습하면서 feature 선택](https://scikit-learn.org/stable/modules/generated/sklearn.feature_selection.SequentialFeatureSelector.html)\n",
    "\n",
    "\n",
    "## Model selection (train = 8:2로 진행, random states = 0xC0FFEE)\n",
    "   - Kfold 사용 후 모델링 진행하여 오버피팅 방지하고 모델 성능 평가\n",
    "   - **XGBoost**, LGBM, Catboost \n",
    "    \n",
    "- [ ] **overfitting check : kflod**\n",
    "- [ ] **undersampling check : Confusion matrix**\n",
    "- [ ] **hyper-parameter tuning : gridsearchCV**\n",
    "\n",
    "\n",
    "(전체)데이터 특성에 맞는 모델을 찾고 -> 하이퍼파라미터 튜닝! -> 마지막에 그리드서치로 최적의 파라미터 찾아준다! => 최대한 다양한 모델을 아는것이 중요\n",
    "\n",
    "\n",
    "**Evaluation**\n",
    "- ROC curve\n",
    "- TransactionID(PK) \n",
    "- isFraud (**Target, 사기 거래일 확률 예측**)"
   ]
  },
  {
   "cell_type": "markdown",
   "id": "a43b7744",
   "metadata": {},
   "source": [
    "## 추가! 성능을 높이기 위해 해야할 일!\n",
    "\n",
    "1. [ ] feature importance ->  feature 수정해보면서 성능비교\n",
    "2. [ ] undersampling -> 성능비교\n",
    "3. [ ] **Confusion matrix (undersampling 전 vs undersmpling 후)비교해보기**\n",
    "    - 01-naive_bayes & 09-classification-실습 :  이재원강사님 자료 참고\n",
    "4. [ ] hyper-parameter tuning: gridsearchCV(마지막) or KFold(CV) partial : optuna를 사용하기 위함\n",
    "    - 👍🏻Chapter.06 실전 머신러닝 프로젝트_Mercedes-Benz : 김용담강사님 자료 참고\n",
    "    - 최적의 모델을 찾을때 -> 보통 모델 학습 시 train과 validation을 나눠 train학습 후 validation으로 검증함<br>\n",
    "        - kflod, pipeline, optuna => 전체 데이터 값인지, validation을 나눈 뒤 train 값인지 궁금, validation을 나눈 뒤 trian값을 넣는다고 생각해도 validation으로 검증을 하지 않는 것 같기도 함 -> 뭐가 맞지? 🤷🏻‍♀️"
   ]
  },
  {
   "cell_type": "markdown",
   "id": "daddd221",
   "metadata": {},
   "source": [
    "**feedback**\n",
    "- 이모델에서 뭐가 좋을지...?\n",
    "\n",
    "- 각자 코드 공유, predicted의 확률 이용해서 앙상블\n",
    "\n",
    "- 각자의 모델에서 합치는 방법은 **앙상블(hard, soft voting)**사용!\n",
    "\n",
    "- 구현 : Django말고 flask, fastAPI"
   ]
  },
  {
   "cell_type": "markdown",
   "id": "50c4ffc2",
   "metadata": {},
   "source": [
    "**전체 dataframe 확인하기**\n",
    "```\n",
    "pd.options.display.max_rows = 500\n",
    "pd.options.display.max_columns = 2\n",
    "용량 많이 차지함\n",
    "```"
   ]
  },
  {
   "cell_type": "markdown",
   "id": "46e5adae",
   "metadata": {},
   "source": [
    "# 필요한 라이브러리 & 데이터 불러오기"
   ]
  },
  {
   "cell_type": "code",
   "execution_count": 1,
   "id": "556c311d",
   "metadata": {},
   "outputs": [
    {
     "name": "stdout",
     "output_type": "stream",
     "text": [
      "['JH_submission(0.89).csv', 'train_labelencoding.csv', '.DS_Store', 'test_labelencoding.csv', 'README.md']\n"
     ]
    }
   ],
   "source": [
    "import pandas as pd  # data processing, CSV file I/O (e.g. pd.read_csv)\n",
    "import numpy as np   # linear algebra\n",
    "import seaborn as sns\n",
    "import matplotlib.pyplot as plt\n",
    "import scipy as sp\n",
    "from scipy import stats\n",
    "import missingno as msno\n",
    "import warnings\n",
    "warnings.filterwarnings('ignore')\n",
    "\n",
    "# 모델들, 성능 평가\n",
    "# (저는 일반적으로 정형데이터로 머신러닝 분석할 때는 이 2개 모델은 그냥 돌려봅니다. 특히 RF가 테스트하기 좋습니다.)\n",
    "from sklearn.ensemble import RandomForestRegressor\n",
    "from lightgbm.sklearn import LGBMRegressor\n",
    "import xgboost as xgb\n",
    "import lightgbm as lgb\n",
    "from sklearn.svm import SVC\n",
    "from sklearn.neighbors import NearestNeighbors\n",
    "from sklearn.ensemble import AdaBoostClassifier\n",
    "from sklearn.model_selection import StratifiedKFold\n",
    "from sklearn.linear_model import LogisticRegression\n",
    "from sklearn.metrics import roc_auc_score\n",
    "import sklearn \n",
    "from sklearn import linear_model\n",
    "from sklearn.feature_selection import RFE\n",
    "from sklearn.inspection import permutation_importance\n",
    "\n",
    "# KFold(CV), partial : optuna를 사용하기 위함\n",
    "from sklearn.model_selection import KFold\n",
    "from functools import partial\n",
    "\n",
    "# hyper-parameter tuning을 위한 라이브러리, optuna\n",
    "import optuna\n",
    "\n",
    "import os\n",
    "import gc\n",
    "print(os.listdir(\"/Users/goeun/Documents/YearDream/MiniProJect/6월_ML/ieee-fraud-detection(git)/mini_pjt_modeling/project/data/extracted/\"))"
   ]
  },
  {
   "cell_type": "code",
   "execution_count": 2,
   "id": "eaf530dd",
   "metadata": {},
   "outputs": [],
   "source": [
    "base_path = '/Users/goeun/Documents/YearDream/MiniProJect/6월_ML/ieee-fraud-detection(git)/mini_pjt_modeling/project/data/extracted/'\n",
    "base_path2 = '/Users/goeun/Documents/YearDream/MiniProJect/6월_ML/ieee-fraud-detection(git)/mini_pjt_modeling/project/data/raw/'\n",
    "\n",
    "train = pd.read_csv(base_path2 +'train.csv')\n",
    "test = pd.read_csv(base_path2 +'test.csv')\n",
    "\n",
    "submission = pd.read_csv(base_path2 + 'sample_submission.csv')"
   ]
  },
  {
   "cell_type": "code",
   "execution_count": 3,
   "id": "1ba134fe",
   "metadata": {},
   "outputs": [],
   "source": [
    "test.columns = [col.replace('-','_')for col in test.columns]   "
   ]
  },
  {
   "cell_type": "code",
   "execution_count": 4,
   "id": "3685a920",
   "metadata": {},
   "outputs": [],
   "source": [
    "# flag setting\n",
    "\n",
    "feature_reducing = \"feature_importance\" # \"correlation\" / \"feature_importance\" / \"PCA\""
   ]
  },
  {
   "cell_type": "code",
   "execution_count": 5,
   "id": "2fdf2004",
   "metadata": {},
   "outputs": [
    {
     "data": {
      "text/plain": [
       "((590540, 434), (506691, 433), (506691, 2))"
      ]
     },
     "execution_count": 5,
     "metadata": {},
     "output_type": "execute_result"
    }
   ],
   "source": [
    "# shape 확인\n",
    "train.shape, test.shape, submission.shape"
   ]
  },
  {
   "cell_type": "code",
   "execution_count": 6,
   "id": "6c1e49da",
   "metadata": {},
   "outputs": [
    {
     "data": {
      "text/plain": [
       "(256294360, 219397203, 1013382)"
      ]
     },
     "execution_count": 6,
     "metadata": {},
     "output_type": "execute_result"
    }
   ],
   "source": [
    "# total cells\n",
    "np.product(train.shape),np.product(test.shape), np.product(submission.shape)"
   ]
  },
  {
   "cell_type": "markdown",
   "id": "acf45929",
   "metadata": {},
   "source": [
    "### train & test  확인"
   ]
  },
  {
   "cell_type": "code",
   "execution_count": 5,
   "id": "60968e09",
   "metadata": {},
   "outputs": [
    {
     "data": {
      "text/html": [
       "<div>\n",
       "<style scoped>\n",
       "    .dataframe tbody tr th:only-of-type {\n",
       "        vertical-align: middle;\n",
       "    }\n",
       "\n",
       "    .dataframe tbody tr th {\n",
       "        vertical-align: top;\n",
       "    }\n",
       "\n",
       "    .dataframe thead th {\n",
       "        text-align: right;\n",
       "    }\n",
       "</style>\n",
       "<table border=\"1\" class=\"dataframe\">\n",
       "  <thead>\n",
       "    <tr style=\"text-align: right;\">\n",
       "      <th></th>\n",
       "      <th>TransactionID</th>\n",
       "      <th>isFraud</th>\n",
       "      <th>TransactionDT</th>\n",
       "      <th>TransactionAmt</th>\n",
       "      <th>ProductCD</th>\n",
       "      <th>card1</th>\n",
       "      <th>card2</th>\n",
       "      <th>card3</th>\n",
       "      <th>card4</th>\n",
       "      <th>card5</th>\n",
       "      <th>...</th>\n",
       "      <th>id_31</th>\n",
       "      <th>id_32</th>\n",
       "      <th>id_33</th>\n",
       "      <th>id_34</th>\n",
       "      <th>id_35</th>\n",
       "      <th>id_36</th>\n",
       "      <th>id_37</th>\n",
       "      <th>id_38</th>\n",
       "      <th>DeviceType</th>\n",
       "      <th>DeviceInfo</th>\n",
       "    </tr>\n",
       "  </thead>\n",
       "  <tbody>\n",
       "    <tr>\n",
       "      <th>0</th>\n",
       "      <td>2987000</td>\n",
       "      <td>0</td>\n",
       "      <td>86400</td>\n",
       "      <td>68.5</td>\n",
       "      <td>W</td>\n",
       "      <td>13926</td>\n",
       "      <td>NaN</td>\n",
       "      <td>150.0</td>\n",
       "      <td>discover</td>\n",
       "      <td>142.0</td>\n",
       "      <td>...</td>\n",
       "      <td>NaN</td>\n",
       "      <td>NaN</td>\n",
       "      <td>NaN</td>\n",
       "      <td>NaN</td>\n",
       "      <td>NaN</td>\n",
       "      <td>NaN</td>\n",
       "      <td>NaN</td>\n",
       "      <td>NaN</td>\n",
       "      <td>NaN</td>\n",
       "      <td>NaN</td>\n",
       "    </tr>\n",
       "    <tr>\n",
       "      <th>1</th>\n",
       "      <td>2987001</td>\n",
       "      <td>0</td>\n",
       "      <td>86401</td>\n",
       "      <td>29.0</td>\n",
       "      <td>W</td>\n",
       "      <td>2755</td>\n",
       "      <td>404.0</td>\n",
       "      <td>150.0</td>\n",
       "      <td>mastercard</td>\n",
       "      <td>102.0</td>\n",
       "      <td>...</td>\n",
       "      <td>NaN</td>\n",
       "      <td>NaN</td>\n",
       "      <td>NaN</td>\n",
       "      <td>NaN</td>\n",
       "      <td>NaN</td>\n",
       "      <td>NaN</td>\n",
       "      <td>NaN</td>\n",
       "      <td>NaN</td>\n",
       "      <td>NaN</td>\n",
       "      <td>NaN</td>\n",
       "    </tr>\n",
       "  </tbody>\n",
       "</table>\n",
       "<p>2 rows × 434 columns</p>\n",
       "</div>"
      ],
      "text/plain": [
       "   TransactionID  isFraud  TransactionDT  TransactionAmt ProductCD  card1  \\\n",
       "0        2987000        0          86400            68.5         W  13926   \n",
       "1        2987001        0          86401            29.0         W   2755   \n",
       "\n",
       "   card2  card3       card4  card5  ... id_31  id_32  id_33  id_34  id_35  \\\n",
       "0    NaN  150.0    discover  142.0  ...   NaN    NaN    NaN    NaN    NaN   \n",
       "1  404.0  150.0  mastercard  102.0  ...   NaN    NaN    NaN    NaN    NaN   \n",
       "\n",
       "  id_36 id_37  id_38  DeviceType  DeviceInfo  \n",
       "0   NaN   NaN    NaN         NaN         NaN  \n",
       "1   NaN   NaN    NaN         NaN         NaN  \n",
       "\n",
       "[2 rows x 434 columns]"
      ]
     },
     "metadata": {},
     "output_type": "display_data"
    },
    {
     "data": {
      "text/html": [
       "<div>\n",
       "<style scoped>\n",
       "    .dataframe tbody tr th:only-of-type {\n",
       "        vertical-align: middle;\n",
       "    }\n",
       "\n",
       "    .dataframe tbody tr th {\n",
       "        vertical-align: top;\n",
       "    }\n",
       "\n",
       "    .dataframe thead th {\n",
       "        text-align: right;\n",
       "    }\n",
       "</style>\n",
       "<table border=\"1\" class=\"dataframe\">\n",
       "  <thead>\n",
       "    <tr style=\"text-align: right;\">\n",
       "      <th></th>\n",
       "      <th>TransactionID</th>\n",
       "      <th>isFraud</th>\n",
       "      <th>TransactionDT</th>\n",
       "      <th>TransactionAmt</th>\n",
       "      <th>ProductCD</th>\n",
       "      <th>card1</th>\n",
       "      <th>card2</th>\n",
       "      <th>card3</th>\n",
       "      <th>card4</th>\n",
       "      <th>card5</th>\n",
       "      <th>...</th>\n",
       "      <th>id_31</th>\n",
       "      <th>id_32</th>\n",
       "      <th>id_33</th>\n",
       "      <th>id_34</th>\n",
       "      <th>id_35</th>\n",
       "      <th>id_36</th>\n",
       "      <th>id_37</th>\n",
       "      <th>id_38</th>\n",
       "      <th>DeviceType</th>\n",
       "      <th>DeviceInfo</th>\n",
       "    </tr>\n",
       "  </thead>\n",
       "  <tbody>\n",
       "    <tr>\n",
       "      <th>590538</th>\n",
       "      <td>3577538</td>\n",
       "      <td>0</td>\n",
       "      <td>15811088</td>\n",
       "      <td>117.00</td>\n",
       "      <td>W</td>\n",
       "      <td>7826</td>\n",
       "      <td>481.0</td>\n",
       "      <td>150.0</td>\n",
       "      <td>mastercard</td>\n",
       "      <td>224.0</td>\n",
       "      <td>...</td>\n",
       "      <td>NaN</td>\n",
       "      <td>NaN</td>\n",
       "      <td>NaN</td>\n",
       "      <td>NaN</td>\n",
       "      <td>NaN</td>\n",
       "      <td>NaN</td>\n",
       "      <td>NaN</td>\n",
       "      <td>NaN</td>\n",
       "      <td>NaN</td>\n",
       "      <td>NaN</td>\n",
       "    </tr>\n",
       "    <tr>\n",
       "      <th>590539</th>\n",
       "      <td>3577539</td>\n",
       "      <td>0</td>\n",
       "      <td>15811131</td>\n",
       "      <td>279.95</td>\n",
       "      <td>W</td>\n",
       "      <td>15066</td>\n",
       "      <td>170.0</td>\n",
       "      <td>150.0</td>\n",
       "      <td>mastercard</td>\n",
       "      <td>102.0</td>\n",
       "      <td>...</td>\n",
       "      <td>NaN</td>\n",
       "      <td>NaN</td>\n",
       "      <td>NaN</td>\n",
       "      <td>NaN</td>\n",
       "      <td>NaN</td>\n",
       "      <td>NaN</td>\n",
       "      <td>NaN</td>\n",
       "      <td>NaN</td>\n",
       "      <td>NaN</td>\n",
       "      <td>NaN</td>\n",
       "    </tr>\n",
       "  </tbody>\n",
       "</table>\n",
       "<p>2 rows × 434 columns</p>\n",
       "</div>"
      ],
      "text/plain": [
       "        TransactionID  isFraud  TransactionDT  TransactionAmt ProductCD  \\\n",
       "590538        3577538        0       15811088          117.00         W   \n",
       "590539        3577539        0       15811131          279.95         W   \n",
       "\n",
       "        card1  card2  card3       card4  card5  ... id_31  id_32  id_33  \\\n",
       "590538   7826  481.0  150.0  mastercard  224.0  ...   NaN    NaN    NaN   \n",
       "590539  15066  170.0  150.0  mastercard  102.0  ...   NaN    NaN    NaN   \n",
       "\n",
       "        id_34  id_35 id_36 id_37  id_38  DeviceType  DeviceInfo  \n",
       "590538    NaN    NaN   NaN   NaN    NaN         NaN         NaN  \n",
       "590539    NaN    NaN   NaN   NaN    NaN         NaN         NaN  \n",
       "\n",
       "[2 rows x 434 columns]"
      ]
     },
     "metadata": {},
     "output_type": "display_data"
    }
   ],
   "source": [
    "# print(train.info(verbose=True, null_counts=True))\n",
    "\n",
    "display(train.head(2))\n",
    "display(train.tail(2))"
   ]
  },
  {
   "cell_type": "code",
   "execution_count": 6,
   "id": "e9c0639c",
   "metadata": {},
   "outputs": [
    {
     "data": {
      "text/html": [
       "<div>\n",
       "<style scoped>\n",
       "    .dataframe tbody tr th:only-of-type {\n",
       "        vertical-align: middle;\n",
       "    }\n",
       "\n",
       "    .dataframe tbody tr th {\n",
       "        vertical-align: top;\n",
       "    }\n",
       "\n",
       "    .dataframe thead th {\n",
       "        text-align: right;\n",
       "    }\n",
       "</style>\n",
       "<table border=\"1\" class=\"dataframe\">\n",
       "  <thead>\n",
       "    <tr style=\"text-align: right;\">\n",
       "      <th></th>\n",
       "      <th>TransactionID</th>\n",
       "      <th>TransactionDT</th>\n",
       "      <th>TransactionAmt</th>\n",
       "      <th>ProductCD</th>\n",
       "      <th>card1</th>\n",
       "      <th>card2</th>\n",
       "      <th>card3</th>\n",
       "      <th>card4</th>\n",
       "      <th>card5</th>\n",
       "      <th>card6</th>\n",
       "      <th>...</th>\n",
       "      <th>id_31</th>\n",
       "      <th>id_32</th>\n",
       "      <th>id_33</th>\n",
       "      <th>id_34</th>\n",
       "      <th>id_35</th>\n",
       "      <th>id_36</th>\n",
       "      <th>id_37</th>\n",
       "      <th>id_38</th>\n",
       "      <th>DeviceType</th>\n",
       "      <th>DeviceInfo</th>\n",
       "    </tr>\n",
       "  </thead>\n",
       "  <tbody>\n",
       "    <tr>\n",
       "      <th>0</th>\n",
       "      <td>3663549</td>\n",
       "      <td>18403224</td>\n",
       "      <td>31.95</td>\n",
       "      <td>W</td>\n",
       "      <td>10409</td>\n",
       "      <td>111.0</td>\n",
       "      <td>150.0</td>\n",
       "      <td>visa</td>\n",
       "      <td>226.0</td>\n",
       "      <td>debit</td>\n",
       "      <td>...</td>\n",
       "      <td>NaN</td>\n",
       "      <td>NaN</td>\n",
       "      <td>NaN</td>\n",
       "      <td>NaN</td>\n",
       "      <td>NaN</td>\n",
       "      <td>NaN</td>\n",
       "      <td>NaN</td>\n",
       "      <td>NaN</td>\n",
       "      <td>NaN</td>\n",
       "      <td>NaN</td>\n",
       "    </tr>\n",
       "    <tr>\n",
       "      <th>1</th>\n",
       "      <td>3663550</td>\n",
       "      <td>18403263</td>\n",
       "      <td>49.00</td>\n",
       "      <td>W</td>\n",
       "      <td>4272</td>\n",
       "      <td>111.0</td>\n",
       "      <td>150.0</td>\n",
       "      <td>visa</td>\n",
       "      <td>226.0</td>\n",
       "      <td>debit</td>\n",
       "      <td>...</td>\n",
       "      <td>NaN</td>\n",
       "      <td>NaN</td>\n",
       "      <td>NaN</td>\n",
       "      <td>NaN</td>\n",
       "      <td>NaN</td>\n",
       "      <td>NaN</td>\n",
       "      <td>NaN</td>\n",
       "      <td>NaN</td>\n",
       "      <td>NaN</td>\n",
       "      <td>NaN</td>\n",
       "    </tr>\n",
       "  </tbody>\n",
       "</table>\n",
       "<p>2 rows × 433 columns</p>\n",
       "</div>"
      ],
      "text/plain": [
       "   TransactionID  TransactionDT  TransactionAmt ProductCD  card1  card2  \\\n",
       "0        3663549       18403224           31.95         W  10409  111.0   \n",
       "1        3663550       18403263           49.00         W   4272  111.0   \n",
       "\n",
       "   card3 card4  card5  card6  ...  id_31  id_32  id_33  id_34 id_35 id_36  \\\n",
       "0  150.0  visa  226.0  debit  ...    NaN    NaN    NaN    NaN   NaN   NaN   \n",
       "1  150.0  visa  226.0  debit  ...    NaN    NaN    NaN    NaN   NaN   NaN   \n",
       "\n",
       "   id_37  id_38  DeviceType  DeviceInfo  \n",
       "0    NaN    NaN         NaN         NaN  \n",
       "1    NaN    NaN         NaN         NaN  \n",
       "\n",
       "[2 rows x 433 columns]"
      ]
     },
     "metadata": {},
     "output_type": "display_data"
    },
    {
     "data": {
      "text/html": [
       "<div>\n",
       "<style scoped>\n",
       "    .dataframe tbody tr th:only-of-type {\n",
       "        vertical-align: middle;\n",
       "    }\n",
       "\n",
       "    .dataframe tbody tr th {\n",
       "        vertical-align: top;\n",
       "    }\n",
       "\n",
       "    .dataframe thead th {\n",
       "        text-align: right;\n",
       "    }\n",
       "</style>\n",
       "<table border=\"1\" class=\"dataframe\">\n",
       "  <thead>\n",
       "    <tr style=\"text-align: right;\">\n",
       "      <th></th>\n",
       "      <th>TransactionID</th>\n",
       "      <th>TransactionDT</th>\n",
       "      <th>TransactionAmt</th>\n",
       "      <th>ProductCD</th>\n",
       "      <th>card1</th>\n",
       "      <th>card2</th>\n",
       "      <th>card3</th>\n",
       "      <th>card4</th>\n",
       "      <th>card5</th>\n",
       "      <th>card6</th>\n",
       "      <th>...</th>\n",
       "      <th>id_31</th>\n",
       "      <th>id_32</th>\n",
       "      <th>id_33</th>\n",
       "      <th>id_34</th>\n",
       "      <th>id_35</th>\n",
       "      <th>id_36</th>\n",
       "      <th>id_37</th>\n",
       "      <th>id_38</th>\n",
       "      <th>DeviceType</th>\n",
       "      <th>DeviceInfo</th>\n",
       "    </tr>\n",
       "  </thead>\n",
       "  <tbody>\n",
       "    <tr>\n",
       "      <th>506689</th>\n",
       "      <td>4170238</td>\n",
       "      <td>34214337</td>\n",
       "      <td>202.000</td>\n",
       "      <td>W</td>\n",
       "      <td>16621</td>\n",
       "      <td>516.0</td>\n",
       "      <td>150.0</td>\n",
       "      <td>mastercard</td>\n",
       "      <td>224.0</td>\n",
       "      <td>debit</td>\n",
       "      <td>...</td>\n",
       "      <td>NaN</td>\n",
       "      <td>NaN</td>\n",
       "      <td>NaN</td>\n",
       "      <td>NaN</td>\n",
       "      <td>NaN</td>\n",
       "      <td>NaN</td>\n",
       "      <td>NaN</td>\n",
       "      <td>NaN</td>\n",
       "      <td>NaN</td>\n",
       "      <td>NaN</td>\n",
       "    </tr>\n",
       "    <tr>\n",
       "      <th>506690</th>\n",
       "      <td>4170239</td>\n",
       "      <td>34214345</td>\n",
       "      <td>24.346</td>\n",
       "      <td>C</td>\n",
       "      <td>5713</td>\n",
       "      <td>168.0</td>\n",
       "      <td>144.0</td>\n",
       "      <td>visa</td>\n",
       "      <td>147.0</td>\n",
       "      <td>credit</td>\n",
       "      <td>...</td>\n",
       "      <td>samsung browser 8.2</td>\n",
       "      <td>NaN</td>\n",
       "      <td>NaN</td>\n",
       "      <td>NaN</td>\n",
       "      <td>F</td>\n",
       "      <td>F</td>\n",
       "      <td>T</td>\n",
       "      <td>F</td>\n",
       "      <td>mobile</td>\n",
       "      <td>SAMSUNG</td>\n",
       "    </tr>\n",
       "  </tbody>\n",
       "</table>\n",
       "<p>2 rows × 433 columns</p>\n",
       "</div>"
      ],
      "text/plain": [
       "        TransactionID  TransactionDT  TransactionAmt ProductCD  card1  card2  \\\n",
       "506689        4170238       34214337         202.000         W  16621  516.0   \n",
       "506690        4170239       34214345          24.346         C   5713  168.0   \n",
       "\n",
       "        card3       card4  card5   card6  ...                id_31  id_32  \\\n",
       "506689  150.0  mastercard  224.0   debit  ...                  NaN    NaN   \n",
       "506690  144.0        visa  147.0  credit  ...  samsung browser 8.2    NaN   \n",
       "\n",
       "        id_33  id_34 id_35 id_36  id_37  id_38  DeviceType  DeviceInfo  \n",
       "506689    NaN    NaN   NaN   NaN    NaN    NaN         NaN         NaN  \n",
       "506690    NaN    NaN     F     F      T      F      mobile     SAMSUNG  \n",
       "\n",
       "[2 rows x 433 columns]"
      ]
     },
     "metadata": {},
     "output_type": "display_data"
    }
   ],
   "source": [
    "display(test.head(2))\n",
    "display(test.tail(2))"
   ]
  },
  {
   "cell_type": "code",
   "execution_count": 6,
   "id": "93bbb3ed",
   "metadata": {},
   "outputs": [],
   "source": [
    "def resumetable(df):\n",
    "    print(f\"Dataset Shape: {df.shape}\")\n",
    "    summary = pd.DataFrame(df.dtypes,columns=['dtypes'])\n",
    "    summary = summary.reset_index()\n",
    "    summary['Name'] = summary['index']\n",
    "    summary = summary[['Name','dtypes']]\n",
    "    summary['Missing'] = df.isnull().sum().values    \n",
    "    summary['Uniques'] = df.nunique().values\n",
    "    summary['First Value'] = df.loc[0].values\n",
    "    summary['Second Value'] = df.loc[1].values\n",
    "    summary['Third Value'] = df.loc[2].values\n",
    "\n",
    "    for name in summary['Name'].value_counts().index:\n",
    "        summary.loc[summary['Name'] == name, 'Entropy'] = round(stats.entropy(df[name].value_counts(normalize=True), base=2),2) \n",
    "\n",
    "    return summary\n",
    "\n",
    "def reduce_mem_usage(df, verbose=True):\n",
    "    numerics = ['int16', 'int32', 'int64', 'float16', 'float32', 'float64']\n",
    "    start_mem = df.memory_usage().sum() / 1024**2    \n",
    "    for col in df.columns:\n",
    "        col_type = df[col].dtypes\n",
    "        if col_type in numerics:\n",
    "            c_min = df[col].min()\n",
    "            c_max = df[col].max()\n",
    "            if str(col_type)[:3] == 'int':\n",
    "                if c_min > np.iinfo(np.int8).min and c_max < np.iinfo(np.int8).max:\n",
    "                    df[col] = df[col].astype(np.int8)\n",
    "                elif c_min > np.iinfo(np.int16).min and c_max < np.iinfo(np.int16).max:\n",
    "                    df[col] = df[col].astype(np.int16)\n",
    "                elif c_min > np.iinfo(np.int32).min and c_max < np.iinfo(np.int32).max:\n",
    "                    df[col] = df[col].astype(np.int32)\n",
    "                elif c_min > np.iinfo(np.int64).min and c_max < np.iinfo(np.int64).max:\n",
    "                    df[col] = df[col].astype(np.int64)  \n",
    "            else:\n",
    "                if c_min > np.finfo(np.float16).min and c_max < np.finfo(np.float16).max:\n",
    "                    df[col] = df[col].astype(np.float16)\n",
    "                elif c_min > np.finfo(np.float32).min and c_max < np.finfo(np.float32).max:\n",
    "                    df[col] = df[col].astype(np.float32)\n",
    "                else:\n",
    "                    df[col] = df[col].astype(np.float64)    \n",
    "    end_mem = df.memory_usage().sum() / 1024**2\n",
    "    if verbose: print('Mem. usage decreased to {:5.2f} Mb ({:.1f}% reduction)'.format(end_mem, 100 * (start_mem - end_mem) / start_mem))\n",
    "    return df\n",
    "# TransactionAmt, card, emaildomain, V"
   ]
  },
  {
   "cell_type": "code",
   "execution_count": 9,
   "id": "bfb7a200",
   "metadata": {},
   "outputs": [],
   "source": [
    "## REducing memory\n",
    "# train = reduce_mem_usage(train)\n",
    "# test = reduce_mem_usage(test)"
   ]
  },
  {
   "cell_type": "code",
   "execution_count": 10,
   "id": "31b59af2",
   "metadata": {},
   "outputs": [
    {
     "name": "stdout",
     "output_type": "stream",
     "text": [
      "Dataset Shape: (590540, 434)\n"
     ]
    },
    {
     "data": {
      "text/html": [
       "<div>\n",
       "<style scoped>\n",
       "    .dataframe tbody tr th:only-of-type {\n",
       "        vertical-align: middle;\n",
       "    }\n",
       "\n",
       "    .dataframe tbody tr th {\n",
       "        vertical-align: top;\n",
       "    }\n",
       "\n",
       "    .dataframe thead th {\n",
       "        text-align: right;\n",
       "    }\n",
       "</style>\n",
       "<table border=\"1\" class=\"dataframe\">\n",
       "  <thead>\n",
       "    <tr style=\"text-align: right;\">\n",
       "      <th></th>\n",
       "      <th>Name</th>\n",
       "      <th>dtypes</th>\n",
       "      <th>Missing</th>\n",
       "      <th>Uniques</th>\n",
       "      <th>First Value</th>\n",
       "      <th>Second Value</th>\n",
       "      <th>Third Value</th>\n",
       "      <th>Entropy</th>\n",
       "    </tr>\n",
       "  </thead>\n",
       "  <tbody>\n",
       "    <tr>\n",
       "      <th>0</th>\n",
       "      <td>TransactionID</td>\n",
       "      <td>int64</td>\n",
       "      <td>0</td>\n",
       "      <td>590540</td>\n",
       "      <td>2987000</td>\n",
       "      <td>2987001</td>\n",
       "      <td>2987002</td>\n",
       "      <td>19.17</td>\n",
       "    </tr>\n",
       "    <tr>\n",
       "      <th>1</th>\n",
       "      <td>isFraud</td>\n",
       "      <td>int64</td>\n",
       "      <td>0</td>\n",
       "      <td>2</td>\n",
       "      <td>0</td>\n",
       "      <td>0</td>\n",
       "      <td>0</td>\n",
       "      <td>0.22</td>\n",
       "    </tr>\n",
       "    <tr>\n",
       "      <th>2</th>\n",
       "      <td>TransactionDT</td>\n",
       "      <td>int64</td>\n",
       "      <td>0</td>\n",
       "      <td>573349</td>\n",
       "      <td>86400</td>\n",
       "      <td>86401</td>\n",
       "      <td>86469</td>\n",
       "      <td>19.11</td>\n",
       "    </tr>\n",
       "    <tr>\n",
       "      <th>3</th>\n",
       "      <td>TransactionAmt</td>\n",
       "      <td>float64</td>\n",
       "      <td>0</td>\n",
       "      <td>20902</td>\n",
       "      <td>68.5</td>\n",
       "      <td>29.0</td>\n",
       "      <td>59.0</td>\n",
       "      <td>8.35</td>\n",
       "    </tr>\n",
       "    <tr>\n",
       "      <th>4</th>\n",
       "      <td>ProductCD</td>\n",
       "      <td>object</td>\n",
       "      <td>0</td>\n",
       "      <td>5</td>\n",
       "      <td>W</td>\n",
       "      <td>W</td>\n",
       "      <td>W</td>\n",
       "      <td>1.28</td>\n",
       "    </tr>\n",
       "  </tbody>\n",
       "</table>\n",
       "</div>"
      ],
      "text/plain": [
       "             Name   dtypes  Missing  Uniques First Value Second Value  \\\n",
       "0   TransactionID    int64        0   590540     2987000      2987001   \n",
       "1         isFraud    int64        0        2           0            0   \n",
       "2   TransactionDT    int64        0   573349       86400        86401   \n",
       "3  TransactionAmt  float64        0    20902        68.5         29.0   \n",
       "4       ProductCD   object        0        5           W            W   \n",
       "\n",
       "  Third Value  Entropy  \n",
       "0     2987002    19.17  \n",
       "1           0     0.22  \n",
       "2       86469    19.11  \n",
       "3        59.0     8.35  \n",
       "4           W     1.28  "
      ]
     },
     "execution_count": 10,
     "metadata": {},
     "output_type": "execute_result"
    }
   ],
   "source": [
    "resumetable(train)[:5]"
   ]
  },
  {
   "cell_type": "code",
   "execution_count": 11,
   "id": "47738e49",
   "metadata": {
    "scrolled": true
   },
   "outputs": [
    {
     "name": "stdout",
     "output_type": "stream",
     "text": [
      "Dataset Shape: (506691, 433)\n"
     ]
    },
    {
     "data": {
      "text/html": [
       "<div>\n",
       "<style scoped>\n",
       "    .dataframe tbody tr th:only-of-type {\n",
       "        vertical-align: middle;\n",
       "    }\n",
       "\n",
       "    .dataframe tbody tr th {\n",
       "        vertical-align: top;\n",
       "    }\n",
       "\n",
       "    .dataframe thead th {\n",
       "        text-align: right;\n",
       "    }\n",
       "</style>\n",
       "<table border=\"1\" class=\"dataframe\">\n",
       "  <thead>\n",
       "    <tr style=\"text-align: right;\">\n",
       "      <th></th>\n",
       "      <th>Name</th>\n",
       "      <th>dtypes</th>\n",
       "      <th>Missing</th>\n",
       "      <th>Uniques</th>\n",
       "      <th>First Value</th>\n",
       "      <th>Second Value</th>\n",
       "      <th>Third Value</th>\n",
       "      <th>Entropy</th>\n",
       "    </tr>\n",
       "  </thead>\n",
       "  <tbody>\n",
       "    <tr>\n",
       "      <th>0</th>\n",
       "      <td>TransactionID</td>\n",
       "      <td>int64</td>\n",
       "      <td>0</td>\n",
       "      <td>506691</td>\n",
       "      <td>3663549</td>\n",
       "      <td>3663550</td>\n",
       "      <td>3663551</td>\n",
       "      <td>18.95</td>\n",
       "    </tr>\n",
       "    <tr>\n",
       "      <th>1</th>\n",
       "      <td>TransactionDT</td>\n",
       "      <td>int64</td>\n",
       "      <td>0</td>\n",
       "      <td>494686</td>\n",
       "      <td>18403224</td>\n",
       "      <td>18403263</td>\n",
       "      <td>18403310</td>\n",
       "      <td>18.90</td>\n",
       "    </tr>\n",
       "    <tr>\n",
       "      <th>2</th>\n",
       "      <td>TransactionAmt</td>\n",
       "      <td>float64</td>\n",
       "      <td>0</td>\n",
       "      <td>14119</td>\n",
       "      <td>31.95</td>\n",
       "      <td>49.0</td>\n",
       "      <td>171.0</td>\n",
       "      <td>8.08</td>\n",
       "    </tr>\n",
       "    <tr>\n",
       "      <th>3</th>\n",
       "      <td>ProductCD</td>\n",
       "      <td>object</td>\n",
       "      <td>0</td>\n",
       "      <td>5</td>\n",
       "      <td>W</td>\n",
       "      <td>W</td>\n",
       "      <td>W</td>\n",
       "      <td>1.37</td>\n",
       "    </tr>\n",
       "    <tr>\n",
       "      <th>4</th>\n",
       "      <td>card1</td>\n",
       "      <td>int64</td>\n",
       "      <td>0</td>\n",
       "      <td>13244</td>\n",
       "      <td>10409</td>\n",
       "      <td>4272</td>\n",
       "      <td>4476</td>\n",
       "      <td>9.95</td>\n",
       "    </tr>\n",
       "  </tbody>\n",
       "</table>\n",
       "</div>"
      ],
      "text/plain": [
       "             Name   dtypes  Missing  Uniques First Value Second Value  \\\n",
       "0   TransactionID    int64        0   506691     3663549      3663550   \n",
       "1   TransactionDT    int64        0   494686    18403224     18403263   \n",
       "2  TransactionAmt  float64        0    14119       31.95         49.0   \n",
       "3       ProductCD   object        0        5           W            W   \n",
       "4           card1    int64        0    13244       10409         4272   \n",
       "\n",
       "  Third Value  Entropy  \n",
       "0     3663551    18.95  \n",
       "1    18403310    18.90  \n",
       "2       171.0     8.08  \n",
       "3           W     1.37  \n",
       "4        4476     9.95  "
      ]
     },
     "execution_count": 11,
     "metadata": {},
     "output_type": "execute_result"
    }
   ],
   "source": [
    "resumetable(test)[:5]"
   ]
  },
  {
   "cell_type": "code",
   "execution_count": 12,
   "id": "5745dac0",
   "metadata": {},
   "outputs": [],
   "source": [
    "# train.info(verbose=True, null_counts=True)\n",
    "# test.info(verbose=True, null_counts=True) "
   ]
  },
  {
   "cell_type": "markdown",
   "id": "a07af989",
   "metadata": {},
   "source": [
    "### isFraud(traget)"
   ]
  },
  {
   "cell_type": "code",
   "execution_count": 7,
   "id": "d6f869a4",
   "metadata": {
    "scrolled": true
   },
   "outputs": [
    {
     "data": {
      "text/plain": [
       "0"
      ]
     },
     "execution_count": 7,
     "metadata": {},
     "output_type": "execute_result"
    }
   ],
   "source": [
    "train.isFraud.isna().sum()"
   ]
  },
  {
   "cell_type": "code",
   "execution_count": 8,
   "id": "222a452f",
   "metadata": {
    "scrolled": false
   },
   "outputs": [
    {
     "name": "stdout",
     "output_type": "stream",
     "text": [
      "0    569877\n",
      "1     20663\n",
      "Name: isFraud, dtype: int64\n"
     ]
    },
    {
     "data": {
      "image/png": "[encoded data removed]",
      "text/plain": [
       "<Figure size 432x288 with 1 Axes>"
      ]
     },
     "metadata": {},
     "output_type": "display_data"
    }
   ],
   "source": [
    "print(train.isFraud.value_counts())\n",
    "\n",
    "sns.set_theme(style=\"whitegrid\")\n",
    "tips = sns.load_dataset(\"tips\")\n",
    "ax = sns.barplot(x = train.isFraud.value_counts().index, y = train.isFraud.value_counts(), data=train)"
   ]
  },
  {
   "cell_type": "markdown",
   "id": "d4f57826",
   "metadata": {},
   "source": [
    "traget의 편차가 큼(타켓 불균형) -> **undersampling vs non-undersampling  성능 비교**"
   ]
  },
  {
   "cell_type": "markdown",
   "id": "978fe42d",
   "metadata": {},
   "source": [
    "# some feature engineering(new columns)"
   ]
  },
  {
   "cell_type": "code",
   "execution_count": 7,
   "id": "efd7c92f",
   "metadata": {},
   "outputs": [],
   "source": [
    "train['TransactionAmt_to_mean_card1'] = train['TransactionAmt'] / train.groupby(['card1'])['TransactionAmt'].transform('mean')\n",
    "train['TransactionAmt_to_mean_card4'] = train['TransactionAmt'] / train.groupby(['card4'])['TransactionAmt'].transform('mean')\n",
    "\n",
    "test['TransactionAmt_to_mean_card1'] = test['TransactionAmt'] / test.groupby(['card1'])['TransactionAmt'].transform('mean')\n",
    "test['TransactionAmt_to_mean_card4'] = test['TransactionAmt'] / test.groupby(['card4'])['TransactionAmt'].transform('mean')\n",
    "\n",
    "train['id_02_to_mean_card1'] = train['id_02'] / train.groupby(['card1'])['id_02'].transform('mean')\n",
    "train['id_02_to_mean_card4'] = train['id_02'] / train.groupby(['card4'])['id_02'].transform('mean')\n",
    "\n",
    "test['id_02_to_mean_card1'] = test['id_02'] / test.groupby(['card1'])['id_02'].transform('mean')\n",
    "test['id_02_to_mean_card4'] = test['id_02'] / test.groupby(['card4'])['id_02'].transform('mean')\n",
    "\n",
    "train['D15_to_mean_card1'] = train['D15'] / train.groupby(['card1'])['D15'].transform('mean')\n",
    "train['D15_to_mean_card4'] = train['D15'] / train.groupby(['card4'])['D15'].transform('mean')\n",
    "\n",
    "test['D15_to_mean_card1'] = test['D15'] / test.groupby(['card1'])['D15'].transform('mean')\n",
    "test['D15_to_mean_card4'] = test['D15'] / test.groupby(['card4'])['D15'].transform('mean')\n",
    "\n",
    "train['D15_to_mean_addr1'] = train['D15'] / train.groupby(['addr1'])['D15'].transform('mean')\n",
    "train['D15_to_mean_addr2'] = train['D15'] / train.groupby(['addr2'])['D15'].transform('mean')\n",
    "\n",
    "test['D15_to_mean_addr1'] = test['D15'] / test.groupby(['addr1'])['D15'].transform('mean')\n",
    "test['D15_to_mean_addr2'] = test['D15'] / test.groupby(['addr2'])['D15'].transform('mean')"
   ]
  },
  {
   "cell_type": "code",
   "execution_count": 8,
   "id": "df40d8d2",
   "metadata": {},
   "outputs": [],
   "source": [
    "train[['P_emaildomain_1', 'P_emaildomain_2', 'P_emaildomain_3']] = train['P_emaildomain'].str.split('.', expand=True)\n",
    "test[['P_emaildomain_1', 'P_emaildomain_2', 'P_emaildomain_3']] = test['P_emaildomain'].str.split('.', expand=True)"
   ]
  },
  {
   "cell_type": "code",
   "execution_count": 9,
   "id": "c52c54b4",
   "metadata": {},
   "outputs": [
    {
     "data": {
      "text/plain": [
       "((590540, 445), (506691, 444))"
      ]
     },
     "execution_count": 9,
     "metadata": {},
     "output_type": "execute_result"
    }
   ],
   "source": [
    "train.shape, test.shape"
   ]
  },
  {
   "cell_type": "code",
   "execution_count": 65,
   "id": "b94057a8",
   "metadata": {},
   "outputs": [],
   "source": [
    "# # train.describe().iloc[:, 400:]\n",
    "# test.describe().iloc[:,400:]"
   ]
  },
  {
   "cell_type": "markdown",
   "id": "f3a0ba2a",
   "metadata": {},
   "source": [
    "# missing value (컬럼drop(null_80%이상)) \n",
    "\n",
    "\n",
    "\n",
    "<font size=\"4.5\">EDA -> 나중에 통합 데이터[캐글 참고](https://www.kaggle.com/code/kabure/extensive-eda-and-modeling-xgb-hyperopt)</font>\n",
    " \n",
    "\n",
    "- nunique == 1 drop\n",
    "-  train.columns[(train.isna().sum() / len(train) > 0.2)]\n",
    "\n",
    "**\\[결측치 채우는 방법\\]**\n",
    "\n",
    "1. 행 또는 열 삭제\n",
    "2. **중앙값, 평균값**으로 대체\n",
    "3. XGboost / LightGBM\n",
    "4. K-NN\n",
    "5. MICE (Multivariate Imputation by Chained Equation)\n",
    "6. 딥러닝 이용"
   ]
  },
  {
   "cell_type": "code",
   "execution_count": 193,
   "id": "cf3b5fcf",
   "metadata": {},
   "outputs": [
    {
     "data": {
      "text/plain": [
       "V107    1\n",
       "dtype: int64"
      ]
     },
     "execution_count": 193,
     "metadata": {},
     "output_type": "execute_result"
    }
   ],
   "source": [
    "test.nunique()[test.nunique() ==1]"
   ]
  },
  {
   "cell_type": "code",
   "execution_count": 12,
   "id": "0b5a73a3",
   "metadata": {},
   "outputs": [],
   "source": [
    "test.drop(['V107'], axis = 1, inplace=True)"
   ]
  },
  {
   "cell_type": "code",
   "execution_count": 13,
   "id": "4bc18945",
   "metadata": {},
   "outputs": [],
   "source": [
    "def mypreprocess(df) :\n",
    "    dff_column_to_drop = df.columns[(df.isna().sum() / len(df) > 0.2)]\n",
    "    df = df.drop(columns=dff_column_to_drop).copy()   # 20% 이상의 결측치를 가지는 컬럼도 drop\n",
    "    print( f'{df}', df.shape )\n",
    "    return df"
   ]
  },
  {
   "cell_type": "code",
   "execution_count": 14,
   "id": "d2147125",
   "metadata": {
    "collapsed": true
   },
   "outputs": [
    {
     "name": "stdout",
     "output_type": "stream",
     "text": [
      "        TransactionID  isFraud  TransactionDT  TransactionAmt ProductCD  \\\n",
      "0             2987000        0          86400           68.50         W   \n",
      "1             2987001        0          86401           29.00         W   \n",
      "2             2987002        0          86469           59.00         W   \n",
      "3             2987003        0          86499           50.00         W   \n",
      "4             2987004        0          86506           50.00         H   \n",
      "...               ...      ...            ...             ...       ...   \n",
      "590535        3577535        0       15811047           49.00         W   \n",
      "590536        3577536        0       15811049           39.50         W   \n",
      "590537        3577537        0       15811079           30.95         W   \n",
      "590538        3577538        0       15811088          117.00         W   \n",
      "590539        3577539        0       15811131          279.95         W   \n",
      "\n",
      "        card1  card2  card3       card4  card5  ...   V318        V319  \\\n",
      "0       13926    NaN  150.0    discover  142.0  ...    0.0    0.000000   \n",
      "1        2755  404.0  150.0  mastercard  102.0  ...    0.0    0.000000   \n",
      "2        4663  490.0  150.0        visa  166.0  ...    0.0    0.000000   \n",
      "3       18132  567.0  150.0  mastercard  117.0  ...  790.0    0.000000   \n",
      "4        4497  514.0  150.0  mastercard  102.0  ...    0.0    0.000000   \n",
      "...       ...    ...    ...         ...    ...  ...    ...         ...   \n",
      "590535   6550    NaN  150.0        visa  226.0  ...    0.0    0.000000   \n",
      "590536  10444  225.0  150.0  mastercard  224.0  ...    0.0    0.000000   \n",
      "590537  12037  595.0  150.0  mastercard  224.0  ...    0.0    0.000000   \n",
      "590538   7826  481.0  150.0  mastercard  224.0  ...    0.0    0.000000   \n",
      "590539  15066  170.0  150.0  mastercard  102.0  ...    0.0  279.950012   \n",
      "\n",
      "              V320        V321  TransactionAmt_to_mean_card1  \\\n",
      "0         0.000000    0.000000                      0.194640   \n",
      "1         0.000000    0.000000                      0.123777   \n",
      "2         0.000000    0.000000                      0.608150   \n",
      "3         0.000000    0.000000                      0.405133   \n",
      "4         0.000000    0.000000                      0.515612   \n",
      "...            ...         ...                           ...   \n",
      "590535    0.000000    0.000000                      0.505177   \n",
      "590536    0.000000    0.000000                      0.163195   \n",
      "590537    0.000000    0.000000                      0.258474   \n",
      "590538    0.000000    0.000000                      0.953051   \n",
      "590539  279.950012  279.950012                      1.333976   \n",
      "\n",
      "        TransactionAmt_to_mean_card4  D15_to_mean_card1  D15_to_mean_card4  \\\n",
      "0                           0.257761           0.000000           0.000000   \n",
      "1                           0.219054           0.000000           0.000000   \n",
      "2                           0.443070           2.518583           1.865915   \n",
      "3                           0.377679           0.550272           0.720057   \n",
      "4                           0.377679                NaN                NaN   \n",
      "...                              ...                ...                ...   \n",
      "590535                      0.367973           0.307857           0.331718   \n",
      "590536                      0.298366           0.000000           0.000000   \n",
      "590537                      0.233783           0.000000           0.000000   \n",
      "590538                      0.883768           0.108422           0.142714   \n",
      "590539                      2.114622           0.008034           0.006487   \n",
      "\n",
      "        P_emaildomain_1  P_emaildomain_2  \n",
      "0                   NaN              NaN  \n",
      "1                 gmail              com  \n",
      "2               outlook              com  \n",
      "3                 yahoo              com  \n",
      "4                 gmail              com  \n",
      "...                 ...              ...  \n",
      "590535              NaN              NaN  \n",
      "590536            gmail              com  \n",
      "590537            gmail              com  \n",
      "590538              aol              com  \n",
      "590539            gmail              com  \n",
      "\n",
      "[590540 rows x 188 columns] (590540, 188)\n",
      "        TransactionID  TransactionDT  TransactionAmt ProductCD  card1  card2  \\\n",
      "0             3663549       18403224          31.950         W  10409  111.0   \n",
      "1             3663550       18403263          49.000         W   4272  111.0   \n",
      "2             3663551       18403310         171.000         W   4476  574.0   \n",
      "3             3663552       18403310         284.950         W  10989  360.0   \n",
      "4             3663553       18403317          67.950         W  18018  452.0   \n",
      "...               ...            ...             ...       ...    ...    ...   \n",
      "506686        4170235       34214279          94.679         C  13832  375.0   \n",
      "506687        4170236       34214287          12.173         C   3154  408.0   \n",
      "506688        4170237       34214326          49.000         W  16661  490.0   \n",
      "506689        4170238       34214337         202.000         W  16621  516.0   \n",
      "506690        4170239       34214345          24.346         C   5713  168.0   \n",
      "\n",
      "        card3       card4  card5   card6  ...   V320  V321  \\\n",
      "0       150.0        visa  226.0   debit  ...    0.0   0.0   \n",
      "1       150.0        visa  226.0   debit  ...    0.0   0.0   \n",
      "2       150.0        visa  226.0   debit  ...  263.0   0.0   \n",
      "3       150.0        visa  166.0   debit  ...    0.0   0.0   \n",
      "4       150.0  mastercard  117.0   debit  ...    0.0   0.0   \n",
      "...       ...         ...    ...     ...  ...    ...   ...   \n",
      "506686  185.0  mastercard  224.0   debit  ...    0.0   0.0   \n",
      "506687  185.0  mastercard  224.0   debit  ...    0.0   0.0   \n",
      "506688  150.0        visa  226.0   debit  ...    0.0   0.0   \n",
      "506689  150.0  mastercard  224.0   debit  ...    0.0   0.0   \n",
      "506690  144.0        visa  147.0  credit  ...    0.0   0.0   \n",
      "\n",
      "       TransactionAmt_to_mean_card1  TransactionAmt_to_mean_card4  \\\n",
      "0                          0.339332                      0.237290   \n",
      "1                          0.333494                      0.363919   \n",
      "2                          1.485504                      1.270002   \n",
      "3                          2.969653                      2.116298   \n",
      "4                          0.567364                      0.517674   \n",
      "...                             ...                           ...   \n",
      "506686                     2.771274                      0.721308   \n",
      "506687                     0.360082                      0.092739   \n",
      "506688                     0.424053                      0.363919   \n",
      "506689                     2.315186                      1.538928   \n",
      "506690                     0.162994                      0.180816   \n",
      "\n",
      "        D15_to_mean_card1  D15_to_mean_card4  D15_to_mean_addr1  \\\n",
      "0                1.066067           1.925444           1.557394   \n",
      "1                2.155230           2.984674           3.033737   \n",
      "2                0.279881           0.456646           0.457103   \n",
      "3                1.578683           1.139260           1.020278   \n",
      "4                0.085873           0.109654           0.098978   \n",
      "...                   ...                ...                ...   \n",
      "506686           0.000000           0.000000           0.000000   \n",
      "506687           0.243530           0.079748                NaN   \n",
      "506688           0.000000           0.000000           0.000000   \n",
      "506689           0.000000           0.000000           0.000000   \n",
      "506690           0.000000           0.000000                NaN   \n",
      "\n",
      "        D15_to_mean_addr2  P_emaildomain_1  P_emaildomain_2  \n",
      "0                1.760048            gmail              com  \n",
      "1                2.728290              aol              com  \n",
      "2                0.417420          hotmail              com  \n",
      "3                1.041398            gmail              com  \n",
      "4                0.094673            gmail              com  \n",
      "...                   ...              ...              ...  \n",
      "506686           0.000000            gmail              com  \n",
      "506687                NaN          hotmail              com  \n",
      "506688           0.000000          hotmail              com  \n",
      "506689           0.000000          hotmail              com  \n",
      "506690                NaN          hotmail              com  \n",
      "\n",
      "[506691 rows x 207 columns] (506691, 207)\n"
     ]
    }
   ],
   "source": [
    "train = mypreprocess(train)\n",
    "test = mypreprocess(test)"
   ]
  },
  {
   "cell_type": "code",
   "execution_count": 70,
   "id": "8be59a77",
   "metadata": {},
   "outputs": [
    {
     "name": "stdout",
     "output_type": "stream",
     "text": [
      "(590540, 188) (506691, 207)\n",
      "\n",
      "<class 'pandas.core.frame.DataFrame'>\n",
      "RangeIndex: 590540 entries, 0 to 590539\n",
      "Columns: 188 entries, TransactionID to P_emaildomain_2\n",
      "dtypes: float64(178), int64(4), object(6)\n",
      "memory usage: 847.0+ MB\n",
      "\n",
      "<class 'pandas.core.frame.DataFrame'>\n",
      "RangeIndex: 506691 entries, 0 to 506690\n",
      "Columns: 207 entries, TransactionID to P_emaildomain_2\n",
      "dtypes: float64(198), int64(3), object(6)\n",
      "memory usage: 800.2+ MB\n"
     ]
    }
   ],
   "source": [
    "print(train.shape,  test.shape)\n",
    "print()\n",
    "train.info()\n",
    "print()\n",
    "test.info()"
   ]
  },
  {
   "cell_type": "code",
   "execution_count": 25,
   "id": "249f25ee",
   "metadata": {},
   "outputs": [],
   "source": [
    "# print(train.isna().sum().index.tolist())\n",
    "# print()\n",
    "# print(test.isna().sum().index.tolist())"
   ]
  },
  {
   "cell_type": "code",
   "execution_count": 15,
   "id": "5627b0a1",
   "metadata": {},
   "outputs": [
    {
     "name": "stdout",
     "output_type": "stream",
     "text": [
      "% of total missing data =  5.44347528299018\n"
     ]
    }
   ],
   "source": [
    "train_missing = train.isna().sum()\n",
    "print(\"% of total missing data = \",(train_missing.sum()/np.product(train.shape))*100)"
   ]
  },
  {
   "cell_type": "code",
   "execution_count": 16,
   "id": "f2612113",
   "metadata": {},
   "outputs": [
    {
     "name": "stdout",
     "output_type": "stream",
     "text": [
      "% of total missing data =  2.7957066936058763\n"
     ]
    }
   ],
   "source": [
    "test_missing = test.isna().sum()\n",
    "print(\"% of total missing data = \",(test_missing.sum()/np.product(test.shape))*100)"
   ]
  },
  {
   "cell_type": "code",
   "execution_count": 73,
   "id": "d056f51f",
   "metadata": {
    "scrolled": false
   },
   "outputs": [
    {
     "data": {
      "text/plain": [
       "167"
      ]
     },
     "execution_count": 73,
     "metadata": {},
     "output_type": "execute_result"
    }
   ],
   "source": [
    "len(train.isna().sum()[train.isna().sum() > 0].index.tolist())"
   ]
  },
  {
   "cell_type": "code",
   "execution_count": 74,
   "id": "69a3d322",
   "metadata": {},
   "outputs": [
    {
     "data": {
      "text/plain": [
       "159"
      ]
     },
     "execution_count": 74,
     "metadata": {},
     "output_type": "execute_result"
    }
   ],
   "source": [
    "len(test.isna().sum()[test.isna().sum() > 0].index.tolist())"
   ]
  },
  {
   "cell_type": "markdown",
   "id": "592abd9d",
   "metadata": {},
   "source": [
    "# feature engineering\n",
    "\n",
    "- some feature engineering(new columns)\n",
    "- LABEL  encoding\n",
    "- Vxxx-> pca"
   ]
  },
  {
   "cell_type": "code",
   "execution_count": 197,
   "id": "3c04bb8c",
   "metadata": {},
   "outputs": [
    {
     "data": {
      "text/plain": [
       "((590540, 188), (506691, 207))"
      ]
     },
     "execution_count": 197,
     "metadata": {},
     "output_type": "execute_result"
    }
   ],
   "source": [
    "train.shape, test.shape"
   ]
  },
  {
   "cell_type": "markdown",
   "id": "2cdf27ad",
   "metadata": {},
   "source": [
    "### TransactionDT  새로운 컬럼 생성\n",
    "\n"
   ]
  },
  {
   "cell_type": "code",
   "execution_count": 17,
   "id": "59dfe121",
   "metadata": {},
   "outputs": [],
   "source": [
    "import datetime\n",
    "\n",
    "def date(df):\n",
    "    START_DATE = '2017-12-01'\n",
    "    startdate = datetime.datetime.strptime(START_DATE, \"%Y-%m-%d\")\n",
    "    df[\"date\"] = df['TransactionDT'].apply(lambda x: (startdate + datetime.timedelta(seconds=x)))\n",
    "    df['weekdays'] = df['date'].dt.dayofweek\n",
    "    df['hours'] = df['date'].dt.hour\n",
    "    df['days'] = df['date'].dt.day\n",
    "    df.drop(['date','TransactionDT'],axis = 1, inplace = True)\n",
    "    return df"
   ]
  },
  {
   "cell_type": "code",
   "execution_count": 18,
   "id": "413ec885",
   "metadata": {},
   "outputs": [],
   "source": [
    "train = date(train)\n",
    "test = date(test)"
   ]
  },
  {
   "cell_type": "code",
   "execution_count": 19,
   "id": "69a08dde",
   "metadata": {},
   "outputs": [
    {
     "data": {
      "text/plain": [
       "((590540, 190), (506691, 209))"
      ]
     },
     "execution_count": 19,
     "metadata": {},
     "output_type": "execute_result"
    }
   ],
   "source": [
    "train.shape, test.shape"
   ]
  },
  {
   "cell_type": "markdown",
   "id": "25d02881",
   "metadata": {},
   "source": [
    "### LABEL  encoding"
   ]
  },
  {
   "cell_type": "code",
   "execution_count": 20,
   "id": "586143d8",
   "metadata": {},
   "outputs": [],
   "source": [
    "from sklearn import preprocessing\n",
    "\n",
    "def labelencoding(df):\n",
    "    for f in df.columns:\n",
    "        if df[f].dtype=='object':\n",
    "            lbl = preprocessing.LabelEncoder()\n",
    "            lbl.fit(list(df[f].values))\n",
    "            df[f] = lbl.transform(list(df[f].values))\n",
    "    return df"
   ]
  },
  {
   "cell_type": "code",
   "execution_count": 21,
   "id": "3ba33bca",
   "metadata": {
    "collapsed": true
   },
   "outputs": [
    {
     "data": {
      "text/html": [
       "<div>\n",
       "<style scoped>\n",
       "    .dataframe tbody tr th:only-of-type {\n",
       "        vertical-align: middle;\n",
       "    }\n",
       "\n",
       "    .dataframe tbody tr th {\n",
       "        vertical-align: top;\n",
       "    }\n",
       "\n",
       "    .dataframe thead th {\n",
       "        text-align: right;\n",
       "    }\n",
       "</style>\n",
       "<table border=\"1\" class=\"dataframe\">\n",
       "  <thead>\n",
       "    <tr style=\"text-align: right;\">\n",
       "      <th></th>\n",
       "      <th>TransactionID</th>\n",
       "      <th>isFraud</th>\n",
       "      <th>TransactionAmt</th>\n",
       "      <th>ProductCD</th>\n",
       "      <th>card1</th>\n",
       "      <th>card2</th>\n",
       "      <th>card3</th>\n",
       "      <th>card4</th>\n",
       "      <th>card5</th>\n",
       "      <th>card6</th>\n",
       "      <th>...</th>\n",
       "      <th>V321</th>\n",
       "      <th>TransactionAmt_to_mean_card1</th>\n",
       "      <th>TransactionAmt_to_mean_card4</th>\n",
       "      <th>D15_to_mean_card1</th>\n",
       "      <th>D15_to_mean_card4</th>\n",
       "      <th>P_emaildomain_1</th>\n",
       "      <th>P_emaildomain_2</th>\n",
       "      <th>weekdays</th>\n",
       "      <th>hours</th>\n",
       "      <th>days</th>\n",
       "    </tr>\n",
       "  </thead>\n",
       "  <tbody>\n",
       "    <tr>\n",
       "      <th>0</th>\n",
       "      <td>2987000</td>\n",
       "      <td>0</td>\n",
       "      <td>68.5</td>\n",
       "      <td>4</td>\n",
       "      <td>13926</td>\n",
       "      <td>NaN</td>\n",
       "      <td>150.0</td>\n",
       "      <td>1</td>\n",
       "      <td>142.0</td>\n",
       "      <td>1</td>\n",
       "      <td>...</td>\n",
       "      <td>0.0</td>\n",
       "      <td>0.194640</td>\n",
       "      <td>0.257761</td>\n",
       "      <td>0.0</td>\n",
       "      <td>0.0</td>\n",
       "      <td>25</td>\n",
       "      <td>8</td>\n",
       "      <td>5</td>\n",
       "      <td>0</td>\n",
       "      <td>2</td>\n",
       "    </tr>\n",
       "    <tr>\n",
       "      <th>1</th>\n",
       "      <td>2987001</td>\n",
       "      <td>0</td>\n",
       "      <td>29.0</td>\n",
       "      <td>4</td>\n",
       "      <td>2755</td>\n",
       "      <td>404.0</td>\n",
       "      <td>150.0</td>\n",
       "      <td>2</td>\n",
       "      <td>102.0</td>\n",
       "      <td>1</td>\n",
       "      <td>...</td>\n",
       "      <td>0.0</td>\n",
       "      <td>0.123777</td>\n",
       "      <td>0.219054</td>\n",
       "      <td>0.0</td>\n",
       "      <td>0.0</td>\n",
       "      <td>15</td>\n",
       "      <td>1</td>\n",
       "      <td>5</td>\n",
       "      <td>0</td>\n",
       "      <td>2</td>\n",
       "    </tr>\n",
       "  </tbody>\n",
       "</table>\n",
       "<p>2 rows × 190 columns</p>\n",
       "</div>"
      ],
      "text/plain": [
       "   TransactionID  isFraud  TransactionAmt  ProductCD  card1  card2  card3  \\\n",
       "0        2987000        0            68.5          4  13926    NaN  150.0   \n",
       "1        2987001        0            29.0          4   2755  404.0  150.0   \n",
       "\n",
       "   card4  card5  card6  ...  V321  TransactionAmt_to_mean_card1  \\\n",
       "0      1  142.0      1  ...   0.0                      0.194640   \n",
       "1      2  102.0      1  ...   0.0                      0.123777   \n",
       "\n",
       "   TransactionAmt_to_mean_card4  D15_to_mean_card1  D15_to_mean_card4  \\\n",
       "0                      0.257761                0.0                0.0   \n",
       "1                      0.219054                0.0                0.0   \n",
       "\n",
       "   P_emaildomain_1  P_emaildomain_2  weekdays  hours  days  \n",
       "0               25                8         5      0     2  \n",
       "1               15                1         5      0     2  \n",
       "\n",
       "[2 rows x 190 columns]"
      ]
     },
     "metadata": {},
     "output_type": "display_data"
    },
    {
     "data": {
      "text/html": [
       "<div>\n",
       "<style scoped>\n",
       "    .dataframe tbody tr th:only-of-type {\n",
       "        vertical-align: middle;\n",
       "    }\n",
       "\n",
       "    .dataframe tbody tr th {\n",
       "        vertical-align: top;\n",
       "    }\n",
       "\n",
       "    .dataframe thead th {\n",
       "        text-align: right;\n",
       "    }\n",
       "</style>\n",
       "<table border=\"1\" class=\"dataframe\">\n",
       "  <thead>\n",
       "    <tr style=\"text-align: right;\">\n",
       "      <th></th>\n",
       "      <th>TransactionID</th>\n",
       "      <th>TransactionAmt</th>\n",
       "      <th>ProductCD</th>\n",
       "      <th>card1</th>\n",
       "      <th>card2</th>\n",
       "      <th>card3</th>\n",
       "      <th>card4</th>\n",
       "      <th>card5</th>\n",
       "      <th>card6</th>\n",
       "      <th>addr1</th>\n",
       "      <th>...</th>\n",
       "      <th>TransactionAmt_to_mean_card4</th>\n",
       "      <th>D15_to_mean_card1</th>\n",
       "      <th>D15_to_mean_card4</th>\n",
       "      <th>D15_to_mean_addr1</th>\n",
       "      <th>D15_to_mean_addr2</th>\n",
       "      <th>P_emaildomain_1</th>\n",
       "      <th>P_emaildomain_2</th>\n",
       "      <th>weekdays</th>\n",
       "      <th>hours</th>\n",
       "      <th>days</th>\n",
       "    </tr>\n",
       "  </thead>\n",
       "  <tbody>\n",
       "    <tr>\n",
       "      <th>0</th>\n",
       "      <td>3663549</td>\n",
       "      <td>31.95</td>\n",
       "      <td>4</td>\n",
       "      <td>10409</td>\n",
       "      <td>111.0</td>\n",
       "      <td>150.0</td>\n",
       "      <td>4</td>\n",
       "      <td>226.0</td>\n",
       "      <td>2</td>\n",
       "      <td>170.0</td>\n",
       "      <td>...</td>\n",
       "      <td>0.237290</td>\n",
       "      <td>1.066067</td>\n",
       "      <td>1.925444</td>\n",
       "      <td>1.557394</td>\n",
       "      <td>1.760048</td>\n",
       "      <td>15</td>\n",
       "      <td>1</td>\n",
       "      <td>0</td>\n",
       "      <td>0</td>\n",
       "      <td>2</td>\n",
       "    </tr>\n",
       "    <tr>\n",
       "      <th>1</th>\n",
       "      <td>3663550</td>\n",
       "      <td>49.00</td>\n",
       "      <td>4</td>\n",
       "      <td>4272</td>\n",
       "      <td>111.0</td>\n",
       "      <td>150.0</td>\n",
       "      <td>4</td>\n",
       "      <td>226.0</td>\n",
       "      <td>2</td>\n",
       "      <td>299.0</td>\n",
       "      <td>...</td>\n",
       "      <td>0.363919</td>\n",
       "      <td>2.155230</td>\n",
       "      <td>2.984674</td>\n",
       "      <td>3.033737</td>\n",
       "      <td>2.728290</td>\n",
       "      <td>2</td>\n",
       "      <td>1</td>\n",
       "      <td>0</td>\n",
       "      <td>0</td>\n",
       "      <td>2</td>\n",
       "    </tr>\n",
       "  </tbody>\n",
       "</table>\n",
       "<p>2 rows × 209 columns</p>\n",
       "</div>"
      ],
      "text/plain": [
       "   TransactionID  TransactionAmt  ProductCD  card1  card2  card3  card4  \\\n",
       "0        3663549           31.95          4  10409  111.0  150.0      4   \n",
       "1        3663550           49.00          4   4272  111.0  150.0      4   \n",
       "\n",
       "   card5  card6  addr1  ...  TransactionAmt_to_mean_card4  D15_to_mean_card1  \\\n",
       "0  226.0      2  170.0  ...                      0.237290           1.066067   \n",
       "1  226.0      2  299.0  ...                      0.363919           2.155230   \n",
       "\n",
       "   D15_to_mean_card4  D15_to_mean_addr1  D15_to_mean_addr2  P_emaildomain_1  \\\n",
       "0           1.925444           1.557394           1.760048               15   \n",
       "1           2.984674           3.033737           2.728290                2   \n",
       "\n",
       "   P_emaildomain_2  weekdays  hours  days  \n",
       "0                1         0      0     2  \n",
       "1                1         0      0     2  \n",
       "\n",
       "[2 rows x 209 columns]"
      ]
     },
     "metadata": {},
     "output_type": "display_data"
    },
    {
     "name": "stdout",
     "output_type": "stream",
     "text": [
      "<class 'pandas.core.frame.DataFrame'>\n",
      "RangeIndex: 590540 entries, 0 to 590539\n",
      "Columns: 190 entries, TransactionID to days\n",
      "dtypes: float64(178), int64(12)\n",
      "memory usage: 856.0 MB\n",
      "\n",
      "<class 'pandas.core.frame.DataFrame'>\n",
      "RangeIndex: 506691 entries, 0 to 506690\n",
      "Columns: 209 entries, TransactionID to days\n",
      "dtypes: float64(198), int64(11)\n",
      "memory usage: 807.9 MB\n",
      "train.shape :(590540, 190), test.shape: (506691, 209)\n"
     ]
    }
   ],
   "source": [
    "display(labelencoding(train)[:2])\n",
    "display(labelencoding(test)[:2])\n",
    "\n",
    "train.info()\n",
    "print()\n",
    "test.info()\n",
    "print(f'train.shape :{train.shape}, test.shape: {test.shape}')"
   ]
  },
  {
   "cell_type": "markdown",
   "id": "7dfc640b",
   "metadata": {},
   "source": [
    "### [ver1]용 null값 채우기"
   ]
  },
  {
   "cell_type": "code",
   "execution_count": 81,
   "id": "fbe8c3f9",
   "metadata": {},
   "outputs": [],
   "source": [
    "def missingvalue(df):\n",
    "    df_null = df.loc[:, df.isnull().any()].columns  # 결측치가 있는 컬럼을 골라서 리스트에 넣기\n",
    "    for aa in df_null:\n",
    "        df[aa] = df[aa].fillna(df[aa].median())  # 중앙값으로 채워 넣기\n",
    "    # train_df.info(verbose=True, show_counts=True)\n",
    "\n",
    "    print(\"Null :\", df.isnull().sum().sum() )\n",
    "    return df"
   ]
  },
  {
   "cell_type": "code",
   "execution_count": 82,
   "id": "1fd6f53a",
   "metadata": {
    "scrolled": true
   },
   "outputs": [
    {
     "name": "stdout",
     "output_type": "stream",
     "text": [
      "Null : 0\n",
      "Null : 0\n"
     ]
    },
    {
     "data": {
      "text/html": [
       "<div>\n",
       "<style scoped>\n",
       "    .dataframe tbody tr th:only-of-type {\n",
       "        vertical-align: middle;\n",
       "    }\n",
       "\n",
       "    .dataframe tbody tr th {\n",
       "        vertical-align: top;\n",
       "    }\n",
       "\n",
       "    .dataframe thead th {\n",
       "        text-align: right;\n",
       "    }\n",
       "</style>\n",
       "<table border=\"1\" class=\"dataframe\">\n",
       "  <thead>\n",
       "    <tr style=\"text-align: right;\">\n",
       "      <th></th>\n",
       "      <th>TransactionID</th>\n",
       "      <th>TransactionAmt</th>\n",
       "      <th>ProductCD</th>\n",
       "      <th>card1</th>\n",
       "      <th>card2</th>\n",
       "      <th>card3</th>\n",
       "      <th>card4</th>\n",
       "      <th>card5</th>\n",
       "      <th>card6</th>\n",
       "      <th>addr1</th>\n",
       "      <th>...</th>\n",
       "      <th>TransactionAmt_to_mean_card4</th>\n",
       "      <th>D15_to_mean_card1</th>\n",
       "      <th>D15_to_mean_card4</th>\n",
       "      <th>D15_to_mean_addr1</th>\n",
       "      <th>D15_to_mean_addr2</th>\n",
       "      <th>P_emaildomain_1</th>\n",
       "      <th>P_emaildomain_2</th>\n",
       "      <th>weekdays</th>\n",
       "      <th>hours</th>\n",
       "      <th>days</th>\n",
       "    </tr>\n",
       "  </thead>\n",
       "  <tbody>\n",
       "    <tr>\n",
       "      <th>0</th>\n",
       "      <td>3663549</td>\n",
       "      <td>31.950</td>\n",
       "      <td>4</td>\n",
       "      <td>10409</td>\n",
       "      <td>111.0</td>\n",
       "      <td>150.0</td>\n",
       "      <td>4</td>\n",
       "      <td>226.0</td>\n",
       "      <td>2</td>\n",
       "      <td>170.0</td>\n",
       "      <td>...</td>\n",
       "      <td>0.237290</td>\n",
       "      <td>1.066067</td>\n",
       "      <td>1.925444</td>\n",
       "      <td>1.557394</td>\n",
       "      <td>1.760048</td>\n",
       "      <td>15</td>\n",
       "      <td>1</td>\n",
       "      <td>0</td>\n",
       "      <td>0</td>\n",
       "      <td>2</td>\n",
       "    </tr>\n",
       "    <tr>\n",
       "      <th>1</th>\n",
       "      <td>3663550</td>\n",
       "      <td>49.000</td>\n",
       "      <td>4</td>\n",
       "      <td>4272</td>\n",
       "      <td>111.0</td>\n",
       "      <td>150.0</td>\n",
       "      <td>4</td>\n",
       "      <td>226.0</td>\n",
       "      <td>2</td>\n",
       "      <td>299.0</td>\n",
       "      <td>...</td>\n",
       "      <td>0.363919</td>\n",
       "      <td>2.155230</td>\n",
       "      <td>2.984674</td>\n",
       "      <td>3.033737</td>\n",
       "      <td>2.728290</td>\n",
       "      <td>2</td>\n",
       "      <td>1</td>\n",
       "      <td>0</td>\n",
       "      <td>0</td>\n",
       "      <td>2</td>\n",
       "    </tr>\n",
       "    <tr>\n",
       "      <th>2</th>\n",
       "      <td>3663551</td>\n",
       "      <td>171.000</td>\n",
       "      <td>4</td>\n",
       "      <td>4476</td>\n",
       "      <td>574.0</td>\n",
       "      <td>150.0</td>\n",
       "      <td>4</td>\n",
       "      <td>226.0</td>\n",
       "      <td>2</td>\n",
       "      <td>472.0</td>\n",
       "      <td>...</td>\n",
       "      <td>1.270002</td>\n",
       "      <td>0.279881</td>\n",
       "      <td>0.456646</td>\n",
       "      <td>0.457103</td>\n",
       "      <td>0.417420</td>\n",
       "      <td>17</td>\n",
       "      <td>1</td>\n",
       "      <td>0</td>\n",
       "      <td>0</td>\n",
       "      <td>2</td>\n",
       "    </tr>\n",
       "    <tr>\n",
       "      <th>3</th>\n",
       "      <td>3663552</td>\n",
       "      <td>284.950</td>\n",
       "      <td>4</td>\n",
       "      <td>10989</td>\n",
       "      <td>360.0</td>\n",
       "      <td>150.0</td>\n",
       "      <td>4</td>\n",
       "      <td>166.0</td>\n",
       "      <td>2</td>\n",
       "      <td>205.0</td>\n",
       "      <td>...</td>\n",
       "      <td>2.116298</td>\n",
       "      <td>1.578683</td>\n",
       "      <td>1.139260</td>\n",
       "      <td>1.020278</td>\n",
       "      <td>1.041398</td>\n",
       "      <td>15</td>\n",
       "      <td>1</td>\n",
       "      <td>0</td>\n",
       "      <td>0</td>\n",
       "      <td>2</td>\n",
       "    </tr>\n",
       "    <tr>\n",
       "      <th>4</th>\n",
       "      <td>3663553</td>\n",
       "      <td>67.950</td>\n",
       "      <td>4</td>\n",
       "      <td>18018</td>\n",
       "      <td>452.0</td>\n",
       "      <td>150.0</td>\n",
       "      <td>2</td>\n",
       "      <td>117.0</td>\n",
       "      <td>2</td>\n",
       "      <td>264.0</td>\n",
       "      <td>...</td>\n",
       "      <td>0.517674</td>\n",
       "      <td>0.085873</td>\n",
       "      <td>0.109654</td>\n",
       "      <td>0.098978</td>\n",
       "      <td>0.094673</td>\n",
       "      <td>15</td>\n",
       "      <td>1</td>\n",
       "      <td>0</td>\n",
       "      <td>0</td>\n",
       "      <td>2</td>\n",
       "    </tr>\n",
       "    <tr>\n",
       "      <th>...</th>\n",
       "      <td>...</td>\n",
       "      <td>...</td>\n",
       "      <td>...</td>\n",
       "      <td>...</td>\n",
       "      <td>...</td>\n",
       "      <td>...</td>\n",
       "      <td>...</td>\n",
       "      <td>...</td>\n",
       "      <td>...</td>\n",
       "      <td>...</td>\n",
       "      <td>...</td>\n",
       "      <td>...</td>\n",
       "      <td>...</td>\n",
       "      <td>...</td>\n",
       "      <td>...</td>\n",
       "      <td>...</td>\n",
       "      <td>...</td>\n",
       "      <td>...</td>\n",
       "      <td>...</td>\n",
       "      <td>...</td>\n",
       "      <td>...</td>\n",
       "    </tr>\n",
       "    <tr>\n",
       "      <th>506686</th>\n",
       "      <td>4170235</td>\n",
       "      <td>94.679</td>\n",
       "      <td>0</td>\n",
       "      <td>13832</td>\n",
       "      <td>375.0</td>\n",
       "      <td>185.0</td>\n",
       "      <td>2</td>\n",
       "      <td>224.0</td>\n",
       "      <td>2</td>\n",
       "      <td>284.0</td>\n",
       "      <td>...</td>\n",
       "      <td>0.721308</td>\n",
       "      <td>0.000000</td>\n",
       "      <td>0.000000</td>\n",
       "      <td>0.000000</td>\n",
       "      <td>0.000000</td>\n",
       "      <td>15</td>\n",
       "      <td>1</td>\n",
       "      <td>0</td>\n",
       "      <td>23</td>\n",
       "      <td>31</td>\n",
       "    </tr>\n",
       "    <tr>\n",
       "      <th>506687</th>\n",
       "      <td>4170236</td>\n",
       "      <td>12.173</td>\n",
       "      <td>0</td>\n",
       "      <td>3154</td>\n",
       "      <td>408.0</td>\n",
       "      <td>185.0</td>\n",
       "      <td>2</td>\n",
       "      <td>224.0</td>\n",
       "      <td>2</td>\n",
       "      <td>299.0</td>\n",
       "      <td>...</td>\n",
       "      <td>0.092739</td>\n",
       "      <td>0.243530</td>\n",
       "      <td>0.079748</td>\n",
       "      <td>0.386224</td>\n",
       "      <td>0.387297</td>\n",
       "      <td>17</td>\n",
       "      <td>1</td>\n",
       "      <td>0</td>\n",
       "      <td>23</td>\n",
       "      <td>31</td>\n",
       "    </tr>\n",
       "    <tr>\n",
       "      <th>506688</th>\n",
       "      <td>4170237</td>\n",
       "      <td>49.000</td>\n",
       "      <td>4</td>\n",
       "      <td>16661</td>\n",
       "      <td>490.0</td>\n",
       "      <td>150.0</td>\n",
       "      <td>4</td>\n",
       "      <td>226.0</td>\n",
       "      <td>2</td>\n",
       "      <td>327.0</td>\n",
       "      <td>...</td>\n",
       "      <td>0.363919</td>\n",
       "      <td>0.000000</td>\n",
       "      <td>0.000000</td>\n",
       "      <td>0.000000</td>\n",
       "      <td>0.000000</td>\n",
       "      <td>17</td>\n",
       "      <td>1</td>\n",
       "      <td>0</td>\n",
       "      <td>23</td>\n",
       "      <td>31</td>\n",
       "    </tr>\n",
       "    <tr>\n",
       "      <th>506689</th>\n",
       "      <td>4170238</td>\n",
       "      <td>202.000</td>\n",
       "      <td>4</td>\n",
       "      <td>16621</td>\n",
       "      <td>516.0</td>\n",
       "      <td>150.0</td>\n",
       "      <td>2</td>\n",
       "      <td>224.0</td>\n",
       "      <td>2</td>\n",
       "      <td>177.0</td>\n",
       "      <td>...</td>\n",
       "      <td>1.538928</td>\n",
       "      <td>0.000000</td>\n",
       "      <td>0.000000</td>\n",
       "      <td>0.000000</td>\n",
       "      <td>0.000000</td>\n",
       "      <td>17</td>\n",
       "      <td>1</td>\n",
       "      <td>0</td>\n",
       "      <td>23</td>\n",
       "      <td>31</td>\n",
       "    </tr>\n",
       "    <tr>\n",
       "      <th>506690</th>\n",
       "      <td>4170239</td>\n",
       "      <td>24.346</td>\n",
       "      <td>0</td>\n",
       "      <td>5713</td>\n",
       "      <td>168.0</td>\n",
       "      <td>144.0</td>\n",
       "      <td>4</td>\n",
       "      <td>147.0</td>\n",
       "      <td>1</td>\n",
       "      <td>299.0</td>\n",
       "      <td>...</td>\n",
       "      <td>0.180816</td>\n",
       "      <td>0.000000</td>\n",
       "      <td>0.000000</td>\n",
       "      <td>0.386224</td>\n",
       "      <td>0.387297</td>\n",
       "      <td>17</td>\n",
       "      <td>1</td>\n",
       "      <td>0</td>\n",
       "      <td>23</td>\n",
       "      <td>31</td>\n",
       "    </tr>\n",
       "  </tbody>\n",
       "</table>\n",
       "<p>506691 rows × 209 columns</p>\n",
       "</div>"
      ],
      "text/plain": [
       "        TransactionID  TransactionAmt  ProductCD  card1  card2  card3  card4  \\\n",
       "0             3663549          31.950          4  10409  111.0  150.0      4   \n",
       "1             3663550          49.000          4   4272  111.0  150.0      4   \n",
       "2             3663551         171.000          4   4476  574.0  150.0      4   \n",
       "3             3663552         284.950          4  10989  360.0  150.0      4   \n",
       "4             3663553          67.950          4  18018  452.0  150.0      2   \n",
       "...               ...             ...        ...    ...    ...    ...    ...   \n",
       "506686        4170235          94.679          0  13832  375.0  185.0      2   \n",
       "506687        4170236          12.173          0   3154  408.0  185.0      2   \n",
       "506688        4170237          49.000          4  16661  490.0  150.0      4   \n",
       "506689        4170238         202.000          4  16621  516.0  150.0      2   \n",
       "506690        4170239          24.346          0   5713  168.0  144.0      4   \n",
       "\n",
       "        card5  card6  addr1  ...  TransactionAmt_to_mean_card4  \\\n",
       "0       226.0      2  170.0  ...                      0.237290   \n",
       "1       226.0      2  299.0  ...                      0.363919   \n",
       "2       226.0      2  472.0  ...                      1.270002   \n",
       "3       166.0      2  205.0  ...                      2.116298   \n",
       "4       117.0      2  264.0  ...                      0.517674   \n",
       "...       ...    ...    ...  ...                           ...   \n",
       "506686  224.0      2  284.0  ...                      0.721308   \n",
       "506687  224.0      2  299.0  ...                      0.092739   \n",
       "506688  226.0      2  327.0  ...                      0.363919   \n",
       "506689  224.0      2  177.0  ...                      1.538928   \n",
       "506690  147.0      1  299.0  ...                      0.180816   \n",
       "\n",
       "        D15_to_mean_card1  D15_to_mean_card4  D15_to_mean_addr1  \\\n",
       "0                1.066067           1.925444           1.557394   \n",
       "1                2.155230           2.984674           3.033737   \n",
       "2                0.279881           0.456646           0.457103   \n",
       "3                1.578683           1.139260           1.020278   \n",
       "4                0.085873           0.109654           0.098978   \n",
       "...                   ...                ...                ...   \n",
       "506686           0.000000           0.000000           0.000000   \n",
       "506687           0.243530           0.079748           0.386224   \n",
       "506688           0.000000           0.000000           0.000000   \n",
       "506689           0.000000           0.000000           0.000000   \n",
       "506690           0.000000           0.000000           0.386224   \n",
       "\n",
       "        D15_to_mean_addr2  P_emaildomain_1  P_emaildomain_2  weekdays  hours  \\\n",
       "0                1.760048               15                1         0      0   \n",
       "1                2.728290                2                1         0      0   \n",
       "2                0.417420               17                1         0      0   \n",
       "3                1.041398               15                1         0      0   \n",
       "4                0.094673               15                1         0      0   \n",
       "...                   ...              ...              ...       ...    ...   \n",
       "506686           0.000000               15                1         0     23   \n",
       "506687           0.387297               17                1         0     23   \n",
       "506688           0.000000               17                1         0     23   \n",
       "506689           0.000000               17                1         0     23   \n",
       "506690           0.387297               17                1         0     23   \n",
       "\n",
       "        days  \n",
       "0          2  \n",
       "1          2  \n",
       "2          2  \n",
       "3          2  \n",
       "4          2  \n",
       "...      ...  \n",
       "506686    31  \n",
       "506687    31  \n",
       "506688    31  \n",
       "506689    31  \n",
       "506690    31  \n",
       "\n",
       "[506691 rows x 209 columns]"
      ]
     },
     "execution_count": 82,
     "metadata": {},
     "output_type": "execute_result"
    }
   ],
   "source": [
    "missingvalue(train)\n",
    "missingvalue(test)"
   ]
  },
  {
   "cell_type": "markdown",
   "id": "50f9ae7c",
   "metadata": {},
   "source": [
    "###  feature importance\n",
    "#### ver1.  Vxxx PCA Train3, Test3\n",
    "Vxxx PCA : 100차원"
   ]
  },
  {
   "cell_type": "code",
   "execution_count": 91,
   "id": "534a9a99",
   "metadata": {},
   "outputs": [],
   "source": [
    "# medidan_list = [test[col].median() for col in  test.loc[:, test.isnull().any()].columns]\n",
    "# medidan_list"
   ]
  },
  {
   "cell_type": "code",
   "execution_count": 89,
   "id": "02370703",
   "metadata": {},
   "outputs": [],
   "source": [
    "# test.describe().iloc[:,189:]"
   ]
  },
  {
   "cell_type": "code",
   "execution_count": 94,
   "id": "89f333ef",
   "metadata": {},
   "outputs": [
    {
     "data": {
      "text/plain": [
       "((590540, 190), (506691, 209))"
      ]
     },
     "execution_count": 94,
     "metadata": {},
     "output_type": "execute_result"
    }
   ],
   "source": [
    "train.shape, test.shape"
   ]
  },
  {
   "cell_type": "code",
   "execution_count": 95,
   "id": "eb4b1d32",
   "metadata": {},
   "outputs": [],
   "source": [
    "def PCA_change(df, cols, n_components, prefix='PCA_', rand_seed=4):\n",
    "    pca = PCA(n_components=n_components, random_state=rand_seed)\n",
    "    principalComponents = pca.fit_transform(df[cols])\n",
    "    principalDf = pd.DataFrame(principalComponents)\n",
    "    df.drop(cols, axis=1, inplace=True)\n",
    "    principalDf.rename(columns=lambda x: str(prefix)+str(x), inplace=True)\n",
    "    df = pd.concat([df, principalDf], axis=1)\n",
    "    return df, pca"
   ]
  },
  {
   "cell_type": "code",
   "execution_count": 96,
   "id": "53e809d8",
   "metadata": {},
   "outputs": [],
   "source": [
    "train3 = train.copy()\n",
    "test3 = test.copy()"
   ]
  },
  {
   "cell_type": "code",
   "execution_count": 97,
   "id": "adfd120d",
   "metadata": {},
   "outputs": [],
   "source": [
    "v_cols = [v for v in train3 if v[0] == 'V']\n",
    "v_cols_test = [v for v in test3 if v[0] == 'V']"
   ]
  },
  {
   "cell_type": "code",
   "execution_count": 98,
   "id": "47f108b8",
   "metadata": {},
   "outputs": [],
   "source": [
    "mas_v = train3[v_cols].columns\n",
    "mas_v_test = test3[v_cols_test].columns"
   ]
  },
  {
   "cell_type": "code",
   "execution_count": 99,
   "id": "a8d801e1",
   "metadata": {},
   "outputs": [],
   "source": [
    "from sklearn.preprocessing import minmax_scale\n",
    "from sklearn.decomposition import PCA\n",
    "\n",
    "for col in mas_v:\n",
    "    train3[col] = train3[col].fillna((train3[col].min() - 2))\n",
    "    train3[col] = (minmax_scale(train3[col], feature_range=(0,1)))\n",
    "    \n",
    "train3, pca = PCA_change(train3, mas_v, prefix='PCA_V_', n_components=100) # 100차원으로 축소"
   ]
  },
  {
   "cell_type": "code",
   "execution_count": 127,
   "id": "0ea858b1",
   "metadata": {},
   "outputs": [],
   "source": [
    "train3.drop(['TransactionID'],axis = 1, inplace=True)"
   ]
  },
  {
   "cell_type": "code",
   "execution_count": 105,
   "id": "087eac21",
   "metadata": {
    "scrolled": false
   },
   "outputs": [],
   "source": [
    "# train3.columns.tolist()"
   ]
  },
  {
   "cell_type": "code",
   "execution_count": 101,
   "id": "b80678d2",
   "metadata": {},
   "outputs": [
    {
     "data": {
      "text/plain": [
       "0.999124524417838"
      ]
     },
     "execution_count": 101,
     "metadata": {},
     "output_type": "execute_result"
    }
   ],
   "source": [
    "np.sum(pca.explained_variance_ratio_)"
   ]
  },
  {
   "cell_type": "code",
   "execution_count": 102,
   "id": "a41ee9de",
   "metadata": {},
   "outputs": [],
   "source": [
    "for col in mas_v_test:\n",
    "    test3[col] = test3[col].fillna((test3[col].min() - 2))\n",
    "    test3[col] = (minmax_scale(test3[col], feature_range=(0,1)))\n",
    "    \n",
    "test3, pca = PCA_change(test3, mas_v_test, prefix='PCA_V_', n_components=100) # 30차원으로 축소"
   ]
  },
  {
   "cell_type": "code",
   "execution_count": 103,
   "id": "38b3424d",
   "metadata": {},
   "outputs": [
    {
     "data": {
      "text/plain": [
       "0.9978805524686775"
      ]
     },
     "execution_count": 103,
     "metadata": {},
     "output_type": "execute_result"
    }
   ],
   "source": [
    "np.sum(pca.explained_variance_ratio_)"
   ]
  },
  {
   "cell_type": "code",
   "execution_count": 125,
   "id": "0bfe155e",
   "metadata": {},
   "outputs": [],
   "source": [
    "test3 = test3[['TransactionAmt','ProductCD','card1','card2','card3','card4','card5','card6','addr1','addr2','P_emaildomain','C1','C2','C3','C4','C5','C6','C7','C8','C9','C10','C11','C12','C13','C14','D1','D10','D15','TransactionAmt_to_mean_card1','TransactionAmt_to_mean_card4','D15_to_mean_card1','D15_to_mean_card4','P_emaildomain_1','P_emaildomain_2','weekdays','hours','days','PCA_V_0','PCA_V_1','PCA_V_2','PCA_V_3','PCA_V_4','PCA_V_5','PCA_V_6','PCA_V_7','PCA_V_8','PCA_V_9','PCA_V_10','PCA_V_11','PCA_V_12','PCA_V_13','PCA_V_14','PCA_V_15','PCA_V_16','PCA_V_17','PCA_V_18','PCA_V_19','PCA_V_20','PCA_V_21','PCA_V_22','PCA_V_23','PCA_V_24','PCA_V_25','PCA_V_26','PCA_V_27','PCA_V_28','PCA_V_29','PCA_V_30','PCA_V_31','PCA_V_32','PCA_V_33','PCA_V_34','PCA_V_35','PCA_V_36','PCA_V_37','PCA_V_38','PCA_V_39','PCA_V_40','PCA_V_41','PCA_V_42','PCA_V_43','PCA_V_44','PCA_V_45','PCA_V_46','PCA_V_47','PCA_V_48','PCA_V_49','PCA_V_50','PCA_V_51','PCA_V_52','PCA_V_53','PCA_V_54','PCA_V_55','PCA_V_56','PCA_V_57','PCA_V_58','PCA_V_59','PCA_V_60','PCA_V_61','PCA_V_62','PCA_V_63','PCA_V_64','PCA_V_65','PCA_V_66','PCA_V_67','PCA_V_68','PCA_V_69','PCA_V_70','PCA_V_71','PCA_V_72','PCA_V_73','PCA_V_74','PCA_V_75','PCA_V_76','PCA_V_77','PCA_V_78','PCA_V_79','PCA_V_80','PCA_V_81','PCA_V_82','PCA_V_83','PCA_V_84','PCA_V_85','PCA_V_86','PCA_V_87','PCA_V_88','PCA_V_89','PCA_V_90','PCA_V_91','PCA_V_92','PCA_V_93','PCA_V_94','PCA_V_95','PCA_V_96','PCA_V_97','PCA_V_98','PCA_V_99']]"
   ]
  },
  {
   "cell_type": "code",
   "execution_count": 272,
   "id": "0142fbf4",
   "metadata": {},
   "outputs": [
    {
     "data": {
      "text/plain": [
       "((590540, 138), (506691, 137))"
      ]
     },
     "execution_count": 272,
     "metadata": {},
     "output_type": "execute_result"
    }
   ],
   "source": [
    "train3.shape, test3.shape"
   ]
  },
  {
   "cell_type": "markdown",
   "id": "507caa47",
   "metadata": {},
   "source": [
    "<font size=\"5\">modeling go!!</font>\n",
    "\n",
    "---"
   ]
  },
  {
   "cell_type": "markdown",
   "id": "953d54a8",
   "metadata": {},
   "source": [
    "#### ver2. LGBM fit  Train2, Test2\n",
    "\n",
    "\n",
    "\n",
    "**[방법1](https://www.kaggle.com/code/pnprabakaran/feature-selection-before-hand-lightgbm/notebook)**"
   ]
  },
  {
   "cell_type": "code",
   "execution_count": 93,
   "id": "66a7d763",
   "metadata": {},
   "outputs": [],
   "source": [
    "from sklearn.feature_selection import SequentialFeatureSelector, SelectFromModel\n",
    "\n",
    "y = train['isFraud']\n",
    "train2 = train.copy()\n",
    "train2 = train2.drop(['TransactionID'],axis = 1)"
   ]
  },
  {
   "cell_type": "code",
   "execution_count": 251,
   "id": "c0951626",
   "metadata": {},
   "outputs": [],
   "source": [
    "#lightGBM model fit\n",
    "gbm = lgb.LGBMRegressor()\n",
    "\n",
    "gbm.fit(train2, y)\n",
    "gbm.booster_.feature_importance()\n",
    "\n",
    "# importance of each attribute\n",
    "fea_imp_ = pd.DataFrame({'cols':train2.columns, 'fea_imp':gbm.feature_importances_})\n",
    "top19 = fea_imp_.loc[fea_imp_.fea_imp > 0].sort_values(by=['fea_imp'], ascending = False)"
   ]
  },
  {
   "cell_type": "code",
   "execution_count": 252,
   "id": "8e89b4e9",
   "metadata": {},
   "outputs": [
    {
     "data": {
      "text/plain": [
       "array(['TransactionAmt', 'isFraud', 'card1', 'card2', 'addr1', 'card3',\n",
       "       'D1', 'C1', 'C2', 'card5', 'D10', 'C4', 'C6', 'C5', 'D15', 'C7',\n",
       "       'C11', 'C13', 'C14'], dtype=object)"
      ]
     },
     "execution_count": 252,
     "metadata": {},
     "output_type": "execute_result"
    }
   ],
   "source": [
    "top19.cols.values"
   ]
  },
  {
   "cell_type": "code",
   "execution_count": 253,
   "id": "958039f7",
   "metadata": {},
   "outputs": [
    {
     "data": {
      "image/png": "[encoded data removed]",
      "text/plain": [
       "<Figure size 576x432 with 1 Axes>"
      ]
     },
     "metadata": {},
     "output_type": "display_data"
    }
   ],
   "source": [
    "plt.figure(figsize=(8,6))\n",
    "sns.set_theme(style=\"whitegrid\")\n",
    "tips = sns.load_dataset(\"tips\")\n",
    "ax = sns.barplot(x =top19.fea_imp.value_counts().sort_values(), y = top19.cols, data=top19, orient='h')"
   ]
  },
  {
   "cell_type": "code",
   "execution_count": 268,
   "id": "3ddcccf1",
   "metadata": {},
   "outputs": [],
   "source": [
    "# TransactionAmt drop X!!\n",
    "train2 = train2[['TransactionAmt', 'isFraud', 'card1', 'card2', 'addr1', 'card3',\n",
    "       'D1', 'C1', 'C2', 'card5', 'D10', 'C4', 'C6', 'C5', 'D15', 'C7',\n",
    "       'C11', 'C13', 'C14']]\n",
    "\n",
    "# TransactionAmt drop X!!\n",
    "test2 = test[['TransactionAmt', 'card1', 'card2', 'addr1', 'card3',\n",
    "       'D1', 'C1', 'C2', 'card5', 'D10', 'C4', 'C6', 'C5', 'D15', 'C7',\n",
    "       'C11', 'C13', 'C14']]"
   ]
  },
  {
   "cell_type": "code",
   "execution_count": 118,
   "id": "4be36654",
   "metadata": {},
   "outputs": [],
   "source": [
    "# train2.shape, test2.shape"
   ]
  },
  {
   "cell_type": "markdown",
   "id": "84b34887",
   "metadata": {},
   "source": [
    "#### ver3. XGBM fit Train4, Test4\n",
    "\n",
    "**[방법1](https://mljar.com/blog/feature-importance-xgboost/#:~:text=Xgboost%20is%20a%20gradient%20boosting,%2C%20R%2C%20Julia%2C%20Scala.)**"
   ]
  },
  {
   "cell_type": "code",
   "execution_count": 22,
   "id": "1dc74c2d",
   "metadata": {},
   "outputs": [],
   "source": [
    "train4 = train.copy()\n",
    "test4 = test.copy()"
   ]
  },
  {
   "cell_type": "code",
   "execution_count": 23,
   "id": "e4a4f653",
   "metadata": {},
   "outputs": [
    {
     "data": {
      "text/plain": [
       "((590540, 190), (506691, 209))"
      ]
     },
     "execution_count": 23,
     "metadata": {},
     "output_type": "execute_result"
    }
   ],
   "source": [
    "train4.shape, test4.shape"
   ]
  },
  {
   "cell_type": "code",
   "execution_count": 24,
   "id": "5b1beff3",
   "metadata": {},
   "outputs": [],
   "source": [
    "train4.drop(['TransactionID'],axis = 1, inplace=True)"
   ]
  },
  {
   "cell_type": "code",
   "execution_count": 25,
   "id": "15de43ba",
   "metadata": {},
   "outputs": [],
   "source": [
    "from sklearn.model_selection import train_test_split\n",
    "import xgboost as xgb\n",
    "from xgboost import plot_importance\n",
    "from xgboost import XGBClassifier\n",
    "\n",
    "X = train4.drop(['isFraud'], axis = 1)\n",
    "X_test = test4\n",
    "y = train4['isFraud'].values\n",
    "\n",
    "# 학습 데이터 분할 \n",
    "X_train, X_validation, y_train, y_validation = train_test_split(X, y, train_size=0.8, random_state=0xC0FFEE)"
   ]
  },
  {
   "cell_type": "code",
   "execution_count": 26,
   "id": "27a93e91",
   "metadata": {},
   "outputs": [
    {
     "name": "stdout",
     "output_type": "stream",
     "text": [
      "[18:49:15] WARNING: ../src/learner.cc:1115: Starting in XGBoost 1.3.0, the default evaluation metric used with the objective 'binary:logistic' was changed from 'error' to 'logloss'. Explicitly set eval_metric if you'd like to restore the old behavior.\n"
     ]
    },
    {
     "data": {
      "text/html": [
       "<style>#sk-container-id-1 {color: black;background-color: white;}#sk-container-id-1 pre{padding: 0;}#sk-container-id-1 div.sk-toggleable {background-color: white;}#sk-container-id-1 label.sk-toggleable__label {cursor: pointer;display: block;width: 100%;margin-bottom: 0;padding: 0.3em;box-sizing: border-box;text-align: center;}#sk-container-id-1 label.sk-toggleable__label-arrow:before {content: \"▸\";float: left;margin-right: 0.25em;color: #696969;}#sk-container-id-1 label.sk-toggleable__label-arrow:hover:before {color: black;}#sk-container-id-1 div.sk-estimator:hover label.sk-toggleable__label-arrow:before {color: black;}#sk-container-id-1 div.sk-toggleable__content {max-height: 0;max-width: 0;overflow: hidden;text-align: left;background-color: #f0f8ff;}#sk-container-id-1 div.sk-toggleable__content pre {margin: 0.2em;color: black;border-radius: 0.25em;background-color: #f0f8ff;}#sk-container-id-1 input.sk-toggleable__control:checked~div.sk-toggleable__content {max-height: 200px;max-width: 100%;overflow: auto;}#sk-container-id-1 input.sk-toggleable__control:checked~label.sk-toggleable__label-arrow:before {content: \"▾\";}#sk-container-id-1 div.sk-estimator input.sk-toggleable__control:checked~label.sk-toggleable__label {background-color: #d4ebff;}#sk-container-id-1 div.sk-label input.sk-toggleable__control:checked~label.sk-toggleable__label {background-color: #d4ebff;}#sk-container-id-1 input.sk-hidden--visually {border: 0;clip: rect(1px 1px 1px 1px);clip: rect(1px, 1px, 1px, 1px);height: 1px;margin: -1px;overflow: hidden;padding: 0;position: absolute;width: 1px;}#sk-container-id-1 div.sk-estimator {font-family: monospace;background-color: #f0f8ff;border: 1px dotted black;border-radius: 0.25em;box-sizing: border-box;margin-bottom: 0.5em;}#sk-container-id-1 div.sk-estimator:hover {background-color: #d4ebff;}#sk-container-id-1 div.sk-parallel-item::after {content: \"\";width: 100%;border-bottom: 1px solid gray;flex-grow: 1;}#sk-container-id-1 div.sk-label:hover label.sk-toggleable__label {background-color: #d4ebff;}#sk-container-id-1 div.sk-serial::before {content: \"\";position: absolute;border-left: 1px solid gray;box-sizing: border-box;top: 0;bottom: 0;left: 50%;z-index: 0;}#sk-container-id-1 div.sk-serial {display: flex;flex-direction: column;align-items: center;background-color: white;padding-right: 0.2em;padding-left: 0.2em;position: relative;}#sk-container-id-1 div.sk-item {position: relative;z-index: 1;}#sk-container-id-1 div.sk-parallel {display: flex;align-items: stretch;justify-content: center;background-color: white;position: relative;}#sk-container-id-1 div.sk-item::before, #sk-container-id-1 div.sk-parallel-item::before {content: \"\";position: absolute;border-left: 1px solid gray;box-sizing: border-box;top: 0;bottom: 0;left: 50%;z-index: -1;}#sk-container-id-1 div.sk-parallel-item {display: flex;flex-direction: column;z-index: 1;position: relative;background-color: white;}#sk-container-id-1 div.sk-parallel-item:first-child::after {align-self: flex-end;width: 50%;}#sk-container-id-1 div.sk-parallel-item:last-child::after {align-self: flex-start;width: 50%;}#sk-container-id-1 div.sk-parallel-item:only-child::after {width: 0;}#sk-container-id-1 div.sk-dashed-wrapped {border: 1px dashed gray;margin: 0 0.4em 0.5em 0.4em;box-sizing: border-box;padding-bottom: 0.4em;background-color: white;}#sk-container-id-1 div.sk-label label {font-family: monospace;font-weight: bold;display: inline-block;line-height: 1.2em;}#sk-container-id-1 div.sk-label-container {text-align: center;}#sk-container-id-1 div.sk-container {/* jupyter's `normalize.less` sets `[hidden] { display: none; }` but bootstrap.min.css set `[hidden] { display: none !important; }` so we also need the `!important` here to be able to override the default hidden behavior on the sphinx rendered scikit-learn.org. See: https://github.com/scikit-learn/scikit-learn/issues/21755 */display: inline-block !important;position: relative;}#sk-container-id-1 div.sk-text-repr-fallback {display: none;}</style><div id=\"sk-container-id-1\" class=\"sk-top-container\"><div class=\"sk-text-repr-fallback\"><pre>XGBClassifier(base_score=0.5, booster=&#x27;gbtree&#x27;, colsample_bylevel=1,\n",
       "              colsample_bynode=1, colsample_bytree=1, enable_categorical=False,\n",
       "              gamma=0, gpu_id=-1, importance_type=None,\n",
       "              interaction_constraints=&#x27;&#x27;, learning_rate=0.300000012,\n",
       "              max_delta_step=0, max_depth=6, min_child_weight=1, missing=nan,\n",
       "              monotone_constraints=&#x27;()&#x27;, n_estimators=100, n_jobs=8,\n",
       "              num_parallel_tree=1, predictor=&#x27;auto&#x27;, random_state=0,\n",
       "              reg_alpha=0, reg_lambda=1, scale_pos_weight=1, subsample=1,\n",
       "              tree_method=&#x27;exact&#x27;, validate_parameters=1, verbosity=None)</pre><b>In a Jupyter environment, please rerun this cell to show the HTML representation or trust the notebook. <br />On GitHub, the HTML representation is unable to render, please try loading this page with nbviewer.org.</b></div><div class=\"sk-container\" hidden><div class=\"sk-item\"><div class=\"sk-estimator sk-toggleable\"><input class=\"sk-toggleable__control sk-hidden--visually\" id=\"sk-estimator-id-1\" type=\"checkbox\" checked><label for=\"sk-estimator-id-1\" class=\"sk-toggleable__label sk-toggleable__label-arrow\">XGBClassifier</label><div class=\"sk-toggleable__content\"><pre>XGBClassifier(base_score=0.5, booster=&#x27;gbtree&#x27;, colsample_bylevel=1,\n",
       "              colsample_bynode=1, colsample_bytree=1, enable_categorical=False,\n",
       "              gamma=0, gpu_id=-1, importance_type=None,\n",
       "              interaction_constraints=&#x27;&#x27;, learning_rate=0.300000012,\n",
       "              max_delta_step=0, max_depth=6, min_child_weight=1, missing=nan,\n",
       "              monotone_constraints=&#x27;()&#x27;, n_estimators=100, n_jobs=8,\n",
       "              num_parallel_tree=1, predictor=&#x27;auto&#x27;, random_state=0,\n",
       "              reg_alpha=0, reg_lambda=1, scale_pos_weight=1, subsample=1,\n",
       "              tree_method=&#x27;exact&#x27;, validate_parameters=1, verbosity=None)</pre></div></div></div></div></div>"
      ],
      "text/plain": [
       "XGBClassifier(base_score=0.5, booster='gbtree', colsample_bylevel=1,\n",
       "              colsample_bynode=1, colsample_bytree=1, enable_categorical=False,\n",
       "              gamma=0, gpu_id=-1, importance_type=None,\n",
       "              interaction_constraints='', learning_rate=0.300000012,\n",
       "              max_delta_step=0, max_depth=6, min_child_weight=1, missing=nan,\n",
       "              monotone_constraints='()', n_estimators=100, n_jobs=8,\n",
       "              num_parallel_tree=1, predictor='auto', random_state=0,\n",
       "              reg_alpha=0, reg_lambda=1, scale_pos_weight=1, subsample=1,\n",
       "              tree_method='exact', validate_parameters=1, verbosity=None)"
      ]
     },
     "execution_count": 26,
     "metadata": {},
     "output_type": "execute_result"
    }
   ],
   "source": [
    "xgbs = xgb.XGBClassifier(n_estimators=100)\n",
    "xgbs.fit(X_train, y_train)"
   ]
  },
  {
   "cell_type": "code",
   "execution_count": 312,
   "id": "eeee1927",
   "metadata": {},
   "outputs": [],
   "source": [
    "# xgbs.feature_importances_"
   ]
  },
  {
   "cell_type": "code",
   "execution_count": 27,
   "id": "87819702",
   "metadata": {},
   "outputs": [],
   "source": [
    "fea_imp_ = pd.DataFrame({'cols':X_train.columns, 'fea_imp':xgbs.feature_importances_})\n",
    "positive = fea_imp_.loc[fea_imp_.fea_imp > 0].sort_values(by=['fea_imp'], ascending = False)"
   ]
  },
  {
   "cell_type": "code",
   "execution_count": 28,
   "id": "b93404c8",
   "metadata": {
    "collapsed": true
   },
   "outputs": [
    {
     "data": {
      "text/plain": [
       "['C7',\n",
       " 'V91',\n",
       " 'V70',\n",
       " 'C14',\n",
       " 'C1',\n",
       " 'C12',\n",
       " 'V102',\n",
       " 'C4',\n",
       " 'V317',\n",
       " 'addr2',\n",
       " 'V283',\n",
       " 'C8',\n",
       " 'C13',\n",
       " 'V294',\n",
       " 'V318',\n",
       " 'V296',\n",
       " 'V308',\n",
       " 'V80',\n",
       " 'V87',\n",
       " 'V79',\n",
       " 'card6',\n",
       " 'V72',\n",
       " 'V281',\n",
       " 'V62',\n",
       " 'V291',\n",
       " 'V312',\n",
       " 'C5',\n",
       " 'card3',\n",
       " 'V279',\n",
       " 'V94',\n",
       " 'V76',\n",
       " 'C11',\n",
       " 'ProductCD',\n",
       " 'V315',\n",
       " 'C2',\n",
       " 'V86',\n",
       " 'V54',\n",
       " 'V121',\n",
       " 'D1',\n",
       " 'V74',\n",
       " 'V293',\n",
       " 'V12',\n",
       " 'P_emaildomain',\n",
       " 'V53',\n",
       " 'V20',\n",
       " 'V112',\n",
       " 'V25',\n",
       " 'C10',\n",
       " 'V133',\n",
       " 'V83',\n",
       " 'V298',\n",
       " 'V30',\n",
       " 'V67',\n",
       " 'V105',\n",
       " 'V115',\n",
       " 'V55',\n",
       " 'V282',\n",
       " 'V81',\n",
       " 'V17',\n",
       " 'C6',\n",
       " 'D10',\n",
       " 'C3',\n",
       " 'C9',\n",
       " 'V73',\n",
       " 'TransactionAmt',\n",
       " 'V56',\n",
       " 'V280',\n",
       " 'addr1',\n",
       " 'V285',\n",
       " 'V61',\n",
       " 'card2',\n",
       " 'D15_to_mean_card1',\n",
       " 'V313',\n",
       " 'V131',\n",
       " 'V290',\n",
       " 'V126',\n",
       " 'card1',\n",
       " 'D15',\n",
       " 'V63',\n",
       " 'V310',\n",
       " 'V82',\n",
       " 'V99',\n",
       " 'V13',\n",
       " 'TransactionAmt_to_mean_card4',\n",
       " 'V77',\n",
       " 'V98',\n",
       " 'D15_to_mean_card4',\n",
       " 'V64',\n",
       " 'V314',\n",
       " 'V320',\n",
       " 'card5',\n",
       " 'V301',\n",
       " 'P_emaildomain_2',\n",
       " 'TransactionAmt_to_mean_card1',\n",
       " 'V135',\n",
       " 'V26',\n",
       " 'V19',\n",
       " 'V137',\n",
       " 'V78',\n",
       " 'V108',\n",
       " 'V302',\n",
       " 'card4',\n",
       " 'V130',\n",
       " 'V127',\n",
       " 'V307',\n",
       " 'V109',\n",
       " 'V101',\n",
       " 'V23',\n",
       " 'V75',\n",
       " 'V33',\n",
       " 'V136',\n",
       " 'V21',\n",
       " 'V111',\n",
       " 'V321',\n",
       " 'V18',\n",
       " 'V85',\n",
       " 'V128',\n",
       " 'V66',\n",
       " 'hours',\n",
       " 'V124',\n",
       " 'V309',\n",
       " 'V58',\n",
       " 'V59',\n",
       " 'V134',\n",
       " 'V69',\n",
       " 'V93',\n",
       " 'V288',\n",
       " 'V303',\n",
       " 'days',\n",
       " 'V292',\n",
       " 'V319',\n",
       " 'V92',\n",
       " 'V311',\n",
       " 'V15',\n",
       " 'V289',\n",
       " 'V29',\n",
       " 'V96',\n",
       " 'V316',\n",
       " 'V24',\n",
       " 'V287',\n",
       " 'V16',\n",
       " 'V90',\n",
       " 'V60',\n",
       " 'V122',\n",
       " 'V129',\n",
       " 'V306',\n",
       " 'V284',\n",
       " 'V57',\n",
       " 'V125',\n",
       " 'V103',\n",
       " 'V300',\n",
       " 'V84',\n",
       " 'V295',\n",
       " 'V34',\n",
       " 'weekdays',\n",
       " 'V95',\n",
       " 'V32',\n",
       " 'V304',\n",
       " 'V123',\n",
       " 'V132',\n",
       " 'V113',\n",
       " 'V118',\n",
       " 'V97',\n",
       " 'V297',\n",
       " 'V110',\n",
       " 'V31']"
      ]
     },
     "execution_count": 28,
     "metadata": {},
     "output_type": "execute_result"
    }
   ],
   "source": [
    "positive.cols.tolist()"
   ]
  },
  {
   "cell_type": "code",
   "execution_count": 29,
   "id": "4290a85d",
   "metadata": {},
   "outputs": [],
   "source": [
    "train4 = train4[['isFraud','C7','V91','V70','C14','C1','C12','V102','C4','V317','addr2','V283','C8','C13','V294','V318','V296','V308','V80','V87','V79','card6','V72','V281','V62','V291','V312','C5','card3','V279','V94','V76','C11','ProductCD','V315','C2','V86','V54','V121','D1','V74','V293','V12','P_emaildomain','V53','V20','V112','V25','C10','V133','V83','V298','V30','V67','V105','V115','V55','V282','V81','V17','C6','D10','C3','C9','V73','TransactionAmt','V56','V280','addr1','V285','V61','card2','D15_to_mean_card1','V313','V131','V290','V126','card1','D15','V63','V310','V82','V99','V13','TransactionAmt_to_mean_card4','V77','V98','D15_to_mean_card4','V64','V314','V320','card5','V301','P_emaildomain_2','TransactionAmt_to_mean_card1','V135','V26','V19','V137','V78','V108','V302','card4','V130','V127','V307','V109','V101','V23','V75','V33','V136','V21','V111','V321','V18','V85','V128','V66','hours','V124','V309','V58','V59','V134','V69','V93','V288','V303','days','V292','V319','V92','V311','V15','V289','V29','V96','V316','V24','V287','V16','V90','V60','V122','V129','V306','V284','V57','V125','V103','V300','V84','V295','V34','weekdays','V95','V32','V304','V123','V132','V113','V118','V97','V297','V110','V31']]"
   ]
  },
  {
   "cell_type": "code",
   "execution_count": 30,
   "id": "f541d494",
   "metadata": {},
   "outputs": [],
   "source": [
    "test4 = test4[['C7','V91','V70','C14','C1','C12','V102','C4','V317','addr2','V283','C8','C13','V294','V318','V296','V308','V80','V87','V79','card6','V72','V281','V62','V291','V312','C5','card3','V279','V94','V76','C11','ProductCD','V315','C2','V86','V54','V121','D1','V74','V293','V12','P_emaildomain','V53','V20','V112','V25','C10','V133','V83','V298','V30','V67','V105','V115','V55','V282','V81','V17','C6','D10','C3','C9','V73','TransactionAmt','V56','V280','addr1','V285','V61','card2','D15_to_mean_card1','V313','V131','V290','V126','card1','D15','V63','V310','V82','V99','V13','TransactionAmt_to_mean_card4','V77','V98','D15_to_mean_card4','V64','V314','V320','card5','V301','P_emaildomain_2','TransactionAmt_to_mean_card1','V135','V26','V19','V137','V78','V108','V302','card4','V130','V127','V307','V109','V101','V23','V75','V33','V136','V21','V111','V321','V18','V85','V128','V66','hours','V124','V309','V58','V59','V134','V69','V93','V288','V303','days','V292','V319','V92','V311','V15','V289','V29','V96','V316','V24','V287','V16','V90','V60','V122','V129','V306','V284','V57','V125','V103','V300','V84','V295','V34','weekdays','V95','V32','V304','V123','V132','V113','V118','V97','V297','V110','V31']]"
   ]
  },
  {
   "cell_type": "code",
   "execution_count": 313,
   "id": "f909b493",
   "metadata": {},
   "outputs": [
    {
     "data": {
      "image/png": "[encoded data removed]",
      "text/plain": [
       "<Figure size 432x288 with 1 Axes>"
      ]
     },
     "metadata": {},
     "output_type": "display_data"
    }
   ],
   "source": [
    "plot_importance(xgbs, max_num_features=20)\n",
    "plt.show()"
   ]
  },
  {
   "cell_type": "code",
   "execution_count": 315,
   "id": "cd215afc",
   "metadata": {},
   "outputs": [],
   "source": [
    "train4 = train4[['isFraud','card1', 'card2', 'addr1', 'TransactionAmt','C13','TransactionAmt_to_mean_card1','C1','D15_to_mean_card1', 'P_emaildomain', 'TransactionAmt_to_mean_card4','D1','days','card5','D10','C2','D15','C11','hours','C14','D15_to_mean_card4']]"
   ]
  },
  {
   "cell_type": "code",
   "execution_count": 316,
   "id": "728fa649",
   "metadata": {},
   "outputs": [],
   "source": [
    "test4 = test4[['card1', 'card2', 'addr1', 'TransactionAmt','C13','TransactionAmt_to_mean_card1','C1','D15_to_mean_card1', 'P_emaildomain', 'TransactionAmt_to_mean_card4','D1','days','card5','D10','C2','D15','C11','hours','C14','D15_to_mean_card4']]"
   ]
  },
  {
   "cell_type": "code",
   "execution_count": 317,
   "id": "40dee6dd",
   "metadata": {},
   "outputs": [
    {
     "data": {
      "text/plain": [
       "((590540, 21), (506691, 20))"
      ]
     },
     "execution_count": 317,
     "metadata": {},
     "output_type": "execute_result"
    }
   ],
   "source": [
    "train4.shape, test4.shape"
   ]
  },
  {
   "cell_type": "markdown",
   "id": "6afc5583",
   "metadata": {},
   "source": [
    "## 학습 데이터 분할 및 평가"
   ]
  },
  {
   "cell_type": "code",
   "execution_count": 31,
   "id": "aa2199a0",
   "metadata": {},
   "outputs": [
    {
     "data": {
      "text/plain": [
       "((590540, 167), (506691, 166))"
      ]
     },
     "execution_count": 31,
     "metadata": {},
     "output_type": "execute_result"
    }
   ],
   "source": [
    "train4.shape, test4.shape"
   ]
  },
  {
   "cell_type": "code",
   "execution_count": 32,
   "id": "7431f74c",
   "metadata": {},
   "outputs": [],
   "source": [
    "from sklearn.model_selection import train_test_split\n",
    "\n",
    "X = train4.drop(['isFraud'], axis = 1)\n",
    "X_test = test4\n",
    "y = train4['isFraud'].values\n",
    "\n",
    "# 학습 데이터 분할 \n",
    "X_train, X_validation, y_train, y_validation = train_test_split(X, y, train_size=0.8, random_state=0xC0FFEE)"
   ]
  },
  {
   "cell_type": "code",
   "execution_count": 33,
   "id": "5f9b26c6",
   "metadata": {},
   "outputs": [
    {
     "data": {
      "text/plain": [
       "((472432, 166), (118108, 166), (472432,), (118108,))"
      ]
     },
     "execution_count": 33,
     "metadata": {},
     "output_type": "execute_result"
    }
   ],
   "source": [
    "X_train.shape, X_validation.shape, y_train.shape, y_validation.shape"
   ]
  },
  {
   "cell_type": "markdown",
   "id": "e3d64026",
   "metadata": {},
   "source": [
    "## Modeling\n",
    "### XGBoost 학습 및 평가(ROC)"
   ]
  },
  {
   "cell_type": "code",
   "execution_count": 34,
   "id": "399546ef",
   "metadata": {},
   "outputs": [
    {
     "name": "stdout",
     "output_type": "stream",
     "text": [
      "xgboost==1.5.0\n"
     ]
    }
   ],
   "source": [
    "# 성능 평가\n",
    "from sklearn.metrics import roc_auc_score\n",
    "from sklearn.metrics import roc_curve, auc\n",
    "\n",
    "import warnings\n",
    "import xgboost as xgb\n",
    "\n",
    "print(f'xgboost=={xgb.__version__}')"
   ]
  },
  {
   "cell_type": "code",
   "execution_count": 35,
   "id": "e9ba4e01",
   "metadata": {},
   "outputs": [
    {
     "name": "stdout",
     "output_type": "stream",
     "text": [
      "[19:42:56] WARNING: ../src/learner.cc:576: \n",
      "Parameters: { \"silent\" } might not be used.\n",
      "\n",
      "  This could be a false alarm, with some parameters getting used by language bindings but\n",
      "  then being mistakenly passed down to XGBoost core, or some parameter actually being used\n",
      "  but getting flagged wrongly here. Please open an issue if you find any such cases.\n",
      "\n",
      "\n",
      "[0]\tvalidation_0-auc:0.78836\n",
      "[100]\tvalidation_0-auc:0.91467\n",
      "[200]\tvalidation_0-auc:0.92837\n",
      "[300]\tvalidation_0-auc:0.93673\n",
      "[400]\tvalidation_0-auc:0.94273\n",
      "[499]\tvalidation_0-auc:0.94704\n"
     ]
    },
    {
     "data": {
      "text/plain": [
       "0.9471306114319145"
      ]
     },
     "execution_count": 35,
     "metadata": {},
     "output_type": "execute_result"
    }
   ],
   "source": [
    "xgb_clf = xgb.XGBClassifier(\n",
    "    n_estimators = 500,\n",
    "    max_depth = 6,\n",
    "    booster = 'gbtree',\n",
    "    eta = 0.1,\n",
    "    gamma = 0,    \n",
    "    silent = 0,\n",
    "    objective = 'binary:logistic',\n",
    "    nthread = 4,\n",
    "    base_score = 0.5,\n",
    "    eval_metric='auc'\n",
    ")\n",
    "\n",
    "xgb_clf.fit(X_train, y_train, eval_set=[(X_validation, y_validation)], early_stopping_rounds=15,verbose=100)\n",
    "y_pred_xgb = xgb_clf.predict_proba(X_validation)[:,1]\n",
    "roc_auc_score(y_validation, y_pred_xgb)"
   ]
  },
  {
   "cell_type": "code",
   "execution_count": 36,
   "id": "a482157f",
   "metadata": {},
   "outputs": [
    {
     "data": {
      "image/png": "[encoded data removed]",
      "text/plain": [
       "<Figure size 432x288 with 1 Axes>"
      ]
     },
     "metadata": {
      "needs_background": "light"
     },
     "output_type": "display_data"
    }
   ],
   "source": [
    "fpr,tpr,threshold = roc_curve(y_validation, y_pred_xgb)\n",
    "roc_auc = roc_auc_score(y_validation, y_pred_xgb)\n",
    "plt.plot(fpr, tpr, label='LR (area = %0.2f)' % roc_auc)\n",
    "plt.plot([0, 1], [0, 1],'r--')\n",
    "plt.xlim([-0.05, 1.05])\n",
    "plt.ylim([-0.05, 1.05])\n",
    "plt.xlabel('False Positive Rate')\n",
    "plt.ylabel('True Positive Rate')\n",
    "plt.title('ROC Curve')\n",
    "plt.legend()\n",
    "plt.show()"
   ]
  },
  {
   "cell_type": "code",
   "execution_count": 38,
   "id": "d0876363",
   "metadata": {},
   "outputs": [],
   "source": [
    "# (n_estimators, train accuracy, test accuracy)\n",
    "performances = []\n",
    "for n_estimators in range(10, 501, 10):\n",
    "    y_pred_train_xgb = xgb_clf.predict_proba(X_train, ntree_limit=n_estimators)[:, 1]\n",
    "    y_pred_test_xgb = xgb_clf.predict_proba(X_validation, ntree_limit=n_estimators)[:, 1]\n",
    "    train_accuracy = roc_auc_score( y_train, y_pred_train_xgb)\n",
    "    test_accuracy = roc_auc_score(y_validation , y_pred_test_xgb)\n",
    "    performances.append((n_estimators, train_accuracy, test_accuracy))"
   ]
  },
  {
   "cell_type": "code",
   "execution_count": 39,
   "id": "29d8e37e",
   "metadata": {},
   "outputs": [
    {
     "data": {
      "text/html": [
       "<div class=\"bk-root\">\n",
       "        <a href=\"https://bokeh.org\" target=\"_blank\" class=\"bk-logo bk-logo-small bk-logo-notebook\"></a>\n",
       "        <span id=\"1003\">Loading BokehJS ...</span>\n",
       "    </div>\n"
      ]
     },
     "metadata": {},
     "output_type": "display_data"
    },
    {
     "data": {
      "application/javascript": [
       "(function(root) {\n",
       "  function now() {\n",
       "    return new Date();\n",
       "  }\n",
       "\n",
       "  const force = true;\n",
       "\n",
       "  if (typeof root._bokeh_onload_callbacks === \"undefined\" || force === true) {\n",
       "    root._bokeh_onload_callbacks = [];\n",
       "    root._bokeh_is_loading = undefined;\n",
       "  }\n",
       "\n",
       "const JS_MIME_TYPE = 'application/javascript';\n",
       "  const HTML_MIME_TYPE = 'text/html';\n",
       "  const EXEC_MIME_TYPE = 'application/vnd.bokehjs_exec.v0+json';\n",
       "  const CLASS_NAME = 'output_bokeh rendered_html';\n",
       "\n",
       "  /**\n",
       "   * Render data to the DOM node\n",
       "   */\n",
       "  function render(props, node) {\n",
       "    const script = document.createElement(\"script\");\n",
       "    node.appendChild(script);\n",
       "  }\n",
       "\n",
       "  /**\n",
       "   * Handle when an output is cleared or removed\n",
       "   */\n",
       "  function handleClearOutput(event, handle) {\n",
       "    const cell = handle.cell;\n",
       "\n",
       "    const id = cell.output_area._bokeh_element_id;\n",
       "    const server_id = cell.output_area._bokeh_server_id;\n",
       "    // Clean up Bokeh references\n",
       "    if (id != null && id in Bokeh.index) {\n",
       "      Bokeh.index[id].model.document.clear();\n",
       "      delete Bokeh.index[id];\n",
       "    }\n",
       "\n",
       "    if (server_id !== undefined) {\n",
       "      // Clean up Bokeh references\n",
       "      const cmd_clean = \"from bokeh.io.state import curstate; print(curstate().uuid_to_server['\" + server_id + \"'].get_sessions()[0].document.roots[0]._id)\";\n",
       "      cell.notebook.kernel.execute(cmd_clean, {\n",
       "        iopub: {\n",
       "          output: function(msg) {\n",
       "            const id = msg.content.text.trim();\n",
       "            if (id in Bokeh.index) {\n",
       "              Bokeh.index[id].model.document.clear();\n",
       "              delete Bokeh.index[id];\n",
       "            }\n",
       "          }\n",
       "        }\n",
       "      });\n",
       "      // Destroy server and session\n",
       "      const cmd_destroy = \"import bokeh.io.notebook as ion; ion.destroy_server('\" + server_id + \"')\";\n",
       "      cell.notebook.kernel.execute(cmd_destroy);\n",
       "    }\n",
       "  }\n",
       "\n",
       "  /**\n",
       "   * Handle when a new output is added\n",
       "   */\n",
       "  function handleAddOutput(event, handle) {\n",
       "    const output_area = handle.output_area;\n",
       "    const output = handle.output;\n",
       "\n",
       "    // limit handleAddOutput to display_data with EXEC_MIME_TYPE content only\n",
       "    if ((output.output_type != \"display_data\") || (!Object.prototype.hasOwnProperty.call(output.data, EXEC_MIME_TYPE))) {\n",
       "      return\n",
       "    }\n",
       "\n",
       "    const toinsert = output_area.element.find(\".\" + CLASS_NAME.split(' ')[0]);\n",
       "\n",
       "    if (output.metadata[EXEC_MIME_TYPE][\"id\"] !== undefined) {\n",
       "      toinsert[toinsert.length - 1].firstChild.textContent = output.data[JS_MIME_TYPE];\n",
       "      // store reference to embed id on output_area\n",
       "      output_area._bokeh_element_id = output.metadata[EXEC_MIME_TYPE][\"id\"];\n",
       "    }\n",
       "    if (output.metadata[EXEC_MIME_TYPE][\"server_id\"] !== undefined) {\n",
       "      const bk_div = document.createElement(\"div\");\n",
       "      bk_div.innerHTML = output.data[HTML_MIME_TYPE];\n",
       "      const script_attrs = bk_div.children[0].attributes;\n",
       "      for (let i = 0; i < script_attrs.length; i++) {\n",
       "        toinsert[toinsert.length - 1].firstChild.setAttribute(script_attrs[i].name, script_attrs[i].value);\n",
       "        toinsert[toinsert.length - 1].firstChild.textContent = bk_div.children[0].textContent\n",
       "      }\n",
       "      // store reference to server id on output_area\n",
       "      output_area._bokeh_server_id = output.metadata[EXEC_MIME_TYPE][\"server_id\"];\n",
       "    }\n",
       "  }\n",
       "\n",
       "  function register_renderer(events, OutputArea) {\n",
       "\n",
       "    function append_mime(data, metadata, element) {\n",
       "      // create a DOM node to render to\n",
       "      const toinsert = this.create_output_subarea(\n",
       "        metadata,\n",
       "        CLASS_NAME,\n",
       "        EXEC_MIME_TYPE\n",
       "      );\n",
       "      this.keyboard_manager.register_events(toinsert);\n",
       "      // Render to node\n",
       "      const props = {data: data, metadata: metadata[EXEC_MIME_TYPE]};\n",
       "      render(props, toinsert[toinsert.length - 1]);\n",
       "      element.append(toinsert);\n",
       "      return toinsert\n",
       "    }\n",
       "\n",
       "    /* Handle when an output is cleared or removed */\n",
       "    events.on('clear_output.CodeCell', handleClearOutput);\n",
       "    events.on('delete.Cell', handleClearOutput);\n",
       "\n",
       "    /* Handle when a new output is added */\n",
       "    events.on('output_added.OutputArea', handleAddOutput);\n",
       "\n",
       "    /**\n",
       "     * Register the mime type and append_mime function with output_area\n",
       "     */\n",
       "    OutputArea.prototype.register_mime_type(EXEC_MIME_TYPE, append_mime, {\n",
       "      /* Is output safe? */\n",
       "      safe: true,\n",
       "      /* Index of renderer in `output_area.display_order` */\n",
       "      index: 0\n",
       "    });\n",
       "  }\n",
       "\n",
       "  // register the mime type if in Jupyter Notebook environment and previously unregistered\n",
       "  if (root.Jupyter !== undefined) {\n",
       "    const events = require('base/js/events');\n",
       "    const OutputArea = require('notebook/js/outputarea').OutputArea;\n",
       "\n",
       "    if (OutputArea.prototype.mime_types().indexOf(EXEC_MIME_TYPE) == -1) {\n",
       "      register_renderer(events, OutputArea);\n",
       "    }\n",
       "  }\n",
       "  if (typeof (root._bokeh_timeout) === \"undefined\" || force === true) {\n",
       "    root._bokeh_timeout = Date.now() + 5000;\n",
       "    root._bokeh_failed_load = false;\n",
       "  }\n",
       "\n",
       "  const NB_LOAD_WARNING = {'data': {'text/html':\n",
       "     \"<div style='background-color: #fdd'>\\n\"+\n",
       "     \"<p>\\n\"+\n",
       "     \"BokehJS does not appear to have successfully loaded. If loading BokehJS from CDN, this \\n\"+\n",
       "     \"may be due to a slow or bad network connection. Possible fixes:\\n\"+\n",
       "     \"</p>\\n\"+\n",
       "     \"<ul>\\n\"+\n",
       "     \"<li>re-rerun `output_notebook()` to attempt to load from CDN again, or</li>\\n\"+\n",
       "     \"<li>use INLINE resources instead, as so:</li>\\n\"+\n",
       "     \"</ul>\\n\"+\n",
       "     \"<code>\\n\"+\n",
       "     \"from bokeh.resources import INLINE\\n\"+\n",
       "     \"output_notebook(resources=INLINE)\\n\"+\n",
       "     \"</code>\\n\"+\n",
       "     \"</div>\"}};\n",
       "\n",
       "  function display_loaded() {\n",
       "    const el = document.getElementById(\"1003\");\n",
       "    if (el != null) {\n",
       "      el.textContent = \"BokehJS is loading...\";\n",
       "    }\n",
       "    if (root.Bokeh !== undefined) {\n",
       "      if (el != null) {\n",
       "        el.textContent = \"BokehJS \" + root.Bokeh.version + \" successfully loaded.\";\n",
       "      }\n",
       "    } else if (Date.now() < root._bokeh_timeout) {\n",
       "      setTimeout(display_loaded, 100)\n",
       "    }\n",
       "  }\n",
       "\n",
       "  function run_callbacks() {\n",
       "    try {\n",
       "      root._bokeh_onload_callbacks.forEach(function(callback) {\n",
       "        if (callback != null)\n",
       "          callback();\n",
       "      });\n",
       "    } finally {\n",
       "      delete root._bokeh_onload_callbacks\n",
       "    }\n",
       "    console.debug(\"Bokeh: all callbacks have finished\");\n",
       "  }\n",
       "\n",
       "  function load_libs(css_urls, js_urls, callback) {\n",
       "    if (css_urls == null) css_urls = [];\n",
       "    if (js_urls == null) js_urls = [];\n",
       "\n",
       "    root._bokeh_onload_callbacks.push(callback);\n",
       "    if (root._bokeh_is_loading > 0) {\n",
       "      console.debug(\"Bokeh: BokehJS is being loaded, scheduling callback at\", now());\n",
       "      return null;\n",
       "    }\n",
       "    if (js_urls == null || js_urls.length === 0) {\n",
       "      run_callbacks();\n",
       "      return null;\n",
       "    }\n",
       "    console.debug(\"Bokeh: BokehJS not loaded, scheduling load and callback at\", now());\n",
       "    root._bokeh_is_loading = css_urls.length + js_urls.length;\n",
       "\n",
       "    function on_load() {\n",
       "      root._bokeh_is_loading--;\n",
       "      if (root._bokeh_is_loading === 0) {\n",
       "        console.debug(\"Bokeh: all BokehJS libraries/stylesheets loaded\");\n",
       "        run_callbacks()\n",
       "      }\n",
       "    }\n",
       "\n",
       "    function on_error(url) {\n",
       "      console.error(\"failed to load \" + url);\n",
       "    }\n",
       "\n",
       "    for (let i = 0; i < css_urls.length; i++) {\n",
       "      const url = css_urls[i];\n",
       "      const element = document.createElement(\"link\");\n",
       "      element.onload = on_load;\n",
       "      element.onerror = on_error.bind(null, url);\n",
       "      element.rel = \"stylesheet\";\n",
       "      element.type = \"text/css\";\n",
       "      element.href = url;\n",
       "      console.debug(\"Bokeh: injecting link tag for BokehJS stylesheet: \", url);\n",
       "      document.body.appendChild(element);\n",
       "    }\n",
       "\n",
       "    for (let i = 0; i < js_urls.length; i++) {\n",
       "      const url = js_urls[i];\n",
       "      const element = document.createElement('script');\n",
       "      element.onload = on_load;\n",
       "      element.onerror = on_error.bind(null, url);\n",
       "      element.async = false;\n",
       "      element.src = url;\n",
       "      console.debug(\"Bokeh: injecting script tag for BokehJS library: \", url);\n",
       "      document.head.appendChild(element);\n",
       "    }\n",
       "  };\n",
       "\n",
       "  function inject_raw_css(css) {\n",
       "    const element = document.createElement(\"style\");\n",
       "    element.appendChild(document.createTextNode(css));\n",
       "    document.body.appendChild(element);\n",
       "  }\n",
       "\n",
       "  const js_urls = [\"https://cdn.bokeh.org/bokeh/release/bokeh-2.4.3.min.js\", \"https://cdn.bokeh.org/bokeh/release/bokeh-gl-2.4.3.min.js\", \"https://cdn.bokeh.org/bokeh/release/bokeh-widgets-2.4.3.min.js\", \"https://cdn.bokeh.org/bokeh/release/bokeh-tables-2.4.3.min.js\", \"https://cdn.bokeh.org/bokeh/release/bokeh-mathjax-2.4.3.min.js\"];\n",
       "  const css_urls = [];\n",
       "\n",
       "  const inline_js = [    function(Bokeh) {\n",
       "      Bokeh.set_log_level(\"info\");\n",
       "    },\n",
       "function(Bokeh) {\n",
       "    }\n",
       "  ];\n",
       "\n",
       "  function run_inline_js() {\n",
       "    if (root.Bokeh !== undefined || force === true) {\n",
       "          for (let i = 0; i < inline_js.length; i++) {\n",
       "      inline_js[i].call(root, root.Bokeh);\n",
       "    }\n",
       "if (force === true) {\n",
       "        display_loaded();\n",
       "      }} else if (Date.now() < root._bokeh_timeout) {\n",
       "      setTimeout(run_inline_js, 100);\n",
       "    } else if (!root._bokeh_failed_load) {\n",
       "      console.log(\"Bokeh: BokehJS failed to load within specified timeout.\");\n",
       "      root._bokeh_failed_load = true;\n",
       "    } else if (force !== true) {\n",
       "      const cell = $(document.getElementById(\"1003\")).parents('.cell').data().cell;\n",
       "      cell.output_area.append_execute_result(NB_LOAD_WARNING)\n",
       "    }\n",
       "  }\n",
       "\n",
       "  if (root._bokeh_is_loading === 0) {\n",
       "    console.debug(\"Bokeh: BokehJS loaded, going straight to plotting\");\n",
       "    run_inline_js();\n",
       "  } else {\n",
       "    load_libs(css_urls, js_urls, function() {\n",
       "      console.debug(\"Bokeh: BokehJS plotting callback run at\", now());\n",
       "      run_inline_js();\n",
       "    });\n",
       "  }\n",
       "}(window));"
      ],
      "application/vnd.bokehjs_load.v0+json": "(function(root) {\n  function now() {\n    return new Date();\n  }\n\n  const force = true;\n\n  if (typeof root._bokeh_onload_callbacks === \"undefined\" || force === true) {\n    root._bokeh_onload_callbacks = [];\n    root._bokeh_is_loading = undefined;\n  }\n\n\n  if (typeof (root._bokeh_timeout) === \"undefined\" || force === true) {\n    root._bokeh_timeout = Date.now() + 5000;\n    root._bokeh_failed_load = false;\n  }\n\n  const NB_LOAD_WARNING = {'data': {'text/html':\n     \"<div style='background-color: #fdd'>\\n\"+\n     \"<p>\\n\"+\n     \"BokehJS does not appear to have successfully loaded. If loading BokehJS from CDN, this \\n\"+\n     \"may be due to a slow or bad network connection. Possible fixes:\\n\"+\n     \"</p>\\n\"+\n     \"<ul>\\n\"+\n     \"<li>re-rerun `output_notebook()` to attempt to load from CDN again, or</li>\\n\"+\n     \"<li>use INLINE resources instead, as so:</li>\\n\"+\n     \"</ul>\\n\"+\n     \"<code>\\n\"+\n     \"from bokeh.resources import INLINE\\n\"+\n     \"output_notebook(resources=INLINE)\\n\"+\n     \"</code>\\n\"+\n     \"</div>\"}};\n\n  function display_loaded() {\n    const el = document.getElementById(\"1003\");\n    if (el != null) {\n      el.textContent = \"BokehJS is loading...\";\n    }\n    if (root.Bokeh !== undefined) {\n      if (el != null) {\n        el.textContent = \"BokehJS \" + root.Bokeh.version + \" successfully loaded.\";\n      }\n    } else if (Date.now() < root._bokeh_timeout) {\n      setTimeout(display_loaded, 100)\n    }\n  }\n\n  function run_callbacks() {\n    try {\n      root._bokeh_onload_callbacks.forEach(function(callback) {\n        if (callback != null)\n          callback();\n      });\n    } finally {\n      delete root._bokeh_onload_callbacks\n    }\n    console.debug(\"Bokeh: all callbacks have finished\");\n  }\n\n  function load_libs(css_urls, js_urls, callback) {\n    if (css_urls == null) css_urls = [];\n    if (js_urls == null) js_urls = [];\n\n    root._bokeh_onload_callbacks.push(callback);\n    if (root._bokeh_is_loading > 0) {\n      console.debug(\"Bokeh: BokehJS is being loaded, scheduling callback at\", now());\n      return null;\n    }\n    if (js_urls == null || js_urls.length === 0) {\n      run_callbacks();\n      return null;\n    }\n    console.debug(\"Bokeh: BokehJS not loaded, scheduling load and callback at\", now());\n    root._bokeh_is_loading = css_urls.length + js_urls.length;\n\n    function on_load() {\n      root._bokeh_is_loading--;\n      if (root._bokeh_is_loading === 0) {\n        console.debug(\"Bokeh: all BokehJS libraries/stylesheets loaded\");\n        run_callbacks()\n      }\n    }\n\n    function on_error(url) {\n      console.error(\"failed to load \" + url);\n    }\n\n    for (let i = 0; i < css_urls.length; i++) {\n      const url = css_urls[i];\n      const element = document.createElement(\"link\");\n      element.onload = on_load;\n      element.onerror = on_error.bind(null, url);\n      element.rel = \"stylesheet\";\n      element.type = \"text/css\";\n      element.href = url;\n      console.debug(\"Bokeh: injecting link tag for BokehJS stylesheet: \", url);\n      document.body.appendChild(element);\n    }\n\n    for (let i = 0; i < js_urls.length; i++) {\n      const url = js_urls[i];\n      const element = document.createElement('script');\n      element.onload = on_load;\n      element.onerror = on_error.bind(null, url);\n      element.async = false;\n      element.src = url;\n      console.debug(\"Bokeh: injecting script tag for BokehJS library: \", url);\n      document.head.appendChild(element);\n    }\n  };\n\n  function inject_raw_css(css) {\n    const element = document.createElement(\"style\");\n    element.appendChild(document.createTextNode(css));\n    document.body.appendChild(element);\n  }\n\n  const js_urls = [\"https://cdn.bokeh.org/bokeh/release/bokeh-2.4.3.min.js\", \"https://cdn.bokeh.org/bokeh/release/bokeh-gl-2.4.3.min.js\", \"https://cdn.bokeh.org/bokeh/release/bokeh-widgets-2.4.3.min.js\", \"https://cdn.bokeh.org/bokeh/release/bokeh-tables-2.4.3.min.js\", \"https://cdn.bokeh.org/bokeh/release/bokeh-mathjax-2.4.3.min.js\"];\n  const css_urls = [];\n\n  const inline_js = [    function(Bokeh) {\n      Bokeh.set_log_level(\"info\");\n    },\nfunction(Bokeh) {\n    }\n  ];\n\n  function run_inline_js() {\n    if (root.Bokeh !== undefined || force === true) {\n          for (let i = 0; i < inline_js.length; i++) {\n      inline_js[i].call(root, root.Bokeh);\n    }\nif (force === true) {\n        display_loaded();\n      }} else if (Date.now() < root._bokeh_timeout) {\n      setTimeout(run_inline_js, 100);\n    } else if (!root._bokeh_failed_load) {\n      console.log(\"Bokeh: BokehJS failed to load within specified timeout.\");\n      root._bokeh_failed_load = true;\n    } else if (force !== true) {\n      const cell = $(document.getElementById(\"1003\")).parents('.cell').data().cell;\n      cell.output_area.append_execute_result(NB_LOAD_WARNING)\n    }\n  }\n\n  if (root._bokeh_is_loading === 0) {\n    console.debug(\"Bokeh: BokehJS loaded, going straight to plotting\");\n    run_inline_js();\n  } else {\n    load_libs(css_urls, js_urls, function() {\n      console.debug(\"Bokeh: BokehJS plotting callback run at\", now());\n      run_inline_js();\n    });\n  }\n}(window));"
     },
     "metadata": {},
     "output_type": "display_data"
    },
    {
     "data": {
      "text/html": [
       "\n",
       "  <div class=\"bk-root\" id=\"9fd9b9fa-8336-4a5c-9d30-f6e2851a335e\" data-root-id=\"1004\"></div>\n"
      ]
     },
     "metadata": {},
     "output_type": "display_data"
    },
    {
     "data": {
      "application/javascript": [
       "(function(root) {\n",
       "  function embed_document(root) {\n",
       "  const docs_json = {\"8a3b08fb-22d6-4362-9c9e-1cd4958285ff\":{\"defs\":[],\"roots\":{\"references\":[{\"attributes\":{\"below\":[{\"id\":\"1015\"}],\"center\":[{\"id\":\"1018\"},{\"id\":\"1022\"},{\"id\":\"1053\"}],\"height\":400,\"left\":[{\"id\":\"1019\"}],\"renderers\":[{\"id\":\"1041\"},{\"id\":\"1059\"}],\"title\":{\"id\":\"1005\"},\"toolbar\":{\"id\":\"1030\"},\"width\":800,\"x_range\":{\"id\":\"1007\"},\"x_scale\":{\"id\":\"1011\"},\"y_range\":{\"id\":\"1009\"},\"y_scale\":{\"id\":\"1013\"}},\"id\":\"1004\",\"subtype\":\"Figure\",\"type\":\"Plot\"},{\"attributes\":{\"axis\":{\"id\":\"1015\"},\"coordinates\":null,\"group\":null,\"ticker\":null},\"id\":\"1018\",\"type\":\"Grid\"},{\"attributes\":{\"source\":{\"id\":\"1055\"}},\"id\":\"1060\",\"type\":\"CDSView\"},{\"attributes\":{},\"id\":\"1013\",\"type\":\"LinearScale\"},{\"attributes\":{\"coordinates\":null,\"data_source\":{\"id\":\"1055\"},\"glyph\":{\"id\":\"1056\"},\"group\":null,\"hover_glyph\":null,\"muted_glyph\":{\"id\":\"1058\"},\"nonselection_glyph\":{\"id\":\"1057\"},\"view\":{\"id\":\"1060\"}},\"id\":\"1059\",\"type\":\"GlyphRenderer\"},{\"attributes\":{\"line_alpha\":0.1,\"line_color\":\"orange\",\"line_width\":2,\"x\":{\"field\":\"x\"},\"y\":{\"field\":\"y\"}},\"id\":\"1039\",\"type\":\"Line\"},{\"attributes\":{\"line_color\":\"orange\",\"line_width\":2,\"x\":{\"field\":\"x\"},\"y\":{\"field\":\"y\"}},\"id\":\"1038\",\"type\":\"Line\"},{\"attributes\":{\"coordinates\":null,\"group\":null,\"text\":\"Accuracy by n_estimators (XGB)\"},\"id\":\"1005\",\"type\":\"Title\"},{\"attributes\":{\"overlay\":{\"id\":\"1029\"}},\"id\":\"1025\",\"type\":\"BoxZoomTool\"},{\"attributes\":{\"coordinates\":null,\"data_source\":{\"id\":\"1037\"},\"glyph\":{\"id\":\"1038\"},\"group\":null,\"hover_glyph\":null,\"muted_glyph\":{\"id\":\"1040\"},\"nonselection_glyph\":{\"id\":\"1039\"},\"view\":{\"id\":\"1042\"}},\"id\":\"1041\",\"type\":\"GlyphRenderer\"},{\"attributes\":{\"data\":{\"x\":[10,20,30,40,50,60,70,80,90,100,110,120,130,140,150,160,170,180,190,200,210,220,230,240,250,260,270,280,290,300,310,320,330,340,350,360,370,380,390,400,410,420,430,440,450,460,470,480,490,500],\"y\":[0.8484138417831261,0.869618823217213,0.877676367181732,0.8868889181710371,0.8966882527768796,0.9038688392348495,0.9076365769363447,0.910423344515201,0.9132161850731539,0.9146032543211822,0.9163455003331452,0.9184015522238529,0.9199876019946713,0.9214547650790668,0.9228529338579491,0.924023388535048,0.9255943576226696,0.9269827333629849,0.9279374492609946,0.9283843251311007,0.9299957358599886,0.9304264075252064,0.9313886241897141,0.9329072821896186,0.9337170781803853,0.9344841834306536,0.9349132176118327,0.9355759915893557,0.9359672608451736,0.9366694742373854,0.9376045773322191,0.9379319343422148,0.9382487355935197,0.9387117139039696,0.9392204975667431,0.9400896562086328,0.9404393099331828,0.9407782547382626,0.9418971805783374,0.9425210393827657,0.94303296952303,0.9435439354699303,0.9441798682778235,0.9445364132095272,0.9449373963537105,0.9451857789373317,0.94563205758319,0.9457932073934389,0.946719198963778,0.9471306114319145]},\"selected\":{\"id\":\"1071\"},\"selection_policy\":{\"id\":\"1070\"}},\"id\":\"1055\",\"type\":\"ColumnDataSource\"},{\"attributes\":{},\"id\":\"1071\",\"type\":\"Selection\"},{\"attributes\":{\"line_alpha\":0.2,\"line_color\":\"orange\",\"line_width\":2,\"x\":{\"field\":\"x\"},\"y\":{\"field\":\"y\"}},\"id\":\"1040\",\"type\":\"Line\"},{\"attributes\":{},\"id\":\"1009\",\"type\":\"DataRange1d\"},{\"attributes\":{\"data\":{\"x\":[10,20,30,40,50,60,70,80,90,100,110,120,130,140,150,160,170,180,190,200,210,220,230,240,250,260,270,280,290,300,310,320,330,340,350,360,370,380,390,400,410,420,430,440,450,460,470,480,490,500],\"y\":[0.852195768102763,0.8739050301124149,0.8841671331643268,0.8944937540661261,0.9051572603032915,0.9130119894601295,0.9175142763321743,0.920655793670289,0.9242684187921968,0.9260989176951925,0.9281297868321159,0.9307415774371575,0.93267397681618,0.9344130997867721,0.9361304296766882,0.9376741372410174,0.9395263905600423,0.9415273155334518,0.9427109422521184,0.9435992378959968,0.9452415916842101,0.945953862175315,0.9472482576887347,0.94920571731109,0.9504654581296805,0.9516211442226138,0.952256503774222,0.9532466814314244,0.9540080586328579,0.9551523940430875,0.9561279357935891,0.9567344640947099,0.9573588755977137,0.9582243633142778,0.9589949947450731,0.959954243828826,0.960372266724874,0.9611355503342138,0.9622324554609558,0.9629132863095772,0.963476160886555,0.9641215884312423,0.9648083453393751,0.9654262338890204,0.9660273510126134,0.9665822660907469,0.9672022003881935,0.967609940227426,0.9685482002946117,0.969107978756514]},\"selected\":{\"id\":\"1051\"},\"selection_policy\":{\"id\":\"1050\"}},\"id\":\"1037\",\"type\":\"ColumnDataSource\"},{\"attributes\":{},\"id\":\"1045\",\"type\":\"BasicTickFormatter\"},{\"attributes\":{},\"id\":\"1051\",\"type\":\"Selection\"},{\"attributes\":{\"axis_label\":\"nestimators\",\"coordinates\":null,\"formatter\":{\"id\":\"1048\"},\"group\":null,\"major_label_policy\":{\"id\":\"1049\"},\"ticker\":{\"id\":\"1016\"}},\"id\":\"1015\",\"type\":\"LinearAxis\"},{\"attributes\":{},\"id\":\"1050\",\"type\":\"UnionRenderers\"},{\"attributes\":{\"tools\":[{\"id\":\"1023\"},{\"id\":\"1024\"},{\"id\":\"1025\"},{\"id\":\"1026\"},{\"id\":\"1027\"},{\"id\":\"1028\"}]},\"id\":\"1030\",\"type\":\"Toolbar\"},{\"attributes\":{\"line_color\":\"blue\",\"line_width\":2,\"x\":{\"field\":\"x\"},\"y\":{\"field\":\"y\"}},\"id\":\"1056\",\"type\":\"Line\"},{\"attributes\":{},\"id\":\"1024\",\"type\":\"WheelZoomTool\"},{\"attributes\":{},\"id\":\"1023\",\"type\":\"PanTool\"},{\"attributes\":{\"axis\":{\"id\":\"1019\"},\"coordinates\":null,\"dimension\":1,\"group\":null,\"ticker\":null},\"id\":\"1022\",\"type\":\"Grid\"},{\"attributes\":{},\"id\":\"1020\",\"type\":\"BasicTicker\"},{\"attributes\":{},\"id\":\"1049\",\"type\":\"AllLabels\"},{\"attributes\":{},\"id\":\"1028\",\"type\":\"HelpTool\"},{\"attributes\":{},\"id\":\"1046\",\"type\":\"AllLabels\"},{\"attributes\":{\"label\":{\"value\":\"Test\"},\"renderers\":[{\"id\":\"1059\"}]},\"id\":\"1073\",\"type\":\"LegendItem\"},{\"attributes\":{\"bottom_units\":\"screen\",\"coordinates\":null,\"fill_alpha\":0.5,\"fill_color\":\"lightgrey\",\"group\":null,\"left_units\":\"screen\",\"level\":\"overlay\",\"line_alpha\":1.0,\"line_color\":\"black\",\"line_dash\":[4,4],\"line_width\":2,\"right_units\":\"screen\",\"syncable\":false,\"top_units\":\"screen\"},\"id\":\"1029\",\"type\":\"BoxAnnotation\"},{\"attributes\":{},\"id\":\"1011\",\"type\":\"LinearScale\"},{\"attributes\":{\"label\":{\"value\":\"Train\"},\"renderers\":[{\"id\":\"1041\"}]},\"id\":\"1054\",\"type\":\"LegendItem\"},{\"attributes\":{},\"id\":\"1070\",\"type\":\"UnionRenderers\"},{\"attributes\":{},\"id\":\"1027\",\"type\":\"ResetTool\"},{\"attributes\":{},\"id\":\"1048\",\"type\":\"BasicTickFormatter\"},{\"attributes\":{},\"id\":\"1026\",\"type\":\"SaveTool\"},{\"attributes\":{},\"id\":\"1007\",\"type\":\"DataRange1d\"},{\"attributes\":{\"axis_label\":\"roc\",\"coordinates\":null,\"formatter\":{\"id\":\"1045\"},\"group\":null,\"major_label_policy\":{\"id\":\"1046\"},\"ticker\":{\"id\":\"1020\"}},\"id\":\"1019\",\"type\":\"LinearAxis\"},{\"attributes\":{\"line_alpha\":0.1,\"line_color\":\"blue\",\"line_width\":2,\"x\":{\"field\":\"x\"},\"y\":{\"field\":\"y\"}},\"id\":\"1057\",\"type\":\"Line\"},{\"attributes\":{},\"id\":\"1016\",\"type\":\"BasicTicker\"},{\"attributes\":{\"source\":{\"id\":\"1037\"}},\"id\":\"1042\",\"type\":\"CDSView\"},{\"attributes\":{\"coordinates\":null,\"group\":null,\"items\":[{\"id\":\"1054\"},{\"id\":\"1073\"}]},\"id\":\"1053\",\"type\":\"Legend\"},{\"attributes\":{\"line_alpha\":0.2,\"line_color\":\"blue\",\"line_width\":2,\"x\":{\"field\":\"x\"},\"y\":{\"field\":\"y\"}},\"id\":\"1058\",\"type\":\"Line\"}],\"root_ids\":[\"1004\"]},\"title\":\"Bokeh Application\",\"version\":\"2.4.3\"}};\n",
       "  const render_items = [{\"docid\":\"8a3b08fb-22d6-4362-9c9e-1cd4958285ff\",\"root_ids\":[\"1004\"],\"roots\":{\"1004\":\"9fd9b9fa-8336-4a5c-9d30-f6e2851a335e\"}}];\n",
       "  root.Bokeh.embed.embed_items_notebook(docs_json, render_items);\n",
       "  }\n",
       "  if (root.Bokeh !== undefined) {\n",
       "    embed_document(root);\n",
       "  } else {\n",
       "    let attempts = 0;\n",
       "    const timer = setInterval(function(root) {\n",
       "      if (root.Bokeh !== undefined) {\n",
       "        clearInterval(timer);\n",
       "        embed_document(root);\n",
       "      } else {\n",
       "        attempts++;\n",
       "        if (attempts > 100) {\n",
       "          clearInterval(timer);\n",
       "          console.log(\"Bokeh: ERROR: Unable to run BokehJS code because BokehJS library is missing\");\n",
       "        }\n",
       "      }\n",
       "    }, 10, root)\n",
       "  }\n",
       "})(window);"
      ],
      "application/vnd.bokehjs_exec.v0+json": ""
     },
     "metadata": {
      "application/vnd.bokehjs_exec.v0+json": {
       "id": "1004"
      }
     },
     "output_type": "display_data"
    }
   ],
   "source": [
    "# 오버피팅 확인\n",
    "from bokeh.plotting import figure, show, output_notebook, save\n",
    "from bokeh.layouts import gridplot\n",
    "\n",
    "output_notebook()\n",
    "\n",
    "n_estimators, train_accuracy, test_accuracy = zip(*performances)\n",
    "p = figure(plot_width=800, plot_height=400, title='Accuracy by n_estimators (XGB)')\n",
    "p.line(n_estimators, train_accuracy, line_width=2, line_color='orange', legend_label='Train')\n",
    "p.line(n_estimators, test_accuracy, line_width=2, line_color='blue', legend_label='Test')\n",
    "p.xaxis.axis_label = 'nestimators'\n",
    "p.yaxis.axis_label = 'roc'\n",
    "show(p)"
   ]
  },
  {
   "cell_type": "markdown",
   "id": "d083f5dc",
   "metadata": {},
   "source": [
    "Trees 의 개수와 정확도의 플랏을 그려보면 train 데이터에 대한 정확도와 test 데이터에 대한 정확도와 같이 올라감<br>\n",
    "-> **overfitting은 없음** <br>\n",
    "- test 데이터가 올라감! -> 학습 더 시켜줘! -> 성능이 올라갈 수 있다!  <br>\n",
    "    - 방법은? [callback 함수 추가](https://xgboost.readthedocs.io/en/stable/python/python_api.html#xgboost.XGBRegressor.fit)"
   ]
  },
  {
   "cell_type": "markdown",
   "id": "0d0a77cf",
   "metadata": {},
   "source": [
    "### confusion_matrix(오차행렬)\n",
    "<font size=\"5\">평가 결과의 해석</font> <br>\n",
    "정상을 positive, 불량을 negative라고 정의하고, 맞출 경우를 True, 틀릴 경우를 False라고 한다면 다음과 같은 confusion matrix가 생성됨\n",
    " \n",
    " \n",
    " <img src=\"https://www.researchgate.net/profile/Nimmisha-Shajihan/publication/347447352/figure/fig3/AS:970048604741634@1608289018974/Performance-measurement-TP-TN-FP-FN-are-the-parameters-used-in-the-evaluation-of.jpg\" width=\"600\" style=\"float:left\" />"
   ]
  },
  {
   "cell_type": "code",
   "execution_count": 40,
   "id": "4125683b",
   "metadata": {},
   "outputs": [
    {
     "data": {
      "text/plain": [
       "array([[113659,    176],\n",
       "       [  2146,   2127]])"
      ]
     },
     "execution_count": 40,
     "metadata": {},
     "output_type": "execute_result"
    }
   ],
   "source": [
    "from sklearn.metrics import confusion_matrix\n",
    "confusion_matrix(y_validation, xgb_clf.predict(X_validation))"
   ]
  },
  {
   "cell_type": "markdown",
   "id": "6bc9b18d",
   "metadata": {},
   "source": [
    "### F1 score"
   ]
  },
  {
   "cell_type": "code",
   "execution_count": 41,
   "id": "4d55c08e",
   "metadata": {},
   "outputs": [],
   "source": [
    "from sklearn.metrics import f1_score\n",
    "evaluation_metric = f1_score"
   ]
  },
  {
   "cell_type": "code",
   "execution_count": 42,
   "id": "f913c4f5",
   "metadata": {
    "scrolled": false
   },
   "outputs": [
    {
     "name": "stdout",
     "output_type": "stream",
     "text": [
      "Prediction\n",
      "Train Score : 0.7205\n",
      "Test Score : 0.6469\n"
     ]
    }
   ],
   "source": [
    "print(\"Prediction\")\n",
    "pred_train = xgb_clf.predict(X_train)\n",
    "pred_test = xgb_clf.predict(X_validation)\n",
    "\n",
    "train_score = evaluation_metric(y_train, pred_train)\n",
    "test_score = evaluation_metric(y_validation, pred_test)\n",
    "\n",
    "\n",
    "print(\"Train Score : %.4f\" % train_score)\n",
    "print(\"Test Score : %.4f\" % test_score)"
   ]
  },
  {
   "cell_type": "markdown",
   "id": "50474215",
   "metadata": {},
   "source": [
    "### 제출"
   ]
  },
  {
   "cell_type": "code",
   "execution_count": 43,
   "id": "2f421642",
   "metadata": {},
   "outputs": [
    {
     "data": {
      "text/plain": [
       "((506691, 166), (506691, 2))"
      ]
     },
     "execution_count": 43,
     "metadata": {},
     "output_type": "execute_result"
    }
   ],
   "source": [
    "X_test.shape, submission.shape"
   ]
  },
  {
   "cell_type": "code",
   "execution_count": 44,
   "id": "e0060038",
   "metadata": {
    "scrolled": false
   },
   "outputs": [],
   "source": [
    "prediction = xgb_clf.predict_proba(X_test)[:,1]"
   ]
  },
  {
   "cell_type": "code",
   "execution_count": 45,
   "id": "024be137",
   "metadata": {},
   "outputs": [
    {
     "data": {
      "text/html": [
       "<div>\n",
       "<style scoped>\n",
       "    .dataframe tbody tr th:only-of-type {\n",
       "        vertical-align: middle;\n",
       "    }\n",
       "\n",
       "    .dataframe tbody tr th {\n",
       "        vertical-align: top;\n",
       "    }\n",
       "\n",
       "    .dataframe thead th {\n",
       "        text-align: right;\n",
       "    }\n",
       "</style>\n",
       "<table border=\"1\" class=\"dataframe\">\n",
       "  <thead>\n",
       "    <tr style=\"text-align: right;\">\n",
       "      <th></th>\n",
       "      <th>TransactionID</th>\n",
       "      <th>isFraud</th>\n",
       "    </tr>\n",
       "  </thead>\n",
       "  <tbody>\n",
       "    <tr>\n",
       "      <th>0</th>\n",
       "      <td>3663549</td>\n",
       "      <td>0.0023</td>\n",
       "    </tr>\n",
       "    <tr>\n",
       "      <th>1</th>\n",
       "      <td>3663550</td>\n",
       "      <td>0.0066</td>\n",
       "    </tr>\n",
       "    <tr>\n",
       "      <th>2</th>\n",
       "      <td>3663551</td>\n",
       "      <td>0.0023</td>\n",
       "    </tr>\n",
       "    <tr>\n",
       "      <th>3</th>\n",
       "      <td>3663552</td>\n",
       "      <td>0.0021</td>\n",
       "    </tr>\n",
       "    <tr>\n",
       "      <th>4</th>\n",
       "      <td>3663553</td>\n",
       "      <td>0.0035</td>\n",
       "    </tr>\n",
       "    <tr>\n",
       "      <th>...</th>\n",
       "      <td>...</td>\n",
       "      <td>...</td>\n",
       "    </tr>\n",
       "    <tr>\n",
       "      <th>506686</th>\n",
       "      <td>4170235</td>\n",
       "      <td>0.0185</td>\n",
       "    </tr>\n",
       "    <tr>\n",
       "      <th>506687</th>\n",
       "      <td>4170236</td>\n",
       "      <td>0.0105</td>\n",
       "    </tr>\n",
       "    <tr>\n",
       "      <th>506688</th>\n",
       "      <td>4170237</td>\n",
       "      <td>0.0095</td>\n",
       "    </tr>\n",
       "    <tr>\n",
       "      <th>506689</th>\n",
       "      <td>4170238</td>\n",
       "      <td>0.0092</td>\n",
       "    </tr>\n",
       "    <tr>\n",
       "      <th>506690</th>\n",
       "      <td>4170239</td>\n",
       "      <td>0.0057</td>\n",
       "    </tr>\n",
       "  </tbody>\n",
       "</table>\n",
       "<p>506691 rows × 2 columns</p>\n",
       "</div>"
      ],
      "text/plain": [
       "        TransactionID  isFraud\n",
       "0             3663549   0.0023\n",
       "1             3663550   0.0066\n",
       "2             3663551   0.0023\n",
       "3             3663552   0.0021\n",
       "4             3663553   0.0035\n",
       "...               ...      ...\n",
       "506686        4170235   0.0185\n",
       "506687        4170236   0.0105\n",
       "506688        4170237   0.0095\n",
       "506689        4170238   0.0092\n",
       "506690        4170239   0.0057\n",
       "\n",
       "[506691 rows x 2 columns]"
      ]
     },
     "execution_count": 45,
     "metadata": {},
     "output_type": "execute_result"
    }
   ],
   "source": [
    "submission['isFraud'] = 0\n",
    "submission['isFraud'] = np.round(prediction,4)\n",
    "submission"
   ]
  },
  {
   "cell_type": "code",
   "execution_count": 46,
   "id": "d861e81d",
   "metadata": {},
   "outputs": [],
   "source": [
    "submission_df = pd.DataFrame({'TransactionID':submission.TransactionID\n",
    "                           ,'isFraud':submission.isFraud})"
   ]
  },
  {
   "cell_type": "code",
   "execution_count": 47,
   "id": "b539ceca",
   "metadata": {
    "scrolled": false
   },
   "outputs": [],
   "source": [
    "# 파일 제출\n",
    "submission_df.reset_index(drop=True).to_csv('xgbm_submission_fi(xgb_166).csv', index=False)"
   ]
  },
  {
   "cell_type": "markdown",
   "id": "507d6e6c",
   "metadata": {},
   "source": [
    "### oversampling\n",
    "\n",
    "> **undersampling**<br>\n",
    "언더 샘플링은 불균형한 데이터 셋에서 높은 비율을 차지하던 클래스의 데이터 수를 줄임으로써 데이터 불균형을 해소하는 아이디어 입니다. <br>\n",
    "하지만 이 방법은 학습에 사용되는 전체 데이터 수를 급격하게 감소시켜 오히려 성능이 떨어질 수 있습니다.\n",
    "\n",
    " \n",
    "> **oversampling**<br>\n",
    "오버 샘플링은 낮은 비율 클래스의 데이터 수를 늘림으로써 데이터 불균형을 해소하는 아이디어 입니다.<br>\n",
    "이 방법이 가능하다면 언더 샘플링보다 훨씬 좋은 해결책이 될 수 있을것 같은데,\n",
    "문제는 \"어떻게\" 없던 데이터를 생성하느냐 입니다.\n",
    "\n",
    "<img src='https://img1.daumcdn.net/thumb/R1280x0/?scode=mtistory2&fname=https%3A%2F%2Fblog.kakaocdn.net%2Fdn%2F2yuj6%2FbtqGirRpGhD%2FhmIPmKkQ6WMJ0PbpZZ5Wk0%2Fimg.png' width=\"600\" style=\"float:left\" />"
   ]
  },
  {
   "cell_type": "code",
   "execution_count": 169,
   "id": "b1d24e0e",
   "metadata": {},
   "outputs": [],
   "source": [
    "# 샘플데이터 1000 Fraud and 1000 Non Fraud sampled_train 저장\n",
    "sampled_train = pd.concat([train3.loc[train3['isFraud'] == 0 ].sample(2000),\n",
    "                         train3.loc[train3['isFraud'] == 1].sample(2000)])"
   ]
  },
  {
   "cell_type": "code",
   "execution_count": 170,
   "id": "1c9cf57c",
   "metadata": {
    "scrolled": true
   },
   "outputs": [
    {
     "data": {
      "text/plain": [
       "(4000, 138)"
      ]
     },
     "execution_count": 170,
     "metadata": {},
     "output_type": "execute_result"
    }
   ],
   "source": [
    "sampled_train.shape"
   ]
  },
  {
   "cell_type": "markdown",
   "id": "4ce36bc2",
   "metadata": {},
   "source": [
    "## oversampling 학습 데이터 분할 및 평가"
   ]
  },
  {
   "cell_type": "code",
   "execution_count": 171,
   "id": "1a1cd621",
   "metadata": {},
   "outputs": [],
   "source": [
    "from sklearn.model_selection import train_test_split\n",
    "\n",
    "X = sampled_train.drop(['isFraud'], axis = 1)\n",
    "X_test = test3\n",
    "y = sampled_train['isFraud'].values\n",
    "\n",
    "# 학습 데이터 분할\n",
    "X_train, X_validation, y_train, y_validation = train_test_split(X, y, train_size=0.8, random_state=0xC0FFEE)"
   ]
  },
  {
   "cell_type": "code",
   "execution_count": 172,
   "id": "e81d86e7",
   "metadata": {},
   "outputs": [
    {
     "data": {
      "text/plain": [
       "((3200, 137), (800, 137), (3200,), (800,))"
      ]
     },
     "execution_count": 172,
     "metadata": {},
     "output_type": "execute_result"
    }
   ],
   "source": [
    "X_train.shape, X_validation.shape, y_train.shape, y_validation.shape"
   ]
  },
  {
   "cell_type": "markdown",
   "id": "753e3286",
   "metadata": {},
   "source": [
    "# Modeling\n",
    "### XGBoost 학습 및 평가"
   ]
  },
  {
   "cell_type": "code",
   "execution_count": 173,
   "id": "69417a75",
   "metadata": {},
   "outputs": [
    {
     "name": "stdout",
     "output_type": "stream",
     "text": [
      "[19:50:48] WARNING: ../src/learner.cc:576: \n",
      "Parameters: { \"silent\" } might not be used.\n",
      "\n",
      "  This could be a false alarm, with some parameters getting used by language bindings but\n",
      "  then being mistakenly passed down to XGBoost core, or some parameter actually being used\n",
      "  but getting flagged wrongly here. Please open an issue if you find any such cases.\n",
      "\n",
      "\n",
      "[0]\tvalidation_0-auc:0.82818\n",
      "[50]\tvalidation_0-auc:0.88150\n",
      "[100]\tvalidation_0-auc:0.88729\n",
      "[150]\tvalidation_0-auc:0.88789\n",
      "[154]\tvalidation_0-auc:0.88779\n"
     ]
    },
    {
     "data": {
      "text/plain": [
       "0.8887951242381622"
      ]
     },
     "execution_count": 173,
     "metadata": {},
     "output_type": "execute_result"
    }
   ],
   "source": [
    "xgb_clf = xgb.XGBClassifier(\n",
    "    n_estimators = 500,\n",
    "    max_depth = 6,\n",
    "    booster = 'gbtree',\n",
    "    eta = 0.1,\n",
    "    gamma = 0,    \n",
    "    silent = 0,\n",
    "    objective = 'binary:logistic',\n",
    "    nthread = 4,\n",
    "    base_score = 0.5,\n",
    "    eval_metric='auc'\n",
    ")\n",
    "\n",
    "xgb_clf.fit(X_train, y_train, eval_set=[(X_validation, y_validation)], early_stopping_rounds=15,verbose=50)\n",
    "y_pred_xgb = xgb_clf.predict_proba(X_validation)[:,1]\n",
    "roc_auc_score(y_validation, y_pred_xgb)"
   ]
  },
  {
   "cell_type": "code",
   "execution_count": 174,
   "id": "302802df",
   "metadata": {},
   "outputs": [
    {
     "data": {
      "image/png": "[encoded data removed]",
      "text/plain": [
       "<Figure size 432x288 with 1 Axes>"
      ]
     },
     "metadata": {},
     "output_type": "display_data"
    }
   ],
   "source": [
    "fpr,tpr,threshold = roc_curve(y_validation, y_pred_xgb)\n",
    "roc_auc = roc_auc_score(y_validation, y_pred_xgb)\n",
    "plt.plot(fpr, tpr, label='LR (area = %0.2f)' % roc_auc)\n",
    "plt.plot([0, 1], [0, 1],'r--')\n",
    "plt.xlim([-0.05, 1.05])\n",
    "plt.ylim([-0.05, 1.05])\n",
    "plt.xlabel('False Positive Rate')\n",
    "plt.ylabel('True Positive Rate')\n",
    "plt.title('ROC Curve')\n",
    "plt.legend()\n",
    "plt.show()"
   ]
  },
  {
   "cell_type": "markdown",
   "id": "41fe93fe",
   "metadata": {},
   "source": [
    "### confusion_matrix"
   ]
  },
  {
   "cell_type": "code",
   "execution_count": 175,
   "id": "7c6a0ee4",
   "metadata": {},
   "outputs": [
    {
     "data": {
      "text/plain": [
       "array([[336,  69],\n",
       "       [ 87, 308]])"
      ]
     },
     "execution_count": 175,
     "metadata": {},
     "output_type": "execute_result"
    }
   ],
   "source": [
    "from sklearn.metrics import confusion_matrix\n",
    "confusion_matrix(y_validation, xgb_clf.predict(X_validation))"
   ]
  },
  {
   "cell_type": "markdown",
   "id": "ab0749f7",
   "metadata": {},
   "source": [
    "### F1 score"
   ]
  },
  {
   "cell_type": "code",
   "execution_count": 176,
   "id": "533bda0e",
   "metadata": {},
   "outputs": [],
   "source": [
    "from sklearn.metrics import f1_score\n",
    "evaluation_metric = f1_score"
   ]
  },
  {
   "cell_type": "code",
   "execution_count": 177,
   "id": "92615ed3",
   "metadata": {
    "scrolled": false
   },
   "outputs": [
    {
     "name": "stdout",
     "output_type": "stream",
     "text": [
      "Prediction\n",
      "Train Score : 0.9771\n",
      "Test Score : 0.7979\n"
     ]
    }
   ],
   "source": [
    "print(\"Prediction\")\n",
    "pred_train = xgb_clf.predict(X_train)\n",
    "pred_test = xgb_clf.predict(X_validation)\n",
    "\n",
    "train_score = evaluation_metric(y_train, pred_train)\n",
    "test_score = evaluation_metric(y_validation, pred_test)\n",
    "\n",
    "print(\"Train Score : %.4f\" % train_score)\n",
    "print(\"Test Score : %.4f\" % test_score)"
   ]
  },
  {
   "cell_type": "markdown",
   "id": "844868d7",
   "metadata": {},
   "source": [
    "### voting\n",
    "[ensemble voting](https://www.kaggle.com/code/saurabhshahane/voting-classifier/notebook)"
   ]
  },
  {
   "cell_type": "markdown",
   "id": "8ea2ae14",
   "metadata": {},
   "source": [
    "```\n",
    "from sklearn.ensemble import VotingClassifier\n",
    "\n",
    "voting = VotingClassifier(enumerate=[('rfc',gh.isFraud_jh),\n",
    "                                    ('xgb',gh.isFraud_ge)], voting='soft', n_jobs=2)\n",
    "voting = voting.fit(train, target)\n",
    "prediction = voting.predict(test)\n",
    "submission_df = pd.DataFrame({'TransactionID':gh.TransactionID,'isFraud':gh.isFraud})\n",
    "```"
   ]
  },
  {
   "cell_type": "markdown",
   "id": "f37fc9b0",
   "metadata": {},
   "source": [
    "### 제출"
   ]
  },
  {
   "cell_type": "code",
   "execution_count": 178,
   "id": "eadf1f98",
   "metadata": {},
   "outputs": [
    {
     "data": {
      "text/plain": [
       "((506691, 137), (506691, 2))"
      ]
     },
     "execution_count": 178,
     "metadata": {},
     "output_type": "execute_result"
    }
   ],
   "source": [
    "X_test.shape, submission.shape"
   ]
  },
  {
   "cell_type": "code",
   "execution_count": 179,
   "id": "b7346a13",
   "metadata": {},
   "outputs": [
    {
     "data": {
      "text/html": [
       "<div>\n",
       "<style scoped>\n",
       "    .dataframe tbody tr th:only-of-type {\n",
       "        vertical-align: middle;\n",
       "    }\n",
       "\n",
       "    .dataframe tbody tr th {\n",
       "        vertical-align: top;\n",
       "    }\n",
       "\n",
       "    .dataframe thead th {\n",
       "        text-align: right;\n",
       "    }\n",
       "</style>\n",
       "<table border=\"1\" class=\"dataframe\">\n",
       "  <thead>\n",
       "    <tr style=\"text-align: right;\">\n",
       "      <th></th>\n",
       "      <th>TransactionID</th>\n",
       "      <th>isFraud</th>\n",
       "    </tr>\n",
       "  </thead>\n",
       "  <tbody>\n",
       "    <tr>\n",
       "      <th>0</th>\n",
       "      <td>3663549</td>\n",
       "      <td>0.1923</td>\n",
       "    </tr>\n",
       "    <tr>\n",
       "      <th>1</th>\n",
       "      <td>3663550</td>\n",
       "      <td>0.2662</td>\n",
       "    </tr>\n",
       "    <tr>\n",
       "      <th>2</th>\n",
       "      <td>3663551</td>\n",
       "      <td>0.6841</td>\n",
       "    </tr>\n",
       "    <tr>\n",
       "      <th>3</th>\n",
       "      <td>3663552</td>\n",
       "      <td>0.1030</td>\n",
       "    </tr>\n",
       "    <tr>\n",
       "      <th>4</th>\n",
       "      <td>3663553</td>\n",
       "      <td>0.2943</td>\n",
       "    </tr>\n",
       "    <tr>\n",
       "      <th>...</th>\n",
       "      <td>...</td>\n",
       "      <td>...</td>\n",
       "    </tr>\n",
       "    <tr>\n",
       "      <th>506686</th>\n",
       "      <td>4170235</td>\n",
       "      <td>0.4296</td>\n",
       "    </tr>\n",
       "    <tr>\n",
       "      <th>506687</th>\n",
       "      <td>4170236</td>\n",
       "      <td>0.1580</td>\n",
       "    </tr>\n",
       "    <tr>\n",
       "      <th>506688</th>\n",
       "      <td>4170237</td>\n",
       "      <td>0.2147</td>\n",
       "    </tr>\n",
       "    <tr>\n",
       "      <th>506689</th>\n",
       "      <td>4170238</td>\n",
       "      <td>0.1316</td>\n",
       "    </tr>\n",
       "    <tr>\n",
       "      <th>506690</th>\n",
       "      <td>4170239</td>\n",
       "      <td>0.0300</td>\n",
       "    </tr>\n",
       "  </tbody>\n",
       "</table>\n",
       "<p>506691 rows × 2 columns</p>\n",
       "</div>"
      ],
      "text/plain": [
       "        TransactionID  isFraud\n",
       "0             3663549   0.1923\n",
       "1             3663550   0.2662\n",
       "2             3663551   0.6841\n",
       "3             3663552   0.1030\n",
       "4             3663553   0.2943\n",
       "...               ...      ...\n",
       "506686        4170235   0.4296\n",
       "506687        4170236   0.1580\n",
       "506688        4170237   0.2147\n",
       "506689        4170238   0.1316\n",
       "506690        4170239   0.0300\n",
       "\n",
       "[506691 rows x 2 columns]"
      ]
     },
     "execution_count": 179,
     "metadata": {},
     "output_type": "execute_result"
    }
   ],
   "source": [
    "prediction = xgb_clf.predict_proba(X_test)[:,1]\n",
    "submission['isFraud'] = 0\n",
    "submission['isFraud'] = np.round(prediction,4)\n",
    "submission"
   ]
  },
  {
   "cell_type": "code",
   "execution_count": 92,
   "id": "9eca2a24",
   "metadata": {},
   "outputs": [],
   "source": [
    "submission_df = pd.DataFrame({'TransactionID':submission.TransactionID\n",
    "                           ,'isFraud':submission.isFraud})"
   ]
  },
  {
   "cell_type": "code",
   "execution_count": 93,
   "id": "bdd283ed",
   "metadata": {
    "scrolled": false
   },
   "outputs": [],
   "source": [
    "# 파일 제출\n",
    "submission_df.reset_index(drop=True).to_csv('sampling_xgbm_submission.csv', index=False)"
   ]
  },
  {
   "cell_type": "markdown",
   "id": "fafdeb2c",
   "metadata": {},
   "source": [
    "# hyper-parameter tuning"
   ]
  },
  {
   "cell_type": "code",
   "execution_count": 180,
   "id": "07feca0b",
   "metadata": {},
   "outputs": [],
   "source": [
    "# import packages for hyperparameters tuning\n",
    "from hyperopt import STATUS_OK, Trials, fmin, hp, tpe\n",
    "\n",
    "\n",
    "space={\n",
    "    'max_depth': hp.choice('max_depth', np.arange(1, 20, dtype=int)),\n",
    "    'gamma': hp.uniform('gamma', 1,9),\n",
    "    'reg_alpha' : hp.quniform('reg_alpha', 40,180,1),\n",
    "    'reg_lambda' : hp.uniform('reg_lambda', 0,1),\n",
    "    'colsample_bytree' : hp.uniform('colsample_bytree', 0.5,1),\n",
    "    'min_child_weight' : hp.quniform('min_child_weight', 0, 10, 1),\n",
    "    'n_estimators': 500,\n",
    "    'seed': 0\n",
    "    }"
   ]
  },
  {
   "cell_type": "code",
   "execution_count": 181,
   "id": "ed1f5d51",
   "metadata": {},
   "outputs": [],
   "source": [
    "from sklearn.metrics import roc_auc_score\n",
    "\n",
    "def objective(space):\n",
    "    \n",
    "    clf=xgb.XGBClassifier(\n",
    "        n_estimators =space['n_estimators'], \n",
    "        max_depth = space['max_depth'],\n",
    "        gamma = space['gamma'],\n",
    "        reg_alpha = space['reg_alpha'],\n",
    "        min_child_weight= space['min_child_weight'],\n",
    "        colsample_bytree= space['colsample_bytree'],\n",
    "        objective= 'binary:logistic')\n",
    "    \n",
    "    evaluation = [\n",
    "#         ( X_train, y_train), \n",
    "        ( X_validation, y_validation)]\n",
    "    \n",
    "    clf.fit(X_train, y_train,\n",
    "            eval_set=evaluation, \n",
    "            eval_metric=\"auc\",\n",
    "            early_stopping_rounds=10,\n",
    "            verbose=False)\n",
    "    \n",
    "    evaluation_metric = roc_auc_score\n",
    "    pred = clf.predict_proba(X_validation)[:,1]\n",
    "    roc = evaluation_metric(y_validation, pred > 0.5)\n",
    "    print (\"SCORE:\", roc)\n",
    "    return roc\n",
    "#     return {'loss': -roc, 'status': STATUS_OK }"
   ]
  },
  {
   "cell_type": "code",
   "execution_count": 182,
   "id": "fb2c14f4",
   "metadata": {
    "scrolled": false
   },
   "outputs": [
    {
     "name": "stdout",
     "output_type": "stream",
     "text": [
      "SCORE: 0.7918424753867792\n"
     ]
    },
    {
     "data": {
      "text/plain": [
       "0.7918424753867792"
      ]
     },
     "execution_count": 182,
     "metadata": {},
     "output_type": "execute_result"
    }
   ],
   "source": [
    "objective(space)"
   ]
  },
  {
   "cell_type": "code",
   "execution_count": 183,
   "id": "d65a4cf4",
   "metadata": {
    "collapsed": true
   },
   "outputs": [
    {
     "name": "stdout",
     "output_type": "stream",
     "text": [
      "SCORE:                                                                          \n",
      "0.7770589154555398                                                              \n",
      "SCORE:                                                                          \n",
      "0.7786997968432569                                                              \n",
      "SCORE:                                                                          \n",
      "0.7683544303797469                                                              \n",
      "SCORE:                                                                          \n",
      "0.7796218159087358                                                              \n",
      "SCORE:                                                                          \n",
      "0.7721206438506016                                                              \n",
      "SCORE:                                                                          \n",
      "0.7707610564150648                                                              \n",
      "SCORE:                                                                          \n",
      "0.7671511173620877                                                              \n",
      "SCORE:                                                                          \n",
      "0.7882950461009532                                                              \n",
      "SCORE:                                                                          \n",
      "0.7747460540709487                                                              \n",
      "SCORE:                                                                          \n",
      "0.7797468354430381                                                              \n",
      "SCORE:                                                                          \n",
      "0.7466322862947337                                                              \n",
      "SCORE:                                                                          \n",
      "0.7832005000781372                                                              \n",
      "SCORE:                                                                          \n",
      "0.7348023128613845                                                              \n",
      "SCORE:                                                                          \n",
      "0.7511954992967651                                                              \n",
      "SCORE:                                                                          \n",
      "0.7836693233317706                                                              \n",
      "SCORE:                                                                          \n",
      "0.7541959681200188                                                              \n",
      "SCORE:                                                                          \n",
      "0.740443819346773                                                               \n",
      "SCORE:                                                                          \n",
      "0.7807938740428193                                                              \n",
      "SCORE:                                                                          \n",
      "0.7837318330989217                                                              \n",
      "SCORE:                                                                          \n",
      "0.7800281293952179                                                              \n",
      "SCORE:                                                                          \n",
      "0.739521800281294                                                               \n",
      "SCORE:                                                                          \n",
      "0.7473355211751835                                                              \n",
      "SCORE:                                                                          \n",
      "0.7558837318330989                                                              \n",
      "SCORE:                                                                          \n",
      "0.7398030942334739                                                              \n",
      "SCORE:                                                                          \n",
      "0.7596499453039537                                                              \n",
      "SCORE:                                                                          \n",
      "0.7285357087044851                                                              \n",
      "SCORE:                                                                          \n",
      "0.7248007501172058                                                              \n",
      "SCORE:                                                                          \n",
      "0.7248007501172058                                                              \n",
      "SCORE:                                                                          \n",
      "0.7295827473042663                                                              \n",
      "SCORE:                                                                          \n",
      "0.7314111579934365                                                              \n",
      "SCORE:                                                                          \n",
      "0.7456946397874668                                                              \n",
      "SCORE:                                                                          \n",
      "0.7406000937646507                                                              \n",
      "SCORE:                                                                          \n",
      "0.7432255039849976                                                              \n",
      "SCORE:                                                                          \n",
      "0.7412251914361618                                                              \n",
      "SCORE:                                                                          \n",
      "0.7431317393342711                                                              \n",
      "SCORE:                                                                          \n",
      "0.7247382403500546                                                              \n",
      "SCORE:                                                                          \n",
      "0.6603531801844038                                                              \n",
      "SCORE:                                                                          \n",
      "0.6591186122831691                                                              \n",
      "SCORE:                                                                          \n",
      "0.7464760118768559                                                              \n",
      "SCORE:                                                                          \n",
      "0.6603844350679793                                                              \n",
      "SCORE:                                                                          \n",
      "0.6591186122831691                                                              \n",
      "SCORE:                                                                          \n",
      "0.7450226597905922                                                              \n",
      "SCORE:                                                                          \n",
      "0.7509142053445851                                                              \n",
      "SCORE:                                                                          \n",
      "0.7709173308329427                                                              \n",
      "SCORE:                                                                          \n",
      "0.6625410220346929                                                              \n",
      "SCORE:                                                                          \n",
      "0.7483513048913892                                                              \n",
      "SCORE:                                                                          \n",
      "0.7796218159087358                                                              \n",
      "SCORE:                                                                          \n",
      "0.7911392405063291                                                              \n",
      "SCORE:                                                                          \n",
      "0.7683544303797469                                                              \n",
      "SCORE:                                                                          \n",
      "0.7559149867166745                                                              \n",
      "SCORE:                                                                          \n",
      "0.7445225816533834                                                              \n",
      "SCORE:                                                                          \n",
      "0.7782934833567745                                                              \n",
      "SCORE:                                                                          \n",
      "0.7834817940303171                                                              \n",
      "SCORE:                                                                          \n",
      "0.7568370057821535                                                              \n",
      "SCORE:                                                                          \n",
      "0.7846851070479763                                                              \n",
      "SCORE:                                                                          \n",
      "0.7757305829035787                                                              \n",
      "SCORE:                                                                          \n",
      "0.7488513830285982                                                              \n",
      "SCORE:                                                                          \n",
      "0.7422097202687921                                                              \n",
      "SCORE:                                                                          \n",
      "0.7748085638380997                                                              \n",
      "SCORE:                                                                          \n",
      "0.7682606657290201                                                              \n",
      "SCORE:                                                                          \n",
      "0.761197062040944                                                               \n",
      "SCORE:                                                                          \n",
      "0.7428817002656665                                                              \n",
      "SCORE:                                                                          \n",
      "0.7393967807469918                                                              \n",
      "SCORE:                                                                          \n",
      "0.7796843256758869                                                              \n",
      "SCORE:                                                                          \n",
      "0.7585716518205969                                                              \n",
      "SCORE:                                                                          \n",
      "0.6591186122831691                                                              \n",
      "SCORE:                                                                          \n",
      "0.6591186122831691                                                              \n",
      "SCORE:                                                                          \n",
      "0.6591498671667448                                                              \n",
      "SCORE:                                                                          \n",
      "0.7398030942334739                                                              \n",
      "SCORE:                                                                          \n",
      "0.740725113298953                                                               \n",
      "SCORE:                                                                          \n",
      "0.7457884044381935                                                              \n",
      "SCORE:                                                                          \n",
      "0.6625410220346929                                                              \n",
      "SCORE:                                                                          \n",
      "0.7427723081731521                                                              \n",
      "SCORE:                                                                          \n",
      "0.7398030942334739                                                              \n",
      "SCORE:                                                                          \n",
      "0.7518987341772152                                                              \n",
      "SCORE:                                                                          \n",
      "0.7383497421472105                                                              \n",
      "SCORE:                                                                          \n",
      "0.6591498671667448                                                              \n",
      "SCORE:                                                                          \n",
      "0.7483825597749648                                                              \n",
      "SCORE:                                                                          \n",
      "0.787185497734021                                                               \n",
      "SCORE:                                                                          \n",
      "0.7548366932333177                                                              \n",
      "SCORE:                                                                          \n",
      "0.7370526644788248                                                              \n",
      "SCORE:                                                                          \n",
      "0.7379434286607283                                                              \n",
      "SCORE:                                                                          \n",
      "0.6603531801844038                                                              \n",
      "SCORE:                                                                          \n",
      "0.7484138146585403                                                              \n",
      "SCORE:                                                                          \n",
      "0.6625410220346929                                                              \n",
      "SCORE:                                                                          \n",
      "0.739521800281294                                                               \n",
      "SCORE:                                                                          \n",
      "0.7835130489138928                                                              \n",
      "SCORE:                                                                          \n",
      "0.7398030942334739                                                              \n",
      "SCORE:                                                                          \n",
      "0.776136896390061                                                               \n",
      "SCORE:                                                                          \n",
      "0.6603531801844038                                                              \n",
      "SCORE:                                                                          \n",
      "0.7373339584310048                                                              \n",
      "SCORE:                                                                          \n",
      "0.7398030942334739                                                              \n",
      "SCORE:                                                                          \n",
      "0.7398030942334739                                                              \n",
      "SCORE:                                                                          \n",
      "0.7430692295671198                                                              \n",
      "SCORE:                                                                          \n",
      "0.751992498827942                                                               \n",
      "SCORE:                                                                          \n",
      "0.7573058290357868                                                              \n",
      "SCORE:                                                                          \n",
      "0.7512580090639163                                                              \n",
      "SCORE:                                                                          \n",
      "0.7413189560868886                                                              \n",
      "SCORE:                                                                          \n",
      "0.7468666979215502                                                              \n",
      "SCORE:                                                                          \n",
      "0.7546179090482887                                                              \n",
      "100%|███████| 100/100 [00:12<00:00,  7.99trial/s, best loss: 0.6591186122831691]\n"
     ]
    }
   ],
   "source": [
    "trials = Trials()\n",
    "\n",
    "best_hyperparams = fmin(fn = objective,\n",
    "                        space = space,\n",
    "                        algo = tpe.suggest,\n",
    "                        max_evals = 100,\n",
    "                        trials = trials)"
   ]
  },
  {
   "cell_type": "code",
   "execution_count": 184,
   "id": "7f51f7a1",
   "metadata": {},
   "outputs": [
    {
     "name": "stdout",
     "output_type": "stream",
     "text": [
      "The best hyperparameters are :  \n",
      "\n",
      "{'colsample_bytree': 0.7204425639327261, 'gamma': 7.880125833405017, 'max_depth': 0, 'min_child_weight': 6.0, 'reg_alpha': 122.0, 'reg_lambda': 0.8673062508937274}\n"
     ]
    }
   ],
   "source": [
    "print(\"The best hyperparameters are : \",\"\\n\")\n",
    "print(best_hyperparams)"
   ]
  },
  {
   "cell_type": "markdown",
   "id": "db5a3439",
   "metadata": {},
   "source": [
    "## 테스트 및 제출 파일 생성"
   ]
  },
  {
   "cell_type": "code",
   "execution_count": 96,
   "id": "83a35424",
   "metadata": {
    "scrolled": true
   },
   "outputs": [],
   "source": [
    "# X_test"
   ]
  },
  {
   "cell_type": "code",
   "execution_count": null,
   "id": "14405c2d",
   "metadata": {},
   "outputs": [],
   "source": [
    "submission = pd.read_csv(\"sample_submission.csv\")\n",
    "prediction = xgb_clf.predict_proba(X_test)[:,1]\n",
    "submission['isFraud'] = 0\n",
    "submission['isFraud'] = np.round(prediction,4)\n",
    "submission_df = pd.DataFrame({'TransactionID':submission.TransactionID\n",
    "                           ,'isFraud':submission.isFraud})"
   ]
  },
  {
   "cell_type": "code",
   "execution_count": null,
   "id": "c8720d66",
   "metadata": {},
   "outputs": [],
   "source": [
    "submission"
   ]
  },
  {
   "cell_type": "code",
   "execution_count": null,
   "id": "2dbfb228",
   "metadata": {},
   "outputs": [],
   "source": [
    "# 파일 제출\n",
    "submission.reset_index(drop=True).to_csv(f\"xgbm_submission_tuning.csv\", index=False)"
   ]
  }
 ],
 "metadata": {
  "kernelspec": {
   "display_name": "Python 3 (ipykernel)",
   "language": "python",
   "name": "python3"
  },
  "language_info": {
   "codemirror_mode": {
    "name": "ipython",
    "version": 3
   },
   "file_extension": ".py",
   "mimetype": "text/x-python",
   "name": "python",
   "nbconvert_exporter": "python",
   "pygments_lexer": "ipython3",
   "version": "3.8.13"
  },
  "toc": {
   "base_numbering": 1,
   "nav_menu": {},
   "number_sections": true,
   "sideBar": true,
   "skip_h1_title": false,
   "title_cell": "Table of Contents",
   "title_sidebar": "Contents",
   "toc_cell": false,
   "toc_position": {
    "height": "593px",
    "left": "24px",
    "top": "111.141px",
    "width": "319.391px"
   },
   "toc_section_display": true,
   "toc_window_display": false
  }
 },
 "nbformat": 4,
 "nbformat_minor": 5
}
