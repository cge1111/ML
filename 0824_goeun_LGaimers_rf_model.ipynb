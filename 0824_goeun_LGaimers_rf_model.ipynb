{
 "cells": [
  {
   "cell_type": "markdown",
   "id": "fd510dcf-85b2-4396-858c-a14a37960c76",
   "metadata": {
    "id": "fd510dcf-85b2-4396-858c-a14a37960c76"
   },
   "source": [
    "# Import\n",
    "\n",
    "https://dacon.io/en/codeshare/2876\n",
    "\n",
    "\n",
    "[MLP + NGB + XGB + CAT with Data Over Sampling (0.144)](https://dacon.io/codeshare/4711)\n",
    "\n",
    "[model](https://github.com/cge1111/lg_aimers_antenna/blob/main/model/jongsoo.ipynb)\n",
    "\n",
    "[catboost](https://dacon.io/competitions/official/235927/codeshare/6045?page=1&dtype=recent)\n",
    "\n",
    "[RadomForest + optuna](https://dacon.io/en/competitions/official/235848/codeshare/4058)\n",
    "\n",
    "**parms참고 -> [multioutput_github](https://github.com/scikit-learn/scikit-learn/blob/36958fb24/sklearn/multioutput.py#L153)\n",
    "\n",
    "rf param -> [rf_githib](https://github.com/scikit-learn/scikit-learn/blob/36958fb24/sklearn/ensemble/_forest.py#L301)"
   ]
  },
  {
   "cell_type": "code",
   "execution_count": 1,
   "id": "BiOuajP7htlw",
   "metadata": {
    "ExecuteTime": {
     "end_time": "2022-08-24T01:01:44.594348Z",
     "start_time": "2022-08-24T01:01:44.590297Z"
    },
    "colab": {
     "base_uri": "https://localhost:8080/"
    },
    "id": "BiOuajP7htlw",
    "outputId": "27354d4c-fdd6-433b-d185-0c0caf7e70c5"
   },
   "outputs": [],
   "source": [
    "# from google.colab import drive\n",
    "# drive.mount('/content/drive')"
   ]
  },
  {
   "cell_type": "code",
   "execution_count": 2,
   "id": "bf5572bc",
   "metadata": {
    "ExecuteTime": {
     "end_time": "2022-08-24T01:01:44.858498Z",
     "start_time": "2022-08-24T01:01:44.852308Z"
    }
   },
   "outputs": [],
   "source": [
    "# pip install pycaret"
   ]
  },
  {
   "cell_type": "code",
   "execution_count": 21,
   "id": "5c415d9d-1111-46ed-bc2d-849c75ab962a",
   "metadata": {
    "ExecuteTime": {
     "end_time": "2022-08-24T15:05:23.975002Z",
     "start_time": "2022-08-24T15:05:23.962192Z"
    },
    "id": "5c415d9d-1111-46ed-bc2d-849c75ab962a"
   },
   "outputs": [],
   "source": [
    "import pandas as pd\n",
    "import random\n",
    "import os\n",
    "import numpy as np\n",
    "import matplotlib.pyplot as plt\n",
    "import seaborn as sns\n",
    "from tqdm import tqdm\n",
    "import sklearn.metrics as metrics \n",
    "\n",
    "from sklearn.linear_model import LinearRegression\n",
    "from sklearn.multioutput import MultiOutputRegressor\n",
    "from sklearn.model_selection import train_test_split\n",
    "from sklearn.preprocessing import StandardScaler\n",
    "\n",
    "import warnings\n",
    "warnings.filterwarnings('ignore')\n",
    "\n",
    "import xgboost as xgb\n",
    "import lightgbm as lgb  \n",
    "from sklearn.linear_model import LinearRegression, ElasticNet, Lasso, Ridge\n",
    "from sklearn.tree import DecisionTreeRegressor\n",
    "from sklearn.ensemble import RandomForestRegressor\n",
    "from sklearn.model_selection import TimeSeriesSplit\n",
    "from sklearn.metrics import mean_squared_error"
   ]
  },
  {
   "cell_type": "code",
   "execution_count": 22,
   "id": "edae871a-b31b-4f06-bb88-0fd1f6660b13",
   "metadata": {
    "ExecuteTime": {
     "end_time": "2022-08-24T15:05:24.439268Z",
     "start_time": "2022-08-24T15:05:24.434971Z"
    },
    "id": "edae871a-b31b-4f06-bb88-0fd1f6660b13"
   },
   "outputs": [],
   "source": [
    "def seed_everything(seed):\n",
    "    random.seed(seed)\n",
    "    os.environ['PYTHONHASHSEED'] = str(seed)\n",
    "    np.random.seed(seed)\n",
    "seed_everything(42) # Seed 고정"
   ]
  },
  {
   "cell_type": "markdown",
   "id": "18003e8e-4227-4e98-98de-0861ba8dc6cc",
   "metadata": {
    "id": "18003e8e-4227-4e98-98de-0861ba8dc6cc"
   },
   "source": [
    "# Data Load"
   ]
  },
  {
   "cell_type": "markdown",
   "id": "298fc674",
   "metadata": {
    "ExecuteTime": {
     "end_time": "2022-08-16T14:07:28.490358Z",
     "start_time": "2022-08-16T14:07:28.479482Z"
    }
   },
   "source": [
    "%pwd"
   ]
  },
  {
   "cell_type": "code",
   "execution_count": 3,
   "id": "24c940ff",
   "metadata": {
    "ExecuteTime": {
     "end_time": "2022-08-24T05:10:51.351151Z",
     "start_time": "2022-08-24T05:10:51.348297Z"
    },
    "id": "ee76c413-001b-475e-9d1c-6662d25d2db2"
   },
   "outputs": [],
   "source": [
    "# # 'macbook' \n",
    "# base_path = '/Users/goeun/Documents/python/LGaimers/open/'\n",
    "\n",
    "# train_df = pd.read_csv(base_path+'train.csv')\n",
    "# test_df = pd.read_csv(base_path+'test.csv').iloc[:, 1:]\n",
    "# submission = pd.read_csv(base_path+'sample_submission.csv')"
   ]
  },
  {
   "cell_type": "code",
   "execution_count": 3,
   "id": "5a42cff5",
   "metadata": {
    "ExecuteTime": {
     "end_time": "2022-08-24T10:39:52.213647Z",
     "start_time": "2022-08-24T10:39:51.958440Z"
    }
   },
   "outputs": [],
   "source": [
    "base_path = '/Users/cge/Documents/python/LGaimers/open/'\n",
    "\n",
    "train_df = pd.read_csv(base_path+'train.csv')\n",
    "test_df = pd.read_csv(base_path+'test.csv')\n",
    "submission = pd.read_csv(base_path+'sample_submission.csv')"
   ]
  },
  {
   "cell_type": "markdown",
   "id": "cd876293",
   "metadata": {},
   "source": [
    "# Model\n",
    "\n",
    "XGB, LGBM, Random Forest Regressor"
   ]
  },
  {
   "cell_type": "code",
   "execution_count": 7,
   "id": "73ddcd7f",
   "metadata": {
    "ExecuteTime": {
     "end_time": "2022-08-24T10:40:53.487923Z",
     "start_time": "2022-08-24T10:40:53.450910Z"
    }
   },
   "outputs": [],
   "source": [
    "X = train_df.filter(regex='X') # Input : X Featrue\n",
    "y = train_df.filter(regex='Y') # Output : Y Feature\n",
    "\n",
    "remove_cols = ['X_02', 'X_04', 'X_23', 'X_46', 'X_47', 'X_48', 'X_10', 'X_11']\n",
    "\n",
    "X = X.drop(columns=remove_cols)\n",
    "test = test_df.drop(columns=remove_cols)\n",
    "\n",
    "X_train, X_valid, y_train, y_valid = train_test_split(X, y, test_size=0.1, shuffle=True)"
   ]
  },
  {
   "cell_type": "code",
   "execution_count": 8,
   "id": "84e9af3d",
   "metadata": {
    "ExecuteTime": {
     "end_time": "2022-08-24T10:40:57.000492Z",
     "start_time": "2022-08-24T10:40:56.996942Z"
    }
   },
   "outputs": [
    {
     "name": "stdout",
     "output_type": "stream",
     "text": [
      "(35646, 48) (3961, 48) (35646, 14) (3961, 14)\n"
     ]
    }
   ],
   "source": [
    "print(X_train.shape, X_valid.shape, y_train.shape, y_valid.shape)"
   ]
  },
  {
   "cell_type": "markdown",
   "id": "138fc115",
   "metadata": {},
   "source": [
    "## Optuna"
   ]
  },
  {
   "cell_type": "code",
   "execution_count": 11,
   "id": "877ecef5",
   "metadata": {
    "ExecuteTime": {
     "end_time": "2022-08-24T09:57:45.753121Z",
     "start_time": "2022-08-24T05:11:31.527342Z"
    },
    "collapsed": true
   },
   "outputs": [
    {
     "name": "stderr",
     "output_type": "stream",
     "text": [
      "\u001b[32m[I 2022-08-24 14:11:31,541]\u001b[0m A new study created in memory with name: RandomForestRegressor\u001b[0m\n",
      "\u001b[32m[I 2022-08-24 14:20:41,470]\u001b[0m Trial 0 finished with value: 1.397303748087589 and parameters: {'max_depth': 13, 'max_leaf_nodes': 22, 'n_estimators': 354, 'min_samples_split': 9}. Best is trial 0 with value: 1.397303748087589.\u001b[0m\n",
      "\u001b[32m[I 2022-08-24 14:27:49,774]\u001b[0m Trial 1 finished with value: 1.3929313287625176 and parameters: {'max_depth': 9, 'max_leaf_nodes': 226, 'n_estimators': 179, 'min_samples_split': 9}. Best is trial 1 with value: 1.3929313287625176.\u001b[0m\n",
      "\u001b[32m[I 2022-08-24 14:36:35,326]\u001b[0m Trial 2 finished with value: 1.3964048644952114 and parameters: {'max_depth': 5, 'max_leaf_nodes': 90, 'n_estimators': 374, 'min_samples_split': 10}. Best is trial 1 with value: 1.3929313287625176.\u001b[0m\n",
      "\u001b[32m[I 2022-08-24 14:42:40,446]\u001b[0m Trial 3 finished with value: 1.400857803528424 and parameters: {'max_depth': 3, 'max_leaf_nodes': 513, 'n_estimators': 425, 'min_samples_split': 8}. Best is trial 1 with value: 1.3929313287625176.\u001b[0m\n",
      "\u001b[32m[I 2022-08-24 15:05:20,148]\u001b[0m Trial 4 finished with value: 1.391720684572414 and parameters: {'max_depth': 12, 'max_leaf_nodes': 293, 'n_estimators': 468, 'min_samples_split': 9}. Best is trial 4 with value: 1.391720684572414.\u001b[0m\n",
      "\u001b[32m[I 2022-08-24 15:15:36,946]\u001b[0m Trial 5 finished with value: 1.3930115636840337 and parameters: {'max_depth': 10, 'max_leaf_nodes': 144, 'n_estimators': 249, 'min_samples_split': 8}. Best is trial 4 with value: 1.391720684572414.\u001b[0m\n",
      "\u001b[32m[I 2022-08-24 15:28:08,445]\u001b[0m Trial 6 finished with value: 1.3930764941228306 and parameters: {'max_depth': 8, 'max_leaf_nodes': 435, 'n_estimators': 347, 'min_samples_split': 7}. Best is trial 4 with value: 1.391720684572414.\u001b[0m\n",
      "\u001b[32m[I 2022-08-24 15:48:15,099]\u001b[0m Trial 7 finished with value: 1.3913314060432875 and parameters: {'max_depth': 11, 'max_leaf_nodes': 602, 'n_estimators': 422, 'min_samples_split': 7}. Best is trial 7 with value: 1.3913314060432875.\u001b[0m\n",
      "\u001b[32m[I 2022-08-24 15:55:17,728]\u001b[0m Trial 8 finished with value: 1.3919835668928027 and parameters: {'max_depth': 14, 'max_leaf_nodes': 320, 'n_estimators': 136, 'min_samples_split': 6}. Best is trial 7 with value: 1.3913314060432875.\u001b[0m\n",
      "\u001b[32m[I 2022-08-24 15:57:30,962]\u001b[0m Trial 9 finished with value: 1.398273686424978 and parameters: {'max_depth': 4, 'max_leaf_nodes': 829, 'n_estimators': 118, 'min_samples_split': 8}. Best is trial 7 with value: 1.3913314060432875.\u001b[0m\n",
      "\u001b[32m[I 2022-08-24 16:13:08,540]\u001b[0m Trial 10 finished with value: 1.393909298568363 and parameters: {'max_depth': 7, 'max_leaf_nodes': 761, 'n_estimators': 494, 'min_samples_split': 4}. Best is trial 7 with value: 1.3913314060432875.\u001b[0m\n",
      "\u001b[32m[I 2022-08-24 16:38:44,540]\u001b[0m Trial 11 finished with value: 1.3910633909955556 and parameters: {'max_depth': 12, 'max_leaf_nodes': 634, 'n_estimators': 499, 'min_samples_split': 6}. Best is trial 11 with value: 1.3910633909955556.\u001b[0m\n",
      "\u001b[32m[I 2022-08-24 16:59:41,082]\u001b[0m Trial 12 finished with value: 1.391359886392884 and parameters: {'max_depth': 11, 'max_leaf_nodes': 576, 'n_estimators': 435, 'min_samples_split': 5}. Best is trial 11 with value: 1.3910633909955556.\u001b[0m\n",
      "\u001b[32m[I 2022-08-24 17:28:50,149]\u001b[0m Trial 13 finished with value: 1.3906281443978854 and parameters: {'max_depth': 15, 'max_leaf_nodes': 644, 'n_estimators': 500, 'min_samples_split': 6}. Best is trial 13 with value: 1.3906281443978854.\u001b[0m\n",
      "\u001b[32m[I 2022-08-24 17:45:04,005]\u001b[0m Trial 14 finished with value: 1.3904838899240182 and parameters: {'max_depth': 15, 'max_leaf_nodes': 940, 'n_estimators': 270, 'min_samples_split': 5}. Best is trial 14 with value: 1.3904838899240182.\u001b[0m\n",
      "\u001b[32m[I 2022-08-24 18:01:20,059]\u001b[0m Trial 15 finished with value: 1.3904275974608176 and parameters: {'max_depth': 15, 'max_leaf_nodes': 966, 'n_estimators': 267, 'min_samples_split': 4}. Best is trial 15 with value: 1.3904275974608176.\u001b[0m\n",
      "\u001b[32m[I 2022-08-24 18:17:11,640]\u001b[0m Trial 16 finished with value: 1.3904049233095859 and parameters: {'max_depth': 15, 'max_leaf_nodes': 997, 'n_estimators': 260, 'min_samples_split': 4}. Best is trial 16 with value: 1.3904049233095859.\u001b[0m\n",
      "\u001b[32m[I 2022-08-24 18:29:34,596]\u001b[0m Trial 17 finished with value: 1.3908149056820365 and parameters: {'max_depth': 14, 'max_leaf_nodes': 963, 'n_estimators': 214, 'min_samples_split': 4}. Best is trial 16 with value: 1.3904049233095859.\u001b[0m\n",
      "\u001b[32m[I 2022-08-24 18:45:54,267]\u001b[0m Trial 18 finished with value: 1.390608984519786 and parameters: {'max_depth': 13, 'max_leaf_nodes': 808, 'n_estimators': 300, 'min_samples_split': 4}. Best is trial 16 with value: 1.3904049233095859.\u001b[0m\n",
      "\u001b[32m[I 2022-08-24 18:57:45,751]\u001b[0m Trial 19 finished with value: 1.390884464195122 and parameters: {'max_depth': 15, 'max_leaf_nodes': 994, 'n_estimators': 195, 'min_samples_split': 5}. Best is trial 16 with value: 1.3904049233095859.\u001b[0m\n"
     ]
    }
   ],
   "source": [
    "from tkinter.tix import Meter\n",
    "import optuna\n",
    "from optuna.samplers import TPESampler\n",
    "\n",
    "sampler = TPESampler(seed=10)\n",
    "\n",
    "def lg_nrmse(gt, preds):\n",
    "    # 각 Y Feature별 NRMSE 총합\n",
    "    # Y_01 ~ Y_08 까지 20% 가중치 부여\n",
    "    all_nrmse = []\n",
    "    for idx in range(14): # ignore 'ID'\n",
    "        rmse = metrics.mean_squared_error(gt.iloc[:,idx], preds[:,idx], squared=False)\n",
    "        nrmse = rmse/np.mean(np.abs(gt.iloc[:,idx]))\n",
    "        all_nrmse.append(nrmse)\n",
    "    score = 1.2 * np.sum(all_nrmse[:8]) + 1.0 * np.sum(all_nrmse[8:14])\n",
    "    return score\n",
    "\n",
    "def RF_objective(trial):\n",
    "    max_depth = trial.suggest_int('max_depth', 3, 15)\n",
    "    max_leaf_nodes = trial.suggest_int('max_leaf_nodes', 2, 1000)\n",
    "    n_estimators =  trial.suggest_int('n_estimators', 100, 500)\n",
    "    min_samples_split = trial.suggest_int('min_samples_split', 4, 10)\n",
    "   \n",
    "    model = MultiOutputRegressor(RandomForestRegressor(max_depth = max_depth, max_leaf_nodes = max_leaf_nodes,n_estimators = n_estimators,n_jobs=2,random_state=42))\n",
    "    model.fit(X_train, y_train)    \n",
    "    rmse = lg_nrmse(y_valid, model.predict(X_valid))\n",
    "    return np.sqrt(rmse)\n",
    "    \n",
    "#Execute optuna and set hyperparameters\n",
    "RF_study = optuna.create_study(direction='minimize', sampler=sampler, study_name='RandomForestRegressor')\n",
    "RF_study.optimize(RF_objective, n_trials=200)\n",
    "\n",
    "#Create an instance with tuned hyperparameters\n",
    "# optimized_RF = MultiOutputRegressor(RandomForestClassifier(max_depth = RF_study.best_params['max_depth'], max_leaf_nodes = RF_study.best_params['max_leaf_nodes'],\n",
    "#                                       n_estimators = RF_study.best_params['n_estimators'],n_jobs=2,random_state=25))"
   ]
  },
  {
   "cell_type": "code",
   "execution_count": 12,
   "id": "4de70304",
   "metadata": {
    "ExecuteTime": {
     "end_time": "2022-08-24T09:57:45.755809Z",
     "start_time": "2022-08-24T09:57:45.754017Z"
    }
   },
   "outputs": [
    {
     "name": "stdout",
     "output_type": "stream",
     "text": [
      "Best parameters: {'max_depth': 15, 'max_leaf_nodes': 997, 'n_estimators': 260, 'min_samples_split': 4}\n",
      "Best RMSE: 1.3904049233095859\n"
     ]
    }
   ],
   "source": [
    "print('Best parameters: {}'.format(RF_study.best_params))\n",
    "print('Best RMSE: {}'.format(RF_study.best_value))"
   ]
  },
  {
   "cell_type": "code",
   "execution_count": 14,
   "id": "8362384e",
   "metadata": {
    "ExecuteTime": {
     "end_time": "2022-08-24T11:21:22.687538Z",
     "start_time": "2022-08-24T11:21:22.679463Z"
    }
   },
   "outputs": [],
   "source": [
    "test.drop(columns=['ID'],inplace=True)"
   ]
  },
  {
   "cell_type": "code",
   "execution_count": 16,
   "id": "f3be693d",
   "metadata": {
    "ExecuteTime": {
     "end_time": "2022-08-24T14:03:23.561196Z",
     "start_time": "2022-08-24T11:49:52.701231Z"
    },
    "scrolled": false
   },
   "outputs": [
    {
     "name": "stdout",
     "output_type": "stream",
     "text": [
      "######################################## fold 1 / fold 5 ########################################\n",
      "fold 1 nrmse : 1.9403140739809648\n",
      "\n",
      "######################################## fold 2 / fold 5 ########################################\n",
      "fold 2 nrmse : 1.975730608859738\n",
      "\n",
      "######################################## fold 3 / fold 5 ########################################\n",
      "fold 3 nrmse : 1.9530304784516783\n",
      "\n",
      "######################################## fold 4 / fold 5 ########################################\n",
      "fold 4 nrmse : 1.9530507116985456\n",
      "\n",
      "######################################## fold 5 / fold 5 ########################################\n",
      "fold 5 nrmse : 1.9599600228059808\n",
      "\n"
     ]
    }
   ],
   "source": [
    "from sklearn.model_selection import KFold\n",
    "\n",
    "fold = KFold(5, shuffle=True, random_state=42)\n",
    "\n",
    "oof_val_preds = np.zeros((X.shape[0], 14))\n",
    "oof_test_preds = np.zeros((test.shape[0], 14))\n",
    "# best_trial = RF_study.best_trial\n",
    "# params = best_trial.params\n",
    "# print(params)\n",
    "\n",
    "def lg_nrmse(gt, preds):\n",
    "    # 각 Y Feature별 NRMSE 총합\n",
    "    # Y_01 ~ Y_08 까지 20% 가중치 부여\n",
    "    all_nrmse = []\n",
    "    for idx in range(14): # ignore 'ID'\n",
    "        rmse = metrics.mean_squared_error(gt.iloc[:,idx], preds[:,idx], squared=False)\n",
    "        nrmse = rmse/np.mean(np.abs(gt.iloc[:,idx]))\n",
    "        all_nrmse.append(nrmse)\n",
    "    score = 1.2 * np.sum(all_nrmse[:8]) + 1.0 * np.sum(all_nrmse[8:14])\n",
    "    return score\n",
    "\n",
    "for idx, (train_idx, valid_idx) in enumerate(fold.split(X, y)):\n",
    "    print('#'*40, f'fold {idx + 1} / fold {fold.n_splits}', '#'*40)\n",
    "    X_train, y_train = X.loc[train_idx], y.loc[train_idx]\n",
    "    X_valid, y_valid = X.loc[valid_idx], y.loc[valid_idx]\n",
    " \n",
    "    rf_model = MultiOutputRegressor(RandomForestRegressor(max_depth = 15, max_leaf_nodes = 997, n_estimators = 260, min_samples_split = 4, random_state=42))\n",
    "    model = rf_model.fit(X_train, y_train)\n",
    "    oof_val_preds[valid_idx] += model.predict(X_valid)\n",
    "    oof_test_preds += model.predict(test)/fold.n_splits\n",
    "    \n",
    "    score = lg_nrmse(y_valid, oof_val_preds[valid_idx])\n",
    "    print(f'fold {idx+1} nrmse : {score}\\n')"
   ]
  },
  {
   "cell_type": "code",
   "execution_count": 17,
   "id": "61833b50",
   "metadata": {
    "ExecuteTime": {
     "end_time": "2022-08-24T14:03:23.570102Z",
     "start_time": "2022-08-24T14:03:23.562421Z"
    }
   },
   "outputs": [
    {
     "data": {
      "text/plain": [
       "1.9566692681491908"
      ]
     },
     "execution_count": 17,
     "metadata": {},
     "output_type": "execute_result"
    }
   ],
   "source": [
    "lg_nrmse(y, oof_val_preds)"
   ]
  },
  {
   "cell_type": "code",
   "execution_count": 18,
   "id": "6b06fbc4",
   "metadata": {
    "ExecuteTime": {
     "end_time": "2022-08-24T14:03:33.219343Z",
     "start_time": "2022-08-24T14:03:23.570863Z"
    }
   },
   "outputs": [],
   "source": [
    "pred = model.predict(test)"
   ]
  },
  {
   "cell_type": "code",
   "execution_count": 19,
   "id": "3b661148",
   "metadata": {
    "ExecuteTime": {
     "end_time": "2022-08-24T14:03:33.224652Z",
     "start_time": "2022-08-24T14:03:33.220502Z"
    }
   },
   "outputs": [
    {
     "name": "stdout",
     "output_type": "stream",
     "text": [
      "Done.\n"
     ]
    }
   ],
   "source": [
    "for idx, col in enumerate(submission.columns):\n",
    "    if col=='ID':\n",
    "        continue\n",
    "    submission[col] = pred[:,idx-1]\n",
    "print('Done.')"
   ]
  },
  {
   "cell_type": "code",
   "execution_count": 20,
   "id": "180cb721",
   "metadata": {
    "ExecuteTime": {
     "end_time": "2022-08-24T14:03:33.619464Z",
     "start_time": "2022-08-24T14:03:33.225299Z"
    }
   },
   "outputs": [],
   "source": [
    "submission.to_csv('/Users/cge/Documents/python/LGaimers/submission/rf_optuna.csv', index=False)"
   ]
  },
  {
   "cell_type": "markdown",
   "id": "423b5d1b",
   "metadata": {},
   "source": [
    "**1. baseline_lgb** [public score] 1.9453620126"
   ]
  },
  {
   "cell_type": "code",
   "execution_count": null,
   "id": "q5bkLi2ZiVXo",
   "metadata": {
    "id": "q5bkLi2ZiVXo"
   },
   "outputs": [],
   "source": []
  }
 ],
 "metadata": {
  "colab": {
   "collapsed_sections": [],
   "name": "LGaimers_xgboost.ipynb",
   "provenance": []
  },
  "gpuClass": "standard",
  "kernelspec": {
   "display_name": "Python 3 (ipykernel)",
   "language": "python",
   "name": "python3"
  },
  "language_info": {
   "codemirror_mode": {
    "name": "ipython",
    "version": 3
   },
   "file_extension": ".py",
   "mimetype": "text/x-python",
   "name": "python",
   "nbconvert_exporter": "python",
   "pygments_lexer": "ipython3",
   "version": "3.8.13"
  },
  "toc": {
   "base_numbering": 1,
   "nav_menu": {},
   "number_sections": true,
   "sideBar": true,
   "skip_h1_title": false,
   "title_cell": "Table of Contents",
   "title_sidebar": "Contents",
   "toc_cell": false,
   "toc_position": {},
   "toc_section_display": true,
   "toc_window_display": false
  },
  "vscode": {
   "interpreter": {
    "hash": "d79fe73791ab29c6ec0de2cca89b61fcb1b25e59ef9ef690fb8b059e744e544e"
   }
  }
 },
 "nbformat": 4,
 "nbformat_minor": 5
}
