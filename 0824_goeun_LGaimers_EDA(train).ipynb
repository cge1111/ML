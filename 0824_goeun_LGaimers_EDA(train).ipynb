{
 "cells": [
  {
   "cell_type": "markdown",
   "id": "fd510dcf-85b2-4396-858c-a14a37960c76",
   "metadata": {
    "id": "fd510dcf-85b2-4396-858c-a14a37960c76"
   },
   "source": [
    "# Import"
   ]
  },
  {
   "cell_type": "code",
   "execution_count": 1,
   "id": "BiOuajP7htlw",
   "metadata": {
    "ExecuteTime": {
     "end_time": "2022-08-24T02:37:03.273195Z",
     "start_time": "2022-08-24T02:37:03.270107Z"
    },
    "colab": {
     "base_uri": "https://localhost:8080/"
    },
    "id": "BiOuajP7htlw",
    "outputId": "27354d4c-fdd6-433b-d185-0c0caf7e70c5"
   },
   "outputs": [],
   "source": [
    "# from google.colab import drive\n",
    "# drive.mount('/content/drive')"
   ]
  },
  {
   "cell_type": "code",
   "execution_count": 1,
   "id": "5c415d9d-1111-46ed-bc2d-849c75ab962a",
   "metadata": {
    "ExecuteTime": {
     "end_time": "2022-08-24T11:37:17.923829Z",
     "start_time": "2022-08-24T11:37:17.003021Z"
    },
    "id": "5c415d9d-1111-46ed-bc2d-849c75ab962a"
   },
   "outputs": [],
   "source": [
    "import pandas as pd\n",
    "import random\n",
    "import os\n",
    "import numpy as np\n",
    "import matplotlib.pyplot as plt\n",
    "import seaborn as sns\n",
    "\n",
    "from sklearn.linear_model import LinearRegression\n",
    "from sklearn.multioutput import MultiOutputRegressor\n",
    "from sklearn.model_selection import train_test_split\n",
    "from sklearn.preprocessing import StandardScaler\n",
    "\n",
    "import xgboost as xgb"
   ]
  },
  {
   "cell_type": "code",
   "execution_count": 2,
   "id": "edae871a-b31b-4f06-bb88-0fd1f6660b13",
   "metadata": {
    "ExecuteTime": {
     "end_time": "2022-08-24T11:37:17.926804Z",
     "start_time": "2022-08-24T11:37:17.924930Z"
    },
    "id": "edae871a-b31b-4f06-bb88-0fd1f6660b13"
   },
   "outputs": [],
   "source": [
    "def seed_everything(seed):\n",
    "    random.seed(seed)\n",
    "    os.environ['PYTHONHASHSEED'] = str(seed)\n",
    "    np.random.seed(seed)\n",
    "seed_everything(42) # Seed 고정"
   ]
  },
  {
   "cell_type": "markdown",
   "id": "18003e8e-4227-4e98-98de-0861ba8dc6cc",
   "metadata": {
    "id": "18003e8e-4227-4e98-98de-0861ba8dc6cc"
   },
   "source": [
    "# Data Load _ train"
   ]
  },
  {
   "cell_type": "markdown",
   "id": "298fc674",
   "metadata": {
    "ExecuteTime": {
     "end_time": "2022-08-16T14:07:28.490358Z",
     "start_time": "2022-08-16T14:07:28.479482Z"
    }
   },
   "source": [
    "%pwd"
   ]
  },
  {
   "cell_type": "code",
   "execution_count": 8,
   "id": "4c8cd6e1",
   "metadata": {
    "ExecuteTime": {
     "end_time": "2022-08-24T11:38:07.237846Z",
     "start_time": "2022-08-24T11:38:07.098142Z"
    }
   },
   "outputs": [],
   "source": [
    "# mac\n",
    "base_path = '/Users/cge/Documents/python/LGaimers/open/'\n",
    "\n",
    "train_df = pd.read_csv(base_path+'train.csv')\n",
    "\n",
    "x_feature_info = pd.read_csv('/Users/cge/Documents/python/LGaimers/open/meta/x_feature_info.csv')\n",
    "y_feature_info = pd.read_csv('/Users/cge/Documents/python/LGaimers/open/meta/y_feature_info.csv')\n",
    "y_feature_spec_info = pd.read_csv('/Users/cge/Documents/python/LGaimers/open/meta/y_feature_spec_info.csv')"
   ]
  },
  {
   "cell_type": "code",
   "execution_count": 9,
   "id": "3b177d8a",
   "metadata": {
    "ExecuteTime": {
     "end_time": "2022-08-24T11:38:07.409093Z",
     "start_time": "2022-08-24T11:38:07.403583Z"
    }
   },
   "outputs": [],
   "source": [
    "train_x = train_df.filter(regex='X') # Input : X Featrue\n",
    "train_y = train_df.filter(regex='Y') # Output : Y Feature"
   ]
  },
  {
   "cell_type": "markdown",
   "id": "98f74501",
   "metadata": {},
   "source": [
    "# EDA"
   ]
  },
  {
   "cell_type": "code",
   "execution_count": 5,
   "id": "wFWFIDeZLg2f",
   "metadata": {
    "ExecuteTime": {
     "end_time": "2022-08-24T11:37:18.908803Z",
     "start_time": "2022-08-24T11:37:18.901867Z"
    },
    "colab": {
     "base_uri": "https://localhost:8080/",
     "height": 1000
    },
    "id": "wFWFIDeZLg2f",
    "outputId": "c8030ab1-704d-4b40-b7fd-a72ce3e18f3a",
    "scrolled": false
   },
   "outputs": [
    {
     "data": {
      "text/html": [
       "<div>\n",
       "<style scoped>\n",
       "    .dataframe tbody tr th:only-of-type {\n",
       "        vertical-align: middle;\n",
       "    }\n",
       "\n",
       "    .dataframe tbody tr th {\n",
       "        vertical-align: top;\n",
       "    }\n",
       "\n",
       "    .dataframe thead th {\n",
       "        text-align: right;\n",
       "    }\n",
       "</style>\n",
       "<table border=\"1\" class=\"dataframe\">\n",
       "  <thead>\n",
       "    <tr style=\"text-align: right;\">\n",
       "      <th></th>\n",
       "      <th>Feature</th>\n",
       "      <th>설명</th>\n",
       "    </tr>\n",
       "  </thead>\n",
       "  <tbody>\n",
       "    <tr>\n",
       "      <th>0</th>\n",
       "      <td>X_01</td>\n",
       "      <td>PCB 체결 시 단계별 누름량(Step 1)</td>\n",
       "    </tr>\n",
       "    <tr>\n",
       "      <th>1</th>\n",
       "      <td>X_02</td>\n",
       "      <td>PCB 체결 시 단계별 누름량(Step 2)</td>\n",
       "    </tr>\n",
       "    <tr>\n",
       "      <th>2</th>\n",
       "      <td>X_03</td>\n",
       "      <td>방열 재료 1 무게</td>\n",
       "    </tr>\n",
       "    <tr>\n",
       "      <th>3</th>\n",
       "      <td>X_04</td>\n",
       "      <td>1차 검사 통과 여부</td>\n",
       "    </tr>\n",
       "    <tr>\n",
       "      <th>4</th>\n",
       "      <td>X_05</td>\n",
       "      <td>PCB 체결 시 단계별 누름량(Step 3)</td>\n",
       "    </tr>\n",
       "    <tr>\n",
       "      <th>5</th>\n",
       "      <td>X_06</td>\n",
       "      <td>PCB 체결 시 단계별 누름량(Step 4)</td>\n",
       "    </tr>\n",
       "    <tr>\n",
       "      <th>6</th>\n",
       "      <td>X_07</td>\n",
       "      <td>방열 재료 1 면적</td>\n",
       "    </tr>\n",
       "    <tr>\n",
       "      <th>7</th>\n",
       "      <td>X_08</td>\n",
       "      <td>방열 재료 2 면적</td>\n",
       "    </tr>\n",
       "    <tr>\n",
       "      <th>8</th>\n",
       "      <td>X_09</td>\n",
       "      <td>방열 재료 3 면적</td>\n",
       "    </tr>\n",
       "    <tr>\n",
       "      <th>9</th>\n",
       "      <td>X_10</td>\n",
       "      <td>방열 재료 2 무게</td>\n",
       "    </tr>\n",
       "    <tr>\n",
       "      <th>10</th>\n",
       "      <td>X_11</td>\n",
       "      <td>방열 재료 3 무게</td>\n",
       "    </tr>\n",
       "    <tr>\n",
       "      <th>11</th>\n",
       "      <td>X_12</td>\n",
       "      <td>커넥터 위치 기준 좌표</td>\n",
       "    </tr>\n",
       "    <tr>\n",
       "      <th>12</th>\n",
       "      <td>X_13</td>\n",
       "      <td>각 안테나 패드 위치(높이) 차이</td>\n",
       "    </tr>\n",
       "    <tr>\n",
       "      <th>13</th>\n",
       "      <td>X_14</td>\n",
       "      <td>1번 안테나 패드 위치</td>\n",
       "    </tr>\n",
       "    <tr>\n",
       "      <th>14</th>\n",
       "      <td>X_15</td>\n",
       "      <td>2번 안테나 패드 위치</td>\n",
       "    </tr>\n",
       "    <tr>\n",
       "      <th>15</th>\n",
       "      <td>X_16</td>\n",
       "      <td>3번 안테나 패드 위치</td>\n",
       "    </tr>\n",
       "    <tr>\n",
       "      <th>16</th>\n",
       "      <td>X_17</td>\n",
       "      <td>4번 안테나 패드 위치</td>\n",
       "    </tr>\n",
       "    <tr>\n",
       "      <th>17</th>\n",
       "      <td>X_18</td>\n",
       "      <td>5번 안테나 패드 위치</td>\n",
       "    </tr>\n",
       "    <tr>\n",
       "      <th>18</th>\n",
       "      <td>X_19</td>\n",
       "      <td>1번 스크류 삽입 깊이</td>\n",
       "    </tr>\n",
       "    <tr>\n",
       "      <th>19</th>\n",
       "      <td>X_20</td>\n",
       "      <td>2번 스크류 삽입 깊이</td>\n",
       "    </tr>\n",
       "    <tr>\n",
       "      <th>20</th>\n",
       "      <td>X_21</td>\n",
       "      <td>3번 스크류 삽입 깊이</td>\n",
       "    </tr>\n",
       "    <tr>\n",
       "      <th>21</th>\n",
       "      <td>X_22</td>\n",
       "      <td>4번 스크류 삽입 깊이</td>\n",
       "    </tr>\n",
       "    <tr>\n",
       "      <th>22</th>\n",
       "      <td>X_23</td>\n",
       "      <td>2차 검사 통과 여부</td>\n",
       "    </tr>\n",
       "    <tr>\n",
       "      <th>23</th>\n",
       "      <td>X_24</td>\n",
       "      <td>커넥터 1번 핀 치수</td>\n",
       "    </tr>\n",
       "    <tr>\n",
       "      <th>24</th>\n",
       "      <td>X_25</td>\n",
       "      <td>커넥터 2번 핀 치수</td>\n",
       "    </tr>\n",
       "    <tr>\n",
       "      <th>25</th>\n",
       "      <td>X_26</td>\n",
       "      <td>커넥터 3번 핀 치수</td>\n",
       "    </tr>\n",
       "    <tr>\n",
       "      <th>26</th>\n",
       "      <td>X_27</td>\n",
       "      <td>커넥터 4번 핀 치수</td>\n",
       "    </tr>\n",
       "    <tr>\n",
       "      <th>27</th>\n",
       "      <td>X_28</td>\n",
       "      <td>커넥터 5번 핀 치수</td>\n",
       "    </tr>\n",
       "    <tr>\n",
       "      <th>28</th>\n",
       "      <td>X_29</td>\n",
       "      <td>커넥터 6번 핀 치수</td>\n",
       "    </tr>\n",
       "    <tr>\n",
       "      <th>29</th>\n",
       "      <td>X_30</td>\n",
       "      <td>스크류 삽입 깊이1</td>\n",
       "    </tr>\n",
       "    <tr>\n",
       "      <th>30</th>\n",
       "      <td>X_31</td>\n",
       "      <td>스크류 삽입 깊이2</td>\n",
       "    </tr>\n",
       "    <tr>\n",
       "      <th>31</th>\n",
       "      <td>X_32</td>\n",
       "      <td>스크류 삽입 깊이3</td>\n",
       "    </tr>\n",
       "    <tr>\n",
       "      <th>32</th>\n",
       "      <td>X_33</td>\n",
       "      <td>스크류 삽입 깊이4</td>\n",
       "    </tr>\n",
       "    <tr>\n",
       "      <th>33</th>\n",
       "      <td>X_34</td>\n",
       "      <td>스크류 체결 시 분당 회전수 1</td>\n",
       "    </tr>\n",
       "    <tr>\n",
       "      <th>34</th>\n",
       "      <td>X_35</td>\n",
       "      <td>스크류 체결 시 분당 회전수 2</td>\n",
       "    </tr>\n",
       "    <tr>\n",
       "      <th>35</th>\n",
       "      <td>X_36</td>\n",
       "      <td>스크류 체결 시 분당 회전수 3</td>\n",
       "    </tr>\n",
       "    <tr>\n",
       "      <th>36</th>\n",
       "      <td>X_37</td>\n",
       "      <td>스크류 체결 시 분당 회전수 4</td>\n",
       "    </tr>\n",
       "    <tr>\n",
       "      <th>37</th>\n",
       "      <td>X_38</td>\n",
       "      <td>하우징 PCB 안착부 1 치수</td>\n",
       "    </tr>\n",
       "    <tr>\n",
       "      <th>38</th>\n",
       "      <td>X_39</td>\n",
       "      <td>하우징 PCB 안착부 2 치수</td>\n",
       "    </tr>\n",
       "    <tr>\n",
       "      <th>39</th>\n",
       "      <td>X_40</td>\n",
       "      <td>하우징 PCB 안착부 3 치수</td>\n",
       "    </tr>\n",
       "    <tr>\n",
       "      <th>40</th>\n",
       "      <td>X_41</td>\n",
       "      <td>레이돔 치수 (안테나 1번 부위)</td>\n",
       "    </tr>\n",
       "    <tr>\n",
       "      <th>41</th>\n",
       "      <td>X_42</td>\n",
       "      <td>레이돔 치수 (안테나 2번 부위)</td>\n",
       "    </tr>\n",
       "    <tr>\n",
       "      <th>42</th>\n",
       "      <td>X_43</td>\n",
       "      <td>레이돔 치수 (안테나 3번 부위)</td>\n",
       "    </tr>\n",
       "    <tr>\n",
       "      <th>43</th>\n",
       "      <td>X_44</td>\n",
       "      <td>레이돔 치수 (안테나 4번 부위)</td>\n",
       "    </tr>\n",
       "    <tr>\n",
       "      <th>44</th>\n",
       "      <td>X_45</td>\n",
       "      <td>안테나 부분 레이돔 기울기</td>\n",
       "    </tr>\n",
       "    <tr>\n",
       "      <th>45</th>\n",
       "      <td>X_46</td>\n",
       "      <td>실란트 본드 소요량</td>\n",
       "    </tr>\n",
       "    <tr>\n",
       "      <th>46</th>\n",
       "      <td>X_47</td>\n",
       "      <td>3차 검사 통과 여부</td>\n",
       "    </tr>\n",
       "    <tr>\n",
       "      <th>47</th>\n",
       "      <td>X_48</td>\n",
       "      <td>4차 검사 통과 여부</td>\n",
       "    </tr>\n",
       "    <tr>\n",
       "      <th>48</th>\n",
       "      <td>X_49</td>\n",
       "      <td>Cal 투입 전 대기 시간</td>\n",
       "    </tr>\n",
       "    <tr>\n",
       "      <th>49</th>\n",
       "      <td>X_50</td>\n",
       "      <td>RF1 부분 SMT 납 량</td>\n",
       "    </tr>\n",
       "    <tr>\n",
       "      <th>50</th>\n",
       "      <td>X_51</td>\n",
       "      <td>RF2 부분 SMT 납 량</td>\n",
       "    </tr>\n",
       "    <tr>\n",
       "      <th>51</th>\n",
       "      <td>X_52</td>\n",
       "      <td>RF3 부분 SMT 납 량</td>\n",
       "    </tr>\n",
       "    <tr>\n",
       "      <th>52</th>\n",
       "      <td>X_53</td>\n",
       "      <td>RF4 부분 SMT 납 량</td>\n",
       "    </tr>\n",
       "    <tr>\n",
       "      <th>53</th>\n",
       "      <td>X_54</td>\n",
       "      <td>RF5 부분 SMT 납 량</td>\n",
       "    </tr>\n",
       "    <tr>\n",
       "      <th>54</th>\n",
       "      <td>X_55</td>\n",
       "      <td>RF6 부분 SMT 납 량</td>\n",
       "    </tr>\n",
       "    <tr>\n",
       "      <th>55</th>\n",
       "      <td>X_56</td>\n",
       "      <td>RF7 부분 SMT 납 량</td>\n",
       "    </tr>\n",
       "  </tbody>\n",
       "</table>\n",
       "</div>"
      ],
      "text/plain": [
       "   Feature                        설명\n",
       "0     X_01  PCB 체결 시 단계별 누름량(Step 1)\n",
       "1     X_02  PCB 체결 시 단계별 누름량(Step 2)\n",
       "2     X_03                방열 재료 1 무게\n",
       "3     X_04               1차 검사 통과 여부\n",
       "4     X_05  PCB 체결 시 단계별 누름량(Step 3)\n",
       "5     X_06  PCB 체결 시 단계별 누름량(Step 4)\n",
       "6     X_07                방열 재료 1 면적\n",
       "7     X_08                방열 재료 2 면적\n",
       "8     X_09                방열 재료 3 면적\n",
       "9     X_10                방열 재료 2 무게\n",
       "10    X_11                방열 재료 3 무게\n",
       "11    X_12              커넥터 위치 기준 좌표\n",
       "12    X_13        각 안테나 패드 위치(높이) 차이\n",
       "13    X_14              1번 안테나 패드 위치\n",
       "14    X_15              2번 안테나 패드 위치\n",
       "15    X_16              3번 안테나 패드 위치\n",
       "16    X_17              4번 안테나 패드 위치\n",
       "17    X_18              5번 안테나 패드 위치\n",
       "18    X_19              1번 스크류 삽입 깊이\n",
       "19    X_20              2번 스크류 삽입 깊이\n",
       "20    X_21              3번 스크류 삽입 깊이\n",
       "21    X_22              4번 스크류 삽입 깊이\n",
       "22    X_23               2차 검사 통과 여부\n",
       "23    X_24               커넥터 1번 핀 치수\n",
       "24    X_25               커넥터 2번 핀 치수\n",
       "25    X_26               커넥터 3번 핀 치수\n",
       "26    X_27               커넥터 4번 핀 치수\n",
       "27    X_28               커넥터 5번 핀 치수\n",
       "28    X_29               커넥터 6번 핀 치수\n",
       "29    X_30                스크류 삽입 깊이1\n",
       "30    X_31                스크류 삽입 깊이2\n",
       "31    X_32                스크류 삽입 깊이3\n",
       "32    X_33                스크류 삽입 깊이4\n",
       "33    X_34         스크류 체결 시 분당 회전수 1\n",
       "34    X_35         스크류 체결 시 분당 회전수 2\n",
       "35    X_36         스크류 체결 시 분당 회전수 3\n",
       "36    X_37         스크류 체결 시 분당 회전수 4\n",
       "37    X_38          하우징 PCB 안착부 1 치수\n",
       "38    X_39          하우징 PCB 안착부 2 치수\n",
       "39    X_40          하우징 PCB 안착부 3 치수\n",
       "40    X_41        레이돔 치수 (안테나 1번 부위)\n",
       "41    X_42        레이돔 치수 (안테나 2번 부위)\n",
       "42    X_43        레이돔 치수 (안테나 3번 부위)\n",
       "43    X_44        레이돔 치수 (안테나 4번 부위)\n",
       "44    X_45            안테나 부분 레이돔 기울기\n",
       "45    X_46                실란트 본드 소요량\n",
       "46    X_47               3차 검사 통과 여부\n",
       "47    X_48               4차 검사 통과 여부\n",
       "48    X_49            Cal 투입 전 대기 시간\n",
       "49    X_50            RF1 부분 SMT 납 량\n",
       "50    X_51            RF2 부분 SMT 납 량\n",
       "51    X_52            RF3 부분 SMT 납 량\n",
       "52    X_53            RF4 부분 SMT 납 량\n",
       "53    X_54            RF5 부분 SMT 납 량\n",
       "54    X_55            RF6 부분 SMT 납 량\n",
       "55    X_56            RF7 부분 SMT 납 량"
      ]
     },
     "execution_count": 5,
     "metadata": {},
     "output_type": "execute_result"
    }
   ],
   "source": [
    "x_feature_info"
   ]
  },
  {
   "cell_type": "markdown",
   "id": "c0e7f6fc",
   "metadata": {
    "ExecuteTime": {
     "end_time": "2022-08-17T08:43:54.867338Z",
     "start_time": "2022-08-17T08:43:54.863168Z"
    }
   },
   "source": [
    "<img src=\"corr.png\" width=\"1200\" style=\"float:left\" />"
   ]
  },
  {
   "cell_type": "code",
   "execution_count": 7,
   "id": "7n1PbdFxMR18",
   "metadata": {
    "ExecuteTime": {
     "end_time": "2022-08-17T05:15:49.366231Z",
     "start_time": "2022-08-17T05:15:49.355491Z"
    },
    "colab": {
     "base_uri": "https://localhost:8080/",
     "height": 488
    },
    "id": "7n1PbdFxMR18",
    "outputId": "6d5223ee-f2dc-4b30-e01f-942752d2c1d0"
   },
   "outputs": [
    {
     "data": {
      "text/html": [
       "<div>\n",
       "<style scoped>\n",
       "    .dataframe tbody tr th:only-of-type {\n",
       "        vertical-align: middle;\n",
       "    }\n",
       "\n",
       "    .dataframe tbody tr th {\n",
       "        vertical-align: top;\n",
       "    }\n",
       "\n",
       "    .dataframe thead th {\n",
       "        text-align: right;\n",
       "    }\n",
       "</style>\n",
       "<table border=\"1\" class=\"dataframe\">\n",
       "  <thead>\n",
       "    <tr style=\"text-align: right;\">\n",
       "      <th></th>\n",
       "      <th>Feature</th>\n",
       "      <th>설명</th>\n",
       "    </tr>\n",
       "  </thead>\n",
       "  <tbody>\n",
       "    <tr>\n",
       "      <th>0</th>\n",
       "      <td>Y_01</td>\n",
       "      <td>안테나 Gain 평균 (각도1)</td>\n",
       "    </tr>\n",
       "    <tr>\n",
       "      <th>1</th>\n",
       "      <td>Y_02</td>\n",
       "      <td>안테나 1 Gain 편차</td>\n",
       "    </tr>\n",
       "    <tr>\n",
       "      <th>2</th>\n",
       "      <td>Y_03</td>\n",
       "      <td>안테나 2 Gain 편차</td>\n",
       "    </tr>\n",
       "    <tr>\n",
       "      <th>3</th>\n",
       "      <td>Y_04</td>\n",
       "      <td>평균 신호대 잡음비</td>\n",
       "    </tr>\n",
       "    <tr>\n",
       "      <th>4</th>\n",
       "      <td>Y_05</td>\n",
       "      <td>안테나 Gain 평균 (각도2)</td>\n",
       "    </tr>\n",
       "    <tr>\n",
       "      <th>5</th>\n",
       "      <td>Y_06</td>\n",
       "      <td>신호대 잡음비  (각도1)</td>\n",
       "    </tr>\n",
       "    <tr>\n",
       "      <th>6</th>\n",
       "      <td>Y_07</td>\n",
       "      <td>안테나 Gain 평균 (각도3)</td>\n",
       "    </tr>\n",
       "    <tr>\n",
       "      <th>7</th>\n",
       "      <td>Y_08</td>\n",
       "      <td>신호대 잡음비  (각도2)</td>\n",
       "    </tr>\n",
       "    <tr>\n",
       "      <th>8</th>\n",
       "      <td>Y_09</td>\n",
       "      <td>신호대 잡음비  (각도3)</td>\n",
       "    </tr>\n",
       "    <tr>\n",
       "      <th>9</th>\n",
       "      <td>Y_10</td>\n",
       "      <td>신호대 잡음비  (각도4)</td>\n",
       "    </tr>\n",
       "    <tr>\n",
       "      <th>10</th>\n",
       "      <td>Y_11</td>\n",
       "      <td>안테나 Gain 평균 (각도4)</td>\n",
       "    </tr>\n",
       "    <tr>\n",
       "      <th>11</th>\n",
       "      <td>Y_12</td>\n",
       "      <td>신호대 잡음비  (각도5)</td>\n",
       "    </tr>\n",
       "    <tr>\n",
       "      <th>12</th>\n",
       "      <td>Y_13</td>\n",
       "      <td>신호대 잡음비  (각도6)</td>\n",
       "    </tr>\n",
       "    <tr>\n",
       "      <th>13</th>\n",
       "      <td>Y_14</td>\n",
       "      <td>신호대 잡음비  (각도7)</td>\n",
       "    </tr>\n",
       "  </tbody>\n",
       "</table>\n",
       "</div>"
      ],
      "text/plain": [
       "   Feature                   설명\n",
       "0     Y_01  안테나 Gain 평균 (각도1)  \n",
       "1     Y_02        안테나 1 Gain 편차\n",
       "2     Y_03        안테나 2 Gain 편차\n",
       "3     Y_04          평균 신호대 잡음비 \n",
       "4     Y_05    안테나 Gain 평균 (각도2)\n",
       "5     Y_06     신호대 잡음비  (각도1)  \n",
       "6     Y_07  안테나 Gain 평균 (각도3)  \n",
       "7     Y_08     신호대 잡음비  (각도2)  \n",
       "8     Y_09     신호대 잡음비  (각도3)  \n",
       "9     Y_10     신호대 잡음비  (각도4)  \n",
       "10    Y_11    안테나 Gain 평균 (각도4)\n",
       "11    Y_12     신호대 잡음비  (각도5)  \n",
       "12    Y_13     신호대 잡음비  (각도6)  \n",
       "13    Y_14     신호대 잡음비  (각도7)  "
      ]
     },
     "execution_count": 7,
     "metadata": {},
     "output_type": "execute_result"
    }
   ],
   "source": [
    "y_feature_info"
   ]
  },
  {
   "cell_type": "code",
   "execution_count": 8,
   "id": "380213f9",
   "metadata": {
    "ExecuteTime": {
     "end_time": "2022-08-17T05:15:50.473955Z",
     "start_time": "2022-08-17T05:15:50.464952Z"
    }
   },
   "outputs": [],
   "source": [
    "group_dict = {\n",
    "    \"Group_1\" : [\"X_01\", \"X_02\", \"X_05\", \"X_06\"],\n",
    "    \"Group_2\" : [\"X_03\", \"X_10\", \"X_11\"],\n",
    "    \"Group_3\" : [\"X_04\", \"X_23\", \"X_47\", \"X_48\"],\n",
    "    \"Group_4\" : [\"X_07\", \"X_08\", \"X_09\"],\n",
    "    \"Group_5\" : [\"X_12\"],\n",
    "    \"Group_6\" : [\"X_13\"],\n",
    "    \"Group_7\" : [\"X_14\", \"X_15\", \"X_16\", \"X_17\", \"X_18\"],\n",
    "    \"Group_8\" : [\"X_19\", \"X_20\", \"X_21\", \"X_22\"],\n",
    "    \"Group_9\" : [\"X_24\", \"X_25\", \"X_26\", \"X_27\", \"X_28\", \"X_29\"],\n",
    "    \"Group_10\" : [\"X_30\", \"X_31\", \"X_32\", \"X_33\"],\n",
    "    \"Group_11\" : [\"X_34\", \"X_35\", \"X_36\", \"X_37\"],\n",
    "    \"Group_12\" : [\"X_38\", \"X_39\", \"X_40\"],\n",
    "    \"Group_13\" : [\"X_41\", \"X_42\", \"X_43\", \"X_44\"],\n",
    "    \"Group_14\" : [\"X_45\"],\n",
    "    \"Group_15\" : [\"X_46\"],\n",
    "    \"Group_16\" : [\"X_49\"],\n",
    "    \"Group_17\" : [\"X_50\", \"X_51\", \"X_52\", \"X_53\", \"X_54\", \"X_55\", \"X_56\"],\n",
    "}"
   ]
  },
  {
   "cell_type": "code",
   "execution_count": 9,
   "id": "731a4180",
   "metadata": {
    "ExecuteTime": {
     "end_time": "2022-08-16T14:07:57.175957Z",
     "start_time": "2022-08-16T14:07:57.170678Z"
    }
   },
   "outputs": [],
   "source": [
    "# train_x.describe(include='all')\n",
    "\n",
    "# train_y.describe(include='all')"
   ]
  },
  {
   "cell_type": "code",
   "execution_count": 7,
   "id": "0PtYKm73h-16",
   "metadata": {
    "ExecuteTime": {
     "end_time": "2022-08-24T02:37:23.044456Z",
     "start_time": "2022-08-24T02:37:23.035800Z"
    },
    "colab": {
     "base_uri": "https://localhost:8080/",
     "height": 71
    },
    "id": "0PtYKm73h-16",
    "outputId": "0e2eb7e0-b177-4712-b232-a549947974b1"
   },
   "outputs": [
    {
     "data": {
      "text/plain": [
       "(39607, 71)"
      ]
     },
     "metadata": {},
     "output_type": "display_data"
    },
    {
     "data": {
      "text/plain": [
       "(39607, 56)"
      ]
     },
     "metadata": {},
     "output_type": "display_data"
    },
    {
     "data": {
      "text/plain": [
       "(39607, 14)"
      ]
     },
     "metadata": {},
     "output_type": "display_data"
    }
   ],
   "source": [
    "display(train_df.shape, train_x.shape, train_y.shape)"
   ]
  },
  {
   "cell_type": "markdown",
   "id": "e74d03e0",
   "metadata": {},
   "source": [
    "## info"
   ]
  },
  {
   "cell_type": "code",
   "execution_count": 10,
   "id": "FJ4snONOpqxQ",
   "metadata": {
    "ExecuteTime": {
     "end_time": "2022-08-17T05:15:58.654258Z",
     "start_time": "2022-08-17T05:15:58.614547Z"
    },
    "id": "FJ4snONOpqxQ"
   },
   "outputs": [],
   "source": [
    "def infox(df):\n",
    "    from IPython.core.display import display, HTML\n",
    "    display(HTML(\"<style>.container { width:100% !important; }</style>\"))\n",
    "    print( f\"◆◆◆ {df.shape}: Total shape ◆◆◆\" )\n",
    "    df_num = df.select_dtypes( include='number', exclude=['cfloat','complex64',\"complex128\"] )\n",
    "    if df_num.shape[1] > 0:\n",
    "        print( f\"---{df_num.shape}: Numeric Data: only Real Number ↓↓↓ \" + \"-\"*27 )\n",
    "        df_info = pd.DataFrame(  [[ i for i in range(df_num.shape[1]) ]], columns=df_num.columns, index=[\"NO\"]  )\n",
    "        df_info.loc[\"Column\"] = df_num.columns\n",
    "        df_info.loc[\"null\"] = len(df_num) - df_num.count()\n",
    "        df_info.loc[\"null(%)\"] = round( 100 * (len(df_num)-df_num.count()) / len(df_num), 1)\n",
    "        df_info.loc[\"dtype\"] = df_num.dtypes\n",
    "        df_info.loc[\"n_uniq\"] = df_num.nunique()\n",
    "        df_info.loc[\"|\"] = \"|\"\n",
    "        df_info.loc[\"Mean\"] = df_num.mean()\n",
    "        df_info.loc[\"Std\"] = df_num.std(ddof=0)\n",
    "        df_info.loc[\"|max-min|\"] = df_num.max() - df_num.min()\n",
    "        df_info.loc[\"│\"] = \"│\"\n",
    "        df_info.loc[\"min\"] = df_num.min()\n",
    "        df_info.loc[\"Q1\"] = df_num.quantile(0.25)\n",
    "        df_info.loc[\"median\"] = df_num.median()   \n",
    "        df_info.loc[\"Q3\"] = df_num.quantile(0.75)\n",
    "        df_info.loc[\"max\"] = df_num.max() \n",
    "        df_info = df_info.T\n",
    "        df_info[\"NO\"] = df_info[\"NO\"].astype(int)\n",
    "        df_info[\"null\"] = df_info[\"null\"].astype(int) \n",
    "        for i in range(len(df_info)):\n",
    "            for j in [5,7,8,9]+list(range(11,df_info.shape[1])):\n",
    "                if df_info.iloc[i,j]==int(df_info.iloc[i,j]):\n",
    "                    df_info.iloc[i,j]=str(f'{df_info.iloc[i,j]:,}').split(\".\")[0] \n",
    "                elif abs( df_info.iloc[i,j] ) >= 1000:\n",
    "                    df_info.iloc[i,j]=str(f'{df_info.iloc[i,j]:,}').split(\".\")[0] \n",
    "                elif abs( df_info.iloc[i,j] ) >= 100:\n",
    "                    df_info.iloc[i,j]=str(f'{df_info.iloc[i,j]:,.1f}').rstrip(\"0\") \n",
    "                elif abs( df_info.iloc[i,j] ) >= 10:\n",
    "                    df_info.iloc[i,j]=str(f'{df_info.iloc[i,j]:,.2f}').rstrip(\"0\") \n",
    "                elif abs( df_info.iloc[i,j] ) >= 1:\n",
    "                    df_info.iloc[i,j]=str(f'{df_info.iloc[i,j]:,.3f}').rstrip(\"0\")\n",
    "                else:\n",
    "                    df_info.iloc[i,j]=str(f'{df_info.iloc[i,j]:,.4f}').rstrip(\"0\")\n",
    "        df_info = df_info.astype(str)\n",
    "        df_col = pd.DataFrame( [df_info.columns], columns=df_info.columns )\n",
    "        df_info = pd.concat( [df_col,df_info] )\n",
    "        df_len = df_info.copy()\n",
    "        for i in range(len(df_len)):\n",
    "            for j in range(df_len.shape[1]):\n",
    "                df_len.iloc[i,j]=len(df_len.iloc[i,j])\n",
    "        for i in range(len(df_info)):\n",
    "            for j in range(df_info.shape[1]):\n",
    "                print(df_info.iloc[i,j].rjust(  df_len.max()[j]  ), end=\"  \")\n",
    "            print()\n",
    "    df_time = df.select_dtypes(include='datetime')\n",
    "    if df_time.shape[1] > 0:\n",
    "        print( f\"---{df_time.shape}: DateTime Data ↓↓↓ \" + \"-\"*44 )\n",
    "        df_info = pd.DataFrame(  [[ i for i in range(df_time.shape[1]) ]], columns=df_time.columns, index=[\"NO\"]  )\n",
    "        df_info.loc[\"Column\"] = df_time.columns  \n",
    "        df_info.loc[\"null\"] = len(df_time) - df_time.count()\n",
    "        df_info.loc[\"null(%)\"] = round( 100 * (len(df_time)-df_time.count()) / len(df_time), 1)\n",
    "        df_info.loc[\"dtype\"] = df_time.dtypes\n",
    "        df_info.loc[\"n_uniq\"] = df_time.nunique()\n",
    "        df_info.loc[\"|\"] = \"|\"\n",
    "        df_info.loc[\"min\"] = df_time.min()\n",
    "        df_info.loc[\"max\"] = df_time.max() \n",
    "        df_info = df_info.T\n",
    "        df_info[\"NO\"] = df_info[\"NO\"].astype(int) \n",
    "        df_info[\"null\"] = df_info[\"null\"].astype(int)\n",
    "        for i in range(len(df_info)):\n",
    "            df_info.iloc[i,5]=str(f'{df_info.iloc[i,5]:,}').split(\".\")[0]\n",
    "        df_info = df_info.astype(str)\n",
    "        df_col = pd.DataFrame( [df_info.columns], columns=df_info.columns )\n",
    "        df_info = pd.concat( [df_col,df_info] )\n",
    "        df_len = df_info.copy()\n",
    "        for i in range(len(df_len)):\n",
    "            for j in range(df_len.shape[1]):\n",
    "                df_len.iloc[i,j]=len(df_len.iloc[i,j])\n",
    "        for i in range(len(df_info)):\n",
    "            for j in range(df_info.shape[1]):\n",
    "                print(df_info.iloc[i,j].rjust(  df_len.max()[j]  ), end=\"  \") \n",
    "            print()\n",
    "    df_obj_1 = df.select_dtypes( exclude=['number','datetime'] )\n",
    "    df_obj_2 = df.select_dtypes( include=['cfloat','complex64',\"complex128\"] )\n",
    "    df_obj = pd.concat( [df_obj_1,df_obj_2], axis=1 )\n",
    "    if df_obj.shape[1] > 0:\n",
    "        print( f\"---{df_obj.shape}: etc Data: Object, Complex Numbers, ... ↓↓↓ \" + \"-\"*19 )\n",
    "        df_info = pd.DataFrame(  [[ i for i in range(df_obj.shape[1]) ]], columns=df_obj.columns, index=[\"NO\"]  )\n",
    "        df_info.loc[\"Column\"] = df_obj.columns \n",
    "        df_info.loc[\"null\"] = len(df_obj) - df_obj.count()\n",
    "        df_info.loc[\"null(%)\"] = round( 100 * (len(df_obj)-df_obj.count()) / len(df_obj), 1)\n",
    "        df_info.loc[\"dtype\"] = df_obj.dtypes\n",
    "        df_info.loc[\"n_uniq\"] = df_obj.nunique()\n",
    "        df_info.loc[\"|\"] = \"|\"\n",
    "        freq_list = []\n",
    "        for i in range(df_obj.shape[1]):\n",
    "            freq_list.append(  list(df_obj.iloc[:,i].value_counts())[0]  )\n",
    "        df_info.loc[\"No1_freq_count\"] = freq_list\n",
    "        df_info.loc[\"rate(%)\"] = [ f\"{100*x/len(df_obj):.1f}\" for x in freq_list ]\n",
    "        df_info.loc[\"value\"] = list(  df_obj.mode().iloc[0]  )\n",
    "        df_info = df_info.T\n",
    "        df_info[\"NO\"] = df_info[\"NO\"].astype(int) \n",
    "        df_info[\"null\"] = df_info[\"null\"].astype(int)\n",
    "        for i in range(len(df_info)):\n",
    "            for j in [5,7]:\n",
    "                df_info.iloc[i,j]=str(f'{df_info.iloc[i,j]:,}').split(\".\")[0]\n",
    "        df_info = df_info.astype(str)\n",
    "        df_col = pd.DataFrame( [df_info.columns], columns=df_info.columns )\n",
    "        df_info = pd.concat( [df_col,df_info] )\n",
    "        df_len = df_info.copy()\n",
    "        for i in range(len(df_len)):\n",
    "            for j in range(df_len.shape[1]):\n",
    "                df_len.iloc[i,j]=len(df_len.iloc[i,j])\n",
    "        for i in range(len(df_info)):\n",
    "            for j in range(df_info.shape[1]):\n",
    "                if j !=9:\n",
    "                    print(df_info.iloc[i,j].rjust(  df_len.max()[j]  ), end=\"  \")\n",
    "                else:\n",
    "                    print(df_info.iloc[i,j].ljust(  df_len.max()[j]  ), end=\"  \")\n",
    "            print()\n",
    "        print(\"-\"*78)"
   ]
  },
  {
   "cell_type": "code",
   "execution_count": 13,
   "id": "917ba815",
   "metadata": {
    "ExecuteTime": {
     "end_time": "2022-08-16T14:08:00.906612Z",
     "start_time": "2022-08-16T14:08:00.126982Z"
    },
    "scrolled": false
   },
   "outputs": [
    {
     "name": "stderr",
     "output_type": "stream",
     "text": [
      "/var/folders/08/yfq1rzmx605_pllcn65f77540000gn/T/ipykernel_1123/2059725199.py:2: DeprecationWarning: Importing display from IPython.core.display is deprecated since IPython 7.14, please import from IPython display\n",
      "  from IPython.core.display import display, HTML\n"
     ]
    },
    {
     "data": {
      "text/html": [
       "<style>.container { width:100% !important; }</style>"
      ],
      "text/plain": [
       "<IPython.core.display.HTML object>"
      ]
     },
     "metadata": {},
     "output_type": "display_data"
    },
    {
     "name": "stdout",
     "output_type": "stream",
     "text": [
      "◆◆◆ (39607, 71): Total shape ◆◆◆\n",
      "---(39607, 70): Numeric Data: only Real Number ↓↓↓ ---------------------------\n",
      "NO  Column  null  null(%)    dtype  n_uniq  |    Mean     Std  |max-min|  │     min      Q1  median      Q3      max  \n",
      " 0    X_01     0      0.0  float64      28  |   68.41   2.656      28.55  │   56.27   66.47    68.5   69.52    84.82  \n",
      " 1    X_02     0      0.0  float64       2  |   103.3  0.0004      0.001  │   103.3   103.3   103.3   103.3    103.3  \n",
      " 2    X_03     0      0.0  float64     280  |   68.83   5.151       32.7  │   56.47   65.07   67.27   71.77    89.17  \n",
      " 3    X_04     0      0.0    int64       1  |       1       0          0  │       1       1       1       1        1  \n",
      " 4    X_05     0      0.0  float64     442  |   102.3  0.5483      1.386  │   101.8   101.9    102.   103.1    103.2  \n",
      " 5    X_06     0      0.0  float64      25  |    70.6    2.26      25.49  │   61.73   68.86   69.88   71.92    87.22  \n",
      " 6    X_07     0      0.0  float64   1,419  |   29.41   7.338      149.7  │   14.14   27.89   28.84   29.87    163.9  \n",
      " 7    X_08     0      0.0  float64  13,659  |   164.4   220.4      2,348  │   38.46    106.    115.   132.6    2,387  \n",
      " 8    X_09     0      0.0  float64  11,137  |   225.4   66.73      599.9  │   37.58   188.5   234.4    264.    637.5  \n",
      " 9    X_10     0      0.0  float64       7  |  0.0024  0.0863        3.6  │       0       0       0       0      3.6  \n",
      "10    X_11     0      0.0  float64       5  |  0.0004  0.0141        0.7  │       0       0       0       0      0.7  \n",
      "11    X_12     0      0.0  float64      22  |   4.373  0.0218       0.22  │    4.27    4.36    4.37    4.39     4.49  \n",
      "12    X_13     0      0.0  float64      24  |  0.1433  0.0253       0.23  │    0.05    0.13    0.14    0.16     0.28  \n",
      "13    X_14     0      0.0  float64      31  |   13.37  0.0299       0.34  │   13.15   13.35   13.37   13.39    13.49  \n",
      "14    X_15     0      0.0  float64      28  |   13.38  0.0295       0.27  │   13.23   13.36   13.38   13.41     13.5  \n",
      "15    X_16     0      0.0  float64      34  |   13.46  0.0367       0.35  │   13.26   13.44   13.47   13.49    13.61  \n",
      "16    X_17     0      0.0  float64      21  |   13.51  0.0234        0.2  │   13.41    13.5   13.51   13.53    13.61  \n",
      "17    X_18     0      0.0  float64      31  |   13.45  0.0291       0.31  │   13.26   13.43   13.45   13.47    13.57  \n",
      "18    X_19     0      0.0  float64      82  |    3.24  0.1105       0.89  │    2.86    3.16    3.22    3.31     3.75  \n",
      "19    X_20     0      0.0  float64      77  |   3.184  0.1053       0.84  │    2.83     3.1    3.18    3.27     3.67  \n",
      "20    X_21     0      0.0  float64      77  |   3.174  0.1069       0.85  │    2.83    3.09    3.16    3.25     3.68  \n",
      "21    X_22     0      0.0  float64      83  |   3.233   0.109       0.94  │    2.85    3.14    3.23    3.32     3.79  \n",
      "22    X_23     0      0.0    int64       1  |       1       0          0  │       1       1       1       1        1  \n",
      "23    X_24     0      0.0  float64      36  |   2.116  0.0324       0.52  │    1.83    2.09    2.12    2.14     2.35  \n",
      "24    X_25     0      0.0  float64      38  |   2.094  0.0331       0.39  │    1.96    2.07    2.09    2.12     2.35  \n",
      "25    X_26     0      0.0  float64      38  |    2.09  0.0385       0.37  │    1.98    2.06    2.09    2.12     2.35  \n",
      "26    X_27     0      0.0  float64      37  |   2.098  0.0381       0.36  │    1.99    2.07    2.09    2.12     2.35  \n",
      "27    X_28     0      0.0  float64      39  |   2.119  0.0428       0.42  │    1.93    2.09    2.12    2.14     2.35  \n",
      "28    X_29     0      0.0  float64      31  |   2.174  0.0467       0.34  │    2.02    2.14    2.17     2.2     2.36  \n",
      "29    X_30     0      0.0  float64      37  |   1.379  0.0304       1.54  │    0.57    1.37    1.37    1.38     2.11  \n",
      "30    X_31     0      0.0  float64      77  |   1.571  0.0745       6.61  │     0.6    1.53    1.55     1.6     7.21  \n",
      "31    X_32     0      0.0  float64      38  |   1.363  0.0299       1.88  │    0.57    1.35    1.36    1.37     2.45  \n",
      "32    X_33     0      0.0  float64      94  |   1.596   0.108        7.2  │    0.61    1.55    1.57    1.61     7.81  \n",
      "33    X_34     0      0.0  float64      25  |   12.95   0.044       0.24  │   12.84   12.92   12.96   12.99    13.08  \n",
      "34    X_35     0      0.0  float64      28  |   12.92  0.0522       0.28  │   12.81   12.87   12.92   12.97    13.09  \n",
      "35    X_36     0      0.0  float64      26  |   12.94  0.0478       0.25  │   12.84    12.9   12.95   12.98    13.09  \n",
      "36    X_37     0      0.0  float64      28  |   12.92  0.0523       0.27  │   12.81   12.87   12.91   12.97    13.08  \n",
      "37    X_38     0      0.0  float64     253  |   -15.9  0.5954      49.32  │  -17.09  -16.16  -15.99  -15.75    32.23  \n",
      "38    X_39     0      0.0  float64     252  |  -15.89  0.7467      14.44  │  -17.09  -16.16  -15.99  -15.75    -2.65  \n",
      "39    X_40     0      0.0  float64     253  |  -16.57  0.3445       2.92  │  -17.72  -16.81  -16.64   -16.4    -14.8  \n",
      "40    X_41     0      0.0  float64      39  |   21.19  0.0311       0.89  │   20.73   21.17   21.19   21.21    21.62  \n",
      "41    X_42     0      0.0  float64      42  |   21.06  0.0403       0.65  │   20.79   21.03   21.06   21.09    21.44  \n",
      "42    X_43     0      0.0  float64      50  |    21.2  0.0472       0.61  │    20.8   21.17    21.2   21.24    21.41  \n",
      "43    X_44     0      0.0  float64      36  |   21.16  0.0422       0.39  │   20.93   21.13   21.16   21.19    21.32  \n",
      "44    X_45     0      0.0  float64      39  |  0.1546   0.047       0.42  │       0    0.12    0.15    0.19     0.42  \n",
      "45    X_46     0      0.0    int64      13  |   1,468   2.121         12  │   1,457   1,469   1,469   1,469    1,469  \n",
      "46    X_47     0      0.0    int64       1  |       1       0          0  │       1       1       1       1        1  \n",
      "47    X_48     0      0.0    int64       1  |       1       0          0  │       1       1       1       1        1  \n",
      "48    X_49     0      0.0  float64  34,091  |  16,676   8,584    111,221  │   3,341  13,093  15,273  17,560  114,563  \n",
      "49    X_50     0      0.0  float64  39,135  |   130.8    5.99      140.8  │    21.8   126.9   130.7   134.5    162.6  \n",
      "50    X_51     0      0.0  float64  39,110  |   131.5   5.934      172.6  │   21.91   127.7   131.4   135.2    194.5  \n",
      "51    X_52     0      0.0  float64  39,116  |   138.6    6.47      150.3  │    23.1   134.5   138.5   142.7    173.4  \n",
      "52    X_53     0      0.0  float64  39,098  |    128.   5.713      131.1  │   21.33   124.4    128.   131.6    152.4  \n",
      "53    X_54     0      0.0  float64  39,013  |    128.   5.434      153.7  │   21.34   124.7   128.1   131.5    175.1  \n",
      "54    X_55     0      0.0  float64  39,172  |   137.9   6.552      147.2  │   22.98   133.7   137.9   142.1    170.2  \n",
      "55    X_56     0      0.0  float64  39,065  |   128.4   5.444      133.9  │   21.41   125.1   128.4   131.8    155.3  \n",
      "56    Y_01     0      0.0  float64   2,249  |   1.354  0.3562      4.392  │   0.017   1.127   1.349   1.576    4.409  \n",
      "57    Y_02     0      0.0  float64   2,227  |   1.057  0.3863      3.991  │   0.007   0.793   1.044     1.3    3.998  \n",
      "58    Y_03     0      0.0  float64   2,127  |   1.014  0.3615      3.739  │   0.017   0.769   0.998   1.239    3.756  \n",
      "59    Y_04     0      0.0  float64  10,773  |   13.62   2.687      99.12  │  -0.331   11.82   13.84   15.63    98.79  \n",
      "60    Y_05     0      0.0  float64  10,241  |   31.29   2.543      18.66  │   18.59   29.77   31.71   33.18    37.25  \n",
      "61    Y_06     0      0.0  float64   4,269  |   16.53   1.893      38.96  │  -19.96   16.15   16.69   17.16      19.  \n",
      "62    Y_07     0      0.0  float64   2,394  |   3.155  0.4189      4.797  │   0.502   2.863   3.126   3.433    5.299  \n",
      "63    Y_08     0      0.0  float64   3,672  |  -26.29  0.6605      5.867  │  -29.65  -26.69  -26.25  -25.86   -23.79  \n",
      "64    Y_09     0      0.0  float64   3,649  |  -26.31  0.6536      5.563  │  -29.52   -26.7  -26.27  -25.87   -23.96  \n",
      "65    Y_10     0      0.0  float64   4,458  |   -22.4  0.9209      11.07  │  -31.12  -22.87  -22.27  -21.79   -20.05  \n",
      "66    Y_11     0      0.0  float64   4,309  |   24.33  0.8302      6.859  │   19.84   23.84   24.42   24.91     26.7  \n",
      "67    Y_12     0      0.0  float64   3,673  |  -26.24  0.6563      5.822  │  -29.54  -26.63   -26.2   -25.8   -23.72  \n",
      "68    Y_13     0      0.0  float64   3,665  |  -26.23  0.6551      5.549  │  -29.45  -26.62  -26.19  -25.79    -23.9  \n",
      "69    Y_14     0      0.0  float64   3,682  |  -26.25   0.656      5.764  │  -29.62  -26.64   -26.2  -25.81   -23.86  \n",
      "---(39607, 1): etc Data: Object, Complex Numbers, ... ↓↓↓ -------------------\n",
      "NO  Column  null  null(%)   dtype  n_uniq  |  No1_freq_count  rate(%)  value        \n",
      " 0      ID     0      0.0  object  39,607  |               1      0.0  TRAIN_00001  \n",
      "------------------------------------------------------------------------------\n"
     ]
    }
   ],
   "source": [
    "infox(train_df)"
   ]
  },
  {
   "cell_type": "markdown",
   "id": "cff466f7",
   "metadata": {
    "ExecuteTime": {
     "end_time": "2022-08-17T08:36:24.162995Z",
     "start_time": "2022-08-17T08:36:24.158485Z"
    }
   },
   "source": [
    "결측치는 없음!!"
   ]
  },
  {
   "cell_type": "markdown",
   "id": "bcf33ecc",
   "metadata": {},
   "source": [
    "## 검사통과여부 (1~4차) drop\n",
    "**train_df2** value = 1로 동일"
   ]
  },
  {
   "cell_type": "code",
   "execution_count": 10,
   "id": "b371c547",
   "metadata": {
    "ExecuteTime": {
     "end_time": "2022-08-24T11:38:27.982149Z",
     "start_time": "2022-08-24T11:38:27.977854Z"
    }
   },
   "outputs": [],
   "source": [
    "train_df2 = train_df.copy()"
   ]
  },
  {
   "cell_type": "code",
   "execution_count": 201,
   "id": "75c40f7f",
   "metadata": {
    "ExecuteTime": {
     "end_time": "2022-08-24T11:26:04.776094Z",
     "start_time": "2022-08-24T11:26:04.772503Z"
    }
   },
   "outputs": [
    {
     "data": {
      "text/plain": [
       "24093    32.23\n",
       "Name: X_38, dtype: float64"
      ]
     },
     "execution_count": 201,
     "metadata": {},
     "output_type": "execute_result"
    }
   ],
   "source": [
    "train_df2.loc[train_df2.X_38 > 30,'X_38']"
   ]
  },
  {
   "cell_type": "code",
   "execution_count": 9,
   "id": "785646b8",
   "metadata": {
    "ExecuteTime": {
     "end_time": "2022-08-24T02:37:33.665186Z",
     "start_time": "2022-08-24T02:37:33.653777Z"
    }
   },
   "outputs": [
    {
     "name": "stdout",
     "output_type": "stream",
     "text": [
      "X_04:  1    39607\n",
      "Name: X_04, dtype: int64\n",
      "\n",
      "X_23:  1    39607\n",
      "Name: X_23, dtype: int64\n",
      "\n",
      "X_47:  1    39607\n",
      "Name: X_47, dtype: int64\n",
      "\n",
      "X_48:  1    39607\n",
      "Name: X_48, dtype: int64\n"
     ]
    }
   ],
   "source": [
    "print(f'X_04: ',train_df2.X_04.value_counts())\n",
    "print()\n",
    "print(f'X_23: ',train_df2.X_23.value_counts())\n",
    "print()\n",
    "print(f'X_47: ',train_df2.X_47.value_counts())\n",
    "print()\n",
    "print(f'X_48: ',train_df2.X_48.value_counts())"
   ]
  },
  {
   "cell_type": "code",
   "execution_count": 10,
   "id": "937df10a",
   "metadata": {
    "ExecuteTime": {
     "end_time": "2022-08-24T02:37:34.154141Z",
     "start_time": "2022-08-24T02:37:34.149573Z"
    }
   },
   "outputs": [
    {
     "data": {
      "text/plain": [
       "(39607, 71)"
      ]
     },
     "execution_count": 10,
     "metadata": {},
     "output_type": "execute_result"
    }
   ],
   "source": [
    "train_df2.shape"
   ]
  },
  {
   "cell_type": "code",
   "execution_count": 32,
   "id": "8557e33a",
   "metadata": {
    "ExecuteTime": {
     "end_time": "2022-08-17T05:24:10.277724Z",
     "start_time": "2022-08-17T05:24:10.264989Z"
    }
   },
   "outputs": [],
   "source": [
    "train_df2.drop(columns=[\"X_04\", \"X_23\", \"X_47\", \"X_48\"], inplace=True)"
   ]
  },
  {
   "cell_type": "code",
   "execution_count": 33,
   "id": "219479b8",
   "metadata": {
    "ExecuteTime": {
     "end_time": "2022-08-17T05:24:11.669299Z",
     "start_time": "2022-08-17T05:24:11.664311Z"
    }
   },
   "outputs": [
    {
     "data": {
      "text/plain": [
       "(39606, 67)"
      ]
     },
     "execution_count": 33,
     "metadata": {},
     "output_type": "execute_result"
    }
   ],
   "source": [
    "train_df2.shape"
   ]
  },
  {
   "cell_type": "code",
   "execution_count": 34,
   "id": "da24589f",
   "metadata": {
    "ExecuteTime": {
     "end_time": "2022-08-17T06:46:10.157085Z",
     "start_time": "2022-08-17T06:46:10.152749Z"
    }
   },
   "outputs": [
    {
     "data": {
      "text/plain": [
       "Index(['ID', 'X_01', 'X_02', 'X_03', 'X_05', 'X_06', 'X_07', 'X_08', 'X_09',\n",
       "       'X_10', 'X_11', 'X_12', 'X_13', 'X_14', 'X_15', 'X_16', 'X_17', 'X_18',\n",
       "       'X_19', 'X_20', 'X_21', 'X_22', 'X_24', 'X_25', 'X_26', 'X_27', 'X_28',\n",
       "       'X_29', 'X_30', 'X_31', 'X_32', 'X_33', 'X_34', 'X_35', 'X_36', 'X_37',\n",
       "       'X_38', 'X_39', 'X_40', 'X_41', 'X_42', 'X_43', 'X_44', 'X_45', 'X_46',\n",
       "       'X_49', 'X_50', 'X_51', 'X_52', 'X_53', 'X_54', 'X_55', 'X_56', 'Y_01',\n",
       "       'Y_02', 'Y_03', 'Y_04', 'Y_05', 'Y_06', 'Y_07', 'Y_08', 'Y_09', 'Y_10',\n",
       "       'Y_11', 'Y_12', 'Y_13', 'Y_14'],\n",
       "      dtype='object')"
      ]
     },
     "execution_count": 34,
     "metadata": {},
     "output_type": "execute_result"
    }
   ],
   "source": [
    "train_df2.columns"
   ]
  },
  {
   "cell_type": "code",
   "execution_count": 44,
   "id": "3c87125b",
   "metadata": {
    "ExecuteTime": {
     "end_time": "2022-08-17T06:50:08.208068Z",
     "start_time": "2022-08-17T06:50:06.264658Z"
    }
   },
   "outputs": [
    {
     "name": "stderr",
     "output_type": "stream",
     "text": [
      "/var/folders/lm/z4n_2b8s6rj3_vv57sg789kc0000gn/T/ipykernel_16522/4016001713.py:13: UserWarning: To output multiple subplots, the figure containing the passed axes is being cleared.\n",
      "  train_df2[train_df_col].hist(ax = ax)\n"
     ]
    },
    {
     "data": {
      "image/png": "[encoded data removed]",
      "text/plain": [
       "<Figure size 1152x1080 with 72 Axes>"
      ]
     },
     "metadata": {
      "needs_background": "light"
     },
     "output_type": "display_data"
    }
   ],
   "source": [
    "train_df_col = ['ID', 'X_01', 'X_02', 'X_03', 'X_05', 'X_06', 'X_07', 'X_08', 'X_09',\n",
    "       'X_10', 'X_11', 'X_12', 'X_13', 'X_14', 'X_15', 'X_16', 'X_17', 'X_18',\n",
    "       'X_19', 'X_20', 'X_21', 'X_22', 'X_24', 'X_25', 'X_26', 'X_27', 'X_28',\n",
    "       'X_29', 'X_30', 'X_31', 'X_32', 'X_33', 'X_34', 'X_35', 'X_36', 'X_37',\n",
    "       'X_38', 'X_39', 'X_40', 'X_41', 'X_42', 'X_43', 'X_44', 'X_45', 'X_46',\n",
    "       'X_49', 'X_50', 'X_51', 'X_52', 'X_53', 'X_54', 'X_55', 'X_56', 'Y_01',\n",
    "       'Y_02', 'Y_03', 'Y_04', 'Y_05', 'Y_06', 'Y_07', 'Y_08', 'Y_09', 'Y_10',\n",
    "       'Y_11', 'Y_12', 'Y_13', 'Y_14']\n",
    "\n",
    "fig = plt.figure(figsize=(16,15))\n",
    "ax = fig.gca()\n",
    "\n",
    "train_df2[train_df_col].hist(ax = ax)\n",
    "plt.show()"
   ]
  },
  {
   "cell_type": "code",
   "execution_count": 67,
   "id": "9faa290d",
   "metadata": {
    "ExecuteTime": {
     "end_time": "2022-08-17T07:17:09.617467Z",
     "start_time": "2022-08-17T07:17:09.611734Z"
    }
   },
   "outputs": [
    {
     "data": {
      "text/plain": [
       "Index(['ID', 'X_01', 'X_02', 'X_03', 'X_05', 'X_06', 'X_07', 'X_08', 'X_09',\n",
       "       'X_10', 'X_11', 'X_12', 'X_13', 'X_14', 'X_15', 'X_16', 'X_17', 'X_18',\n",
       "       'X_19', 'X_20', 'X_21', 'X_22', 'X_24', 'X_25', 'X_26', 'X_27', 'X_28',\n",
       "       'X_29', 'X_30', 'X_31', 'X_32', 'X_33', 'X_34', 'X_35', 'X_36', 'X_37',\n",
       "       'X_38', 'X_39', 'X_40', 'X_41', 'X_42', 'X_43', 'X_44', 'X_45', 'X_46',\n",
       "       'X_49', 'X_50', 'X_51', 'X_52', 'X_53', 'X_54', 'X_55', 'X_56', 'Y_01',\n",
       "       'Y_02', 'Y_03', 'Y_04', 'Y_05', 'Y_06', 'Y_07', 'Y_08', 'Y_09', 'Y_10',\n",
       "       'Y_11', 'Y_12', 'Y_13', 'Y_14'],\n",
       "      dtype='object')"
      ]
     },
     "execution_count": 67,
     "metadata": {},
     "output_type": "execute_result"
    }
   ],
   "source": [
    "train_df2.columns"
   ]
  },
  {
   "cell_type": "markdown",
   "id": "c0978944",
   "metadata": {},
   "source": [
    "## heatmap"
   ]
  },
  {
   "cell_type": "code",
   "execution_count": 68,
   "id": "bd17fcb6",
   "metadata": {
    "ExecuteTime": {
     "end_time": "2022-08-17T07:18:15.921255Z",
     "start_time": "2022-08-17T07:18:15.911938Z"
    }
   },
   "outputs": [],
   "source": [
    "train_df2 = train_df2.drop(columns=['ID'],axis=1)"
   ]
  },
  {
   "cell_type": "code",
   "execution_count": 70,
   "id": "fa89ec62",
   "metadata": {
    "ExecuteTime": {
     "end_time": "2022-08-17T07:18:39.413030Z",
     "start_time": "2022-08-17T07:18:39.407812Z"
    }
   },
   "outputs": [
    {
     "data": {
      "text/plain": [
       "(39607, 71)"
      ]
     },
     "execution_count": 70,
     "metadata": {},
     "output_type": "execute_result"
    }
   ],
   "source": [
    "train_df2.shape"
   ]
  },
  {
   "cell_type": "code",
   "execution_count": 71,
   "id": "1f390f09",
   "metadata": {
    "ExecuteTime": {
     "end_time": "2022-08-17T07:19:17.855875Z",
     "start_time": "2022-08-17T07:19:17.532915Z"
    }
   },
   "outputs": [
    {
     "data": {
      "text/plain": [
       "X_27   -0.144843\n",
       "X_12   -0.134767\n",
       "X_28   -0.127215\n",
       "X_29   -0.125370\n",
       "X_45   -0.122236\n",
       "          ...   \n",
       "X_19    0.297321\n",
       "X_22    0.323213\n",
       "X_05    0.553986\n",
       "X_06    0.626520\n",
       "X_01    1.000000\n",
       "Name: X_01, Length: 66, dtype: float64"
      ]
     },
     "execution_count": 71,
     "metadata": {},
     "output_type": "execute_result"
    }
   ],
   "source": [
    "train_corr = train_df2.corr()\n",
    "train_corr_2 = train_corr.apply(lambda x:round(x,1)) # 반올림\n",
    "\n",
    "train_corr.iloc[0,:].sort_values() # 내림차순"
   ]
  },
  {
   "cell_type": "code",
   "execution_count": 93,
   "id": "bdc47968",
   "metadata": {
    "ExecuteTime": {
     "end_time": "2022-08-17T08:31:27.282890Z",
     "start_time": "2022-08-17T08:31:23.425333Z"
    }
   },
   "outputs": [
    {
     "data": {
      "text/plain": [
       "<AxesSubplot:>"
      ]
     },
     "execution_count": 93,
     "metadata": {},
     "output_type": "execute_result"
    },
    {
     "data": {
      "image/png": "[encoded data removed]",
      "text/plain": [
       "<Figure size 1584x1008 with 2 Axes>"
      ]
     },
     "metadata": {
      "needs_background": "light"
     },
     "output_type": "display_data"
    }
   ],
   "source": [
    "plt.figure(figsize=(22,14))\n",
    "sns.heatmap(train_corr_2, cmap='RdBu_r', vmax=1, vmin=-1, annot=True, fmt='.1f')"
   ]
  },
  {
   "cell_type": "markdown",
   "id": "449e3d08",
   "metadata": {},
   "source": [
    "# 데이터 load 후 여기부터!! "
   ]
  },
  {
   "cell_type": "code",
   "execution_count": 12,
   "id": "6ee26cee",
   "metadata": {
    "ExecuteTime": {
     "end_time": "2022-08-24T11:38:39.251472Z",
     "start_time": "2022-08-24T11:38:39.247329Z"
    }
   },
   "outputs": [],
   "source": [
    "train_df2.drop(columns=['X_02', 'X_04', 'X_23', 'X_46', 'X_47', 'X_48'], inplace=True)"
   ]
  },
  {
   "cell_type": "code",
   "execution_count": 11,
   "id": "8bda1ac1",
   "metadata": {
    "ExecuteTime": {
     "end_time": "2022-08-24T11:38:37.725086Z",
     "start_time": "2022-08-24T11:38:37.719582Z"
    }
   },
   "outputs": [],
   "source": [
    "train_df2.drop(columns=['Y_01', 'Y_02', 'Y_03', 'Y_04', 'Y_05', 'Y_06',\n",
    "       'Y_07', 'Y_08', 'Y_09', 'Y_10', 'Y_11', 'Y_12', 'Y_13', 'Y_14'],inplace=True)"
   ]
  },
  {
   "cell_type": "markdown",
   "id": "ebf22bfb",
   "metadata": {
    "id": "q5bkLi2ZiVXo"
   },
   "source": [
    "## 방열 재료 2 ,3 무게  train_df = ['X_10', 'X_11']\n",
    "\n",
    "drop!! -> 무게가 0일때 비율: 99&임 => 이는 outliear뜻함"
   ]
  },
  {
   "cell_type": "code",
   "execution_count": 13,
   "id": "e273fabd",
   "metadata": {
    "ExecuteTime": {
     "end_time": "2022-08-24T11:38:46.147901Z",
     "start_time": "2022-08-24T11:38:46.088647Z"
    }
   },
   "outputs": [
    {
     "data": {
      "image/png": "[encoded data removed]",
      "text/plain": [
       "<Figure size 720x576 with 1 Axes>"
      ]
     },
     "metadata": {
      "needs_background": "light"
     },
     "output_type": "display_data"
    }
   ],
   "source": [
    "plt.figure(figsize=(10,8))\n",
    "plt.boxplot([train_df2.X_10, train_df2.X_11])\n",
    "plt.show()"
   ]
  },
  {
   "cell_type": "code",
   "execution_count": 37,
   "id": "e0d662de",
   "metadata": {
    "ExecuteTime": {
     "end_time": "2022-08-24T07:49:57.029353Z",
     "start_time": "2022-08-24T07:49:57.025126Z"
    }
   },
   "outputs": [
    {
     "data": {
      "text/plain": [
       "0.0    0.999192\n",
       "2.9    0.000303\n",
       "3.0    0.000303\n",
       "3.3    0.000101\n",
       "3.1    0.000050\n",
       "3.6    0.000025\n",
       "3.2    0.000025\n",
       "Name: X_10, dtype: float64"
      ]
     },
     "execution_count": 37,
     "metadata": {},
     "output_type": "execute_result"
    }
   ],
   "source": [
    "train_df.X_10.value_counts()/len(train_df)"
   ]
  },
  {
   "cell_type": "code",
   "execution_count": 26,
   "id": "02822a2a",
   "metadata": {
    "ExecuteTime": {
     "end_time": "2022-08-24T07:41:41.097406Z",
     "start_time": "2022-08-24T07:41:41.093264Z"
    }
   },
   "outputs": [
    {
     "data": {
      "text/plain": [
       "0.0    39580\n",
       "0.5       12\n",
       "0.6       11\n",
       "0.4        3\n",
       "0.7        1\n",
       "Name: X_11, dtype: int64"
      ]
     },
     "execution_count": 26,
     "metadata": {},
     "output_type": "execute_result"
    }
   ],
   "source": [
    "train_df.X_11.value_counts()"
   ]
  },
  {
   "cell_type": "code",
   "execution_count": 14,
   "id": "4a159283",
   "metadata": {
    "ExecuteTime": {
     "end_time": "2022-08-24T11:38:53.474930Z",
     "start_time": "2022-08-24T11:38:53.470369Z"
    }
   },
   "outputs": [],
   "source": [
    "train_df2.drop(columns=['X_10', 'X_11'], inplace=True)"
   ]
  },
  {
   "cell_type": "markdown",
   "id": "1fe55b14",
   "metadata": {},
   "source": [
    "## 안테나 패드 위치  train_df = ['X_14', 'X_15','X_16','X_17,'X_18']"
   ]
  },
  {
   "cell_type": "code",
   "execution_count": 29,
   "id": "22834fb9",
   "metadata": {
    "ExecuteTime": {
     "end_time": "2022-08-24T07:44:36.462529Z",
     "start_time": "2022-08-24T07:44:36.402073Z"
    }
   },
   "outputs": [
    {
     "data": {
      "image/png": "[encoded data removed]",
      "text/plain": [
       "<Figure size 720x576 with 1 Axes>"
      ]
     },
     "metadata": {
      "needs_background": "light"
     },
     "output_type": "display_data"
    }
   ],
   "source": [
    "plt.figure(figsize=(10,8))\n",
    "plt.boxplot([train_df.X_14, train_df.X_15, train_df.X_16, train_df.X_17, train_df.X_18])\n",
    "plt.show()"
   ]
  },
  {
   "cell_type": "code",
   "execution_count": 32,
   "id": "50941abf",
   "metadata": {
    "ExecuteTime": {
     "end_time": "2022-08-24T07:46:23.711754Z",
     "start_time": "2022-08-24T07:46:23.702228Z"
    }
   },
   "outputs": [
    {
     "data": {
      "text/html": [
       "<div>\n",
       "<style scoped>\n",
       "    .dataframe tbody tr th:only-of-type {\n",
       "        vertical-align: middle;\n",
       "    }\n",
       "\n",
       "    .dataframe tbody tr th {\n",
       "        vertical-align: top;\n",
       "    }\n",
       "\n",
       "    .dataframe thead th {\n",
       "        text-align: right;\n",
       "    }\n",
       "</style>\n",
       "<table border=\"1\" class=\"dataframe\">\n",
       "  <thead>\n",
       "    <tr style=\"text-align: right;\">\n",
       "      <th></th>\n",
       "      <th>X_14</th>\n",
       "      <th>X_15</th>\n",
       "      <th>X_16</th>\n",
       "      <th>X_17</th>\n",
       "      <th>X_18</th>\n",
       "    </tr>\n",
       "  </thead>\n",
       "  <tbody>\n",
       "    <tr>\n",
       "      <th>X_14</th>\n",
       "      <td>1.000000</td>\n",
       "      <td>0.846266</td>\n",
       "      <td>0.615909</td>\n",
       "      <td>0.506614</td>\n",
       "      <td>0.860102</td>\n",
       "    </tr>\n",
       "    <tr>\n",
       "      <th>X_15</th>\n",
       "      <td>0.846266</td>\n",
       "      <td>1.000000</td>\n",
       "      <td>0.493607</td>\n",
       "      <td>0.602060</td>\n",
       "      <td>0.858704</td>\n",
       "    </tr>\n",
       "    <tr>\n",
       "      <th>X_16</th>\n",
       "      <td>0.615909</td>\n",
       "      <td>0.493607</td>\n",
       "      <td>1.000000</td>\n",
       "      <td>0.736319</td>\n",
       "      <td>0.744759</td>\n",
       "    </tr>\n",
       "    <tr>\n",
       "      <th>X_17</th>\n",
       "      <td>0.506614</td>\n",
       "      <td>0.602060</td>\n",
       "      <td>0.736319</td>\n",
       "      <td>1.000000</td>\n",
       "      <td>0.758397</td>\n",
       "    </tr>\n",
       "    <tr>\n",
       "      <th>X_18</th>\n",
       "      <td>0.860102</td>\n",
       "      <td>0.858704</td>\n",
       "      <td>0.744759</td>\n",
       "      <td>0.758397</td>\n",
       "      <td>1.000000</td>\n",
       "    </tr>\n",
       "  </tbody>\n",
       "</table>\n",
       "</div>"
      ],
      "text/plain": [
       "          X_14      X_15      X_16      X_17      X_18\n",
       "X_14  1.000000  0.846266  0.615909  0.506614  0.860102\n",
       "X_15  0.846266  1.000000  0.493607  0.602060  0.858704\n",
       "X_16  0.615909  0.493607  1.000000  0.736319  0.744759\n",
       "X_17  0.506614  0.602060  0.736319  1.000000  0.758397\n",
       "X_18  0.860102  0.858704  0.744759  0.758397  1.000000"
      ]
     },
     "execution_count": 32,
     "metadata": {},
     "output_type": "execute_result"
    }
   ],
   "source": [
    "antenna = train_df[['X_14', 'X_15', 'X_16', 'X_17', 'X_18']]\n",
    "antenna.corr()"
   ]
  },
  {
   "cell_type": "code",
   "execution_count": 33,
   "id": "7de3ef0e",
   "metadata": {
    "ExecuteTime": {
     "end_time": "2022-08-24T07:46:39.962433Z",
     "start_time": "2022-08-24T07:46:39.945335Z"
    }
   },
   "outputs": [
    {
     "data": {
      "text/html": [
       "<div>\n",
       "<style scoped>\n",
       "    .dataframe tbody tr th:only-of-type {\n",
       "        vertical-align: middle;\n",
       "    }\n",
       "\n",
       "    .dataframe tbody tr th {\n",
       "        vertical-align: top;\n",
       "    }\n",
       "\n",
       "    .dataframe thead th {\n",
       "        text-align: right;\n",
       "    }\n",
       "</style>\n",
       "<table border=\"1\" class=\"dataframe\">\n",
       "  <thead>\n",
       "    <tr style=\"text-align: right;\">\n",
       "      <th></th>\n",
       "      <th>X_14</th>\n",
       "      <th>X_15</th>\n",
       "      <th>X_16</th>\n",
       "      <th>X_17</th>\n",
       "      <th>X_18</th>\n",
       "    </tr>\n",
       "  </thead>\n",
       "  <tbody>\n",
       "    <tr>\n",
       "      <th>count</th>\n",
       "      <td>39607.000000</td>\n",
       "      <td>39607.000000</td>\n",
       "      <td>39607.000000</td>\n",
       "      <td>39607.000000</td>\n",
       "      <td>39607.000000</td>\n",
       "    </tr>\n",
       "    <tr>\n",
       "      <th>mean</th>\n",
       "      <td>13.372201</td>\n",
       "      <td>13.381914</td>\n",
       "      <td>13.463860</td>\n",
       "      <td>13.512589</td>\n",
       "      <td>13.449263</td>\n",
       "    </tr>\n",
       "    <tr>\n",
       "      <th>std</th>\n",
       "      <td>0.029865</td>\n",
       "      <td>0.029468</td>\n",
       "      <td>0.036741</td>\n",
       "      <td>0.023436</td>\n",
       "      <td>0.029093</td>\n",
       "    </tr>\n",
       "    <tr>\n",
       "      <th>min</th>\n",
       "      <td>13.150000</td>\n",
       "      <td>13.230000</td>\n",
       "      <td>13.260000</td>\n",
       "      <td>13.410000</td>\n",
       "      <td>13.260000</td>\n",
       "    </tr>\n",
       "    <tr>\n",
       "      <th>25%</th>\n",
       "      <td>13.350000</td>\n",
       "      <td>13.360000</td>\n",
       "      <td>13.440000</td>\n",
       "      <td>13.500000</td>\n",
       "      <td>13.430000</td>\n",
       "    </tr>\n",
       "    <tr>\n",
       "      <th>50%</th>\n",
       "      <td>13.370000</td>\n",
       "      <td>13.380000</td>\n",
       "      <td>13.470000</td>\n",
       "      <td>13.510000</td>\n",
       "      <td>13.450000</td>\n",
       "    </tr>\n",
       "    <tr>\n",
       "      <th>75%</th>\n",
       "      <td>13.390000</td>\n",
       "      <td>13.410000</td>\n",
       "      <td>13.490000</td>\n",
       "      <td>13.530000</td>\n",
       "      <td>13.470000</td>\n",
       "    </tr>\n",
       "    <tr>\n",
       "      <th>max</th>\n",
       "      <td>13.490000</td>\n",
       "      <td>13.500000</td>\n",
       "      <td>13.610000</td>\n",
       "      <td>13.610000</td>\n",
       "      <td>13.570000</td>\n",
       "    </tr>\n",
       "  </tbody>\n",
       "</table>\n",
       "</div>"
      ],
      "text/plain": [
       "               X_14          X_15          X_16          X_17          X_18\n",
       "count  39607.000000  39607.000000  39607.000000  39607.000000  39607.000000\n",
       "mean      13.372201     13.381914     13.463860     13.512589     13.449263\n",
       "std        0.029865      0.029468      0.036741      0.023436      0.029093\n",
       "min       13.150000     13.230000     13.260000     13.410000     13.260000\n",
       "25%       13.350000     13.360000     13.440000     13.500000     13.430000\n",
       "50%       13.370000     13.380000     13.470000     13.510000     13.450000\n",
       "75%       13.390000     13.410000     13.490000     13.530000     13.470000\n",
       "max       13.490000     13.500000     13.610000     13.610000     13.570000"
      ]
     },
     "execution_count": 33,
     "metadata": {},
     "output_type": "execute_result"
    }
   ],
   "source": [
    "antenna.describe()"
   ]
  },
  {
   "cell_type": "code",
   "execution_count": 107,
   "id": "d10916c2",
   "metadata": {
    "ExecuteTime": {
     "end_time": "2022-08-24T09:18:28.562446Z",
     "start_time": "2022-08-24T09:18:28.553871Z"
    }
   },
   "outputs": [
    {
     "name": "stderr",
     "output_type": "stream",
     "text": [
      "/var/folders/lm/z4n_2b8s6rj3_vv57sg789kc0000gn/T/ipykernel_94867/1090151052.py:1: SettingWithCopyWarning: \n",
      "A value is trying to be set on a copy of a slice from a DataFrame.\n",
      "Try using .loc[row_indexer,col_indexer] = value instead\n",
      "\n",
      "See the caveats in the documentation: https://pandas.pydata.org/pandas-docs/stable/user_guide/indexing.html#returning-a-view-versus-a-copy\n",
      "  antenna['mean'] = antenna.mean(axis = 1)\n"
     ]
    },
    {
     "data": {
      "text/html": [
       "<div>\n",
       "<style scoped>\n",
       "    .dataframe tbody tr th:only-of-type {\n",
       "        vertical-align: middle;\n",
       "    }\n",
       "\n",
       "    .dataframe tbody tr th {\n",
       "        vertical-align: top;\n",
       "    }\n",
       "\n",
       "    .dataframe thead th {\n",
       "        text-align: right;\n",
       "    }\n",
       "</style>\n",
       "<table border=\"1\" class=\"dataframe\">\n",
       "  <thead>\n",
       "    <tr style=\"text-align: right;\">\n",
       "      <th></th>\n",
       "      <th>X_14</th>\n",
       "      <th>X_15</th>\n",
       "      <th>X_16</th>\n",
       "      <th>X_17</th>\n",
       "      <th>X_18</th>\n",
       "      <th>mean</th>\n",
       "    </tr>\n",
       "  </thead>\n",
       "  <tbody>\n",
       "    <tr>\n",
       "      <th>0</th>\n",
       "      <td>13.34</td>\n",
       "      <td>13.37</td>\n",
       "      <td>13.40</td>\n",
       "      <td>13.52</td>\n",
       "      <td>13.44</td>\n",
       "      <td>13.414</td>\n",
       "    </tr>\n",
       "    <tr>\n",
       "      <th>1</th>\n",
       "      <td>13.33</td>\n",
       "      <td>13.33</td>\n",
       "      <td>13.46</td>\n",
       "      <td>13.51</td>\n",
       "      <td>13.42</td>\n",
       "      <td>13.410</td>\n",
       "    </tr>\n",
       "    <tr>\n",
       "      <th>2</th>\n",
       "      <td>13.36</td>\n",
       "      <td>13.36</td>\n",
       "      <td>13.39</td>\n",
       "      <td>13.51</td>\n",
       "      <td>13.43</td>\n",
       "      <td>13.410</td>\n",
       "    </tr>\n",
       "    <tr>\n",
       "      <th>3</th>\n",
       "      <td>13.30</td>\n",
       "      <td>13.33</td>\n",
       "      <td>13.39</td>\n",
       "      <td>13.51</td>\n",
       "      <td>13.40</td>\n",
       "      <td>13.386</td>\n",
       "    </tr>\n",
       "    <tr>\n",
       "      <th>4</th>\n",
       "      <td>13.35</td>\n",
       "      <td>13.34</td>\n",
       "      <td>13.41</td>\n",
       "      <td>13.50</td>\n",
       "      <td>13.42</td>\n",
       "      <td>13.404</td>\n",
       "    </tr>\n",
       "    <tr>\n",
       "      <th>...</th>\n",
       "      <td>...</td>\n",
       "      <td>...</td>\n",
       "      <td>...</td>\n",
       "      <td>...</td>\n",
       "      <td>...</td>\n",
       "      <td>...</td>\n",
       "    </tr>\n",
       "    <tr>\n",
       "      <th>39602</th>\n",
       "      <td>13.37</td>\n",
       "      <td>13.38</td>\n",
       "      <td>13.51</td>\n",
       "      <td>13.52</td>\n",
       "      <td>13.46</td>\n",
       "      <td>13.448</td>\n",
       "    </tr>\n",
       "    <tr>\n",
       "      <th>39603</th>\n",
       "      <td>13.36</td>\n",
       "      <td>13.36</td>\n",
       "      <td>13.47</td>\n",
       "      <td>13.49</td>\n",
       "      <td>13.44</td>\n",
       "      <td>13.424</td>\n",
       "    </tr>\n",
       "    <tr>\n",
       "      <th>39604</th>\n",
       "      <td>13.38</td>\n",
       "      <td>13.39</td>\n",
       "      <td>13.47</td>\n",
       "      <td>13.52</td>\n",
       "      <td>13.46</td>\n",
       "      <td>13.444</td>\n",
       "    </tr>\n",
       "    <tr>\n",
       "      <th>39605</th>\n",
       "      <td>13.36</td>\n",
       "      <td>13.38</td>\n",
       "      <td>13.45</td>\n",
       "      <td>13.52</td>\n",
       "      <td>13.46</td>\n",
       "      <td>13.434</td>\n",
       "    </tr>\n",
       "    <tr>\n",
       "      <th>39606</th>\n",
       "      <td>13.39</td>\n",
       "      <td>13.38</td>\n",
       "      <td>13.48</td>\n",
       "      <td>13.52</td>\n",
       "      <td>13.47</td>\n",
       "      <td>13.448</td>\n",
       "    </tr>\n",
       "  </tbody>\n",
       "</table>\n",
       "<p>39607 rows × 6 columns</p>\n",
       "</div>"
      ],
      "text/plain": [
       "        X_14   X_15   X_16   X_17   X_18    mean\n",
       "0      13.34  13.37  13.40  13.52  13.44  13.414\n",
       "1      13.33  13.33  13.46  13.51  13.42  13.410\n",
       "2      13.36  13.36  13.39  13.51  13.43  13.410\n",
       "3      13.30  13.33  13.39  13.51  13.40  13.386\n",
       "4      13.35  13.34  13.41  13.50  13.42  13.404\n",
       "...      ...    ...    ...    ...    ...     ...\n",
       "39602  13.37  13.38  13.51  13.52  13.46  13.448\n",
       "39603  13.36  13.36  13.47  13.49  13.44  13.424\n",
       "39604  13.38  13.39  13.47  13.52  13.46  13.444\n",
       "39605  13.36  13.38  13.45  13.52  13.46  13.434\n",
       "39606  13.39  13.38  13.48  13.52  13.47  13.448\n",
       "\n",
       "[39607 rows x 6 columns]"
      ]
     },
     "execution_count": 107,
     "metadata": {},
     "output_type": "execute_result"
    }
   ],
   "source": [
    "antenna['mean'] = antenna.mean(axis = 1)\n",
    "antenna"
   ]
  },
  {
   "cell_type": "markdown",
   "id": "fc95350f",
   "metadata": {},
   "source": [
    "## 스크류 삽입 깊이 train_df['X_19', 'X_20', 'X_21', 'X_22']\n",
    "drop!!"
   ]
  },
  {
   "cell_type": "code",
   "execution_count": 15,
   "id": "444c4d25",
   "metadata": {
    "ExecuteTime": {
     "end_time": "2022-08-24T11:39:23.059831Z",
     "start_time": "2022-08-24T11:39:23.043990Z"
    }
   },
   "outputs": [
    {
     "data": {
      "text/html": [
       "<div>\n",
       "<style scoped>\n",
       "    .dataframe tbody tr th:only-of-type {\n",
       "        vertical-align: middle;\n",
       "    }\n",
       "\n",
       "    .dataframe tbody tr th {\n",
       "        vertical-align: top;\n",
       "    }\n",
       "\n",
       "    .dataframe thead th {\n",
       "        text-align: right;\n",
       "    }\n",
       "</style>\n",
       "<table border=\"1\" class=\"dataframe\">\n",
       "  <thead>\n",
       "    <tr style=\"text-align: right;\">\n",
       "      <th></th>\n",
       "      <th>X_19</th>\n",
       "      <th>X_20</th>\n",
       "      <th>X_21</th>\n",
       "      <th>X_22</th>\n",
       "    </tr>\n",
       "  </thead>\n",
       "  <tbody>\n",
       "    <tr>\n",
       "      <th>count</th>\n",
       "      <td>39607.000000</td>\n",
       "      <td>39607.000000</td>\n",
       "      <td>39607.000000</td>\n",
       "      <td>39607.000000</td>\n",
       "    </tr>\n",
       "    <tr>\n",
       "      <th>mean</th>\n",
       "      <td>3.240229</td>\n",
       "      <td>3.184493</td>\n",
       "      <td>3.174270</td>\n",
       "      <td>3.232673</td>\n",
       "    </tr>\n",
       "    <tr>\n",
       "      <th>std</th>\n",
       "      <td>0.110482</td>\n",
       "      <td>0.105266</td>\n",
       "      <td>0.106868</td>\n",
       "      <td>0.108981</td>\n",
       "    </tr>\n",
       "    <tr>\n",
       "      <th>min</th>\n",
       "      <td>2.860000</td>\n",
       "      <td>2.830000</td>\n",
       "      <td>2.830000</td>\n",
       "      <td>2.850000</td>\n",
       "    </tr>\n",
       "    <tr>\n",
       "      <th>25%</th>\n",
       "      <td>3.160000</td>\n",
       "      <td>3.100000</td>\n",
       "      <td>3.090000</td>\n",
       "      <td>3.140000</td>\n",
       "    </tr>\n",
       "    <tr>\n",
       "      <th>50%</th>\n",
       "      <td>3.220000</td>\n",
       "      <td>3.180000</td>\n",
       "      <td>3.160000</td>\n",
       "      <td>3.230000</td>\n",
       "    </tr>\n",
       "    <tr>\n",
       "      <th>75%</th>\n",
       "      <td>3.310000</td>\n",
       "      <td>3.270000</td>\n",
       "      <td>3.250000</td>\n",
       "      <td>3.320000</td>\n",
       "    </tr>\n",
       "    <tr>\n",
       "      <th>max</th>\n",
       "      <td>3.750000</td>\n",
       "      <td>3.670000</td>\n",
       "      <td>3.680000</td>\n",
       "      <td>3.790000</td>\n",
       "    </tr>\n",
       "  </tbody>\n",
       "</table>\n",
       "</div>"
      ],
      "text/plain": [
       "               X_19          X_20          X_21          X_22\n",
       "count  39607.000000  39607.000000  39607.000000  39607.000000\n",
       "mean       3.240229      3.184493      3.174270      3.232673\n",
       "std        0.110482      0.105266      0.106868      0.108981\n",
       "min        2.860000      2.830000      2.830000      2.850000\n",
       "25%        3.160000      3.100000      3.090000      3.140000\n",
       "50%        3.220000      3.180000      3.160000      3.230000\n",
       "75%        3.310000      3.270000      3.250000      3.320000\n",
       "max        3.750000      3.670000      3.680000      3.790000"
      ]
     },
     "execution_count": 15,
     "metadata": {},
     "output_type": "execute_result"
    }
   ],
   "source": [
    "screw = train_df[['X_19', 'X_20', 'X_21', 'X_22']]\n",
    "screw.describe()"
   ]
  },
  {
   "cell_type": "code",
   "execution_count": 16,
   "id": "3169eefc",
   "metadata": {
    "ExecuteTime": {
     "end_time": "2022-08-24T11:39:23.482838Z",
     "start_time": "2022-08-24T11:39:23.476926Z"
    }
   },
   "outputs": [
    {
     "data": {
      "text/html": [
       "<div>\n",
       "<style scoped>\n",
       "    .dataframe tbody tr th:only-of-type {\n",
       "        vertical-align: middle;\n",
       "    }\n",
       "\n",
       "    .dataframe tbody tr th {\n",
       "        vertical-align: top;\n",
       "    }\n",
       "\n",
       "    .dataframe thead th {\n",
       "        text-align: right;\n",
       "    }\n",
       "</style>\n",
       "<table border=\"1\" class=\"dataframe\">\n",
       "  <thead>\n",
       "    <tr style=\"text-align: right;\">\n",
       "      <th></th>\n",
       "      <th>X_19</th>\n",
       "      <th>X_20</th>\n",
       "      <th>X_21</th>\n",
       "      <th>X_22</th>\n",
       "    </tr>\n",
       "  </thead>\n",
       "  <tbody>\n",
       "    <tr>\n",
       "      <th>X_19</th>\n",
       "      <td>1.000000</td>\n",
       "      <td>0.636824</td>\n",
       "      <td>0.855176</td>\n",
       "      <td>0.660892</td>\n",
       "    </tr>\n",
       "    <tr>\n",
       "      <th>X_20</th>\n",
       "      <td>0.636824</td>\n",
       "      <td>1.000000</td>\n",
       "      <td>0.695565</td>\n",
       "      <td>0.831176</td>\n",
       "    </tr>\n",
       "    <tr>\n",
       "      <th>X_21</th>\n",
       "      <td>0.855176</td>\n",
       "      <td>0.695565</td>\n",
       "      <td>1.000000</td>\n",
       "      <td>0.668018</td>\n",
       "    </tr>\n",
       "    <tr>\n",
       "      <th>X_22</th>\n",
       "      <td>0.660892</td>\n",
       "      <td>0.831176</td>\n",
       "      <td>0.668018</td>\n",
       "      <td>1.000000</td>\n",
       "    </tr>\n",
       "  </tbody>\n",
       "</table>\n",
       "</div>"
      ],
      "text/plain": [
       "          X_19      X_20      X_21      X_22\n",
       "X_19  1.000000  0.636824  0.855176  0.660892\n",
       "X_20  0.636824  1.000000  0.695565  0.831176\n",
       "X_21  0.855176  0.695565  1.000000  0.668018\n",
       "X_22  0.660892  0.831176  0.668018  1.000000"
      ]
     },
     "execution_count": 16,
     "metadata": {},
     "output_type": "execute_result"
    }
   ],
   "source": [
    "screw.corr()"
   ]
  },
  {
   "cell_type": "code",
   "execution_count": 17,
   "id": "f047d8a1",
   "metadata": {
    "ExecuteTime": {
     "end_time": "2022-08-24T11:39:26.299312Z",
     "start_time": "2022-08-24T11:39:26.249629Z"
    }
   },
   "outputs": [
    {
     "data": {
      "image/png": "[encoded data removed]",
      "text/plain": [
       "<Figure size 576x360 with 1 Axes>"
      ]
     },
     "metadata": {
      "needs_background": "light"
     },
     "output_type": "display_data"
    }
   ],
   "source": [
    "plt.figure(figsize=(8,5))\n",
    "plt.boxplot(screw)\n",
    "plt.show()"
   ]
  },
  {
   "cell_type": "code",
   "execution_count": 19,
   "id": "38ddd85c",
   "metadata": {
    "ExecuteTime": {
     "end_time": "2022-08-24T11:39:29.558310Z",
     "start_time": "2022-08-24T11:39:29.555731Z"
    }
   },
   "outputs": [],
   "source": [
    "mean=screw.mean(axis = 1)"
   ]
  },
  {
   "cell_type": "code",
   "execution_count": 20,
   "id": "728794a0",
   "metadata": {
    "ExecuteTime": {
     "end_time": "2022-08-24T11:39:33.870075Z",
     "start_time": "2022-08-24T11:39:33.867986Z"
    }
   },
   "outputs": [],
   "source": [
    "train_df2['screw'] = mean"
   ]
  },
  {
   "cell_type": "code",
   "execution_count": 21,
   "id": "20d5c9fa",
   "metadata": {
    "ExecuteTime": {
     "end_time": "2022-08-24T11:39:40.354844Z",
     "start_time": "2022-08-24T11:39:40.351777Z"
    }
   },
   "outputs": [
    {
     "name": "stderr",
     "output_type": "stream",
     "text": [
      "/var/folders/lm/z4n_2b8s6rj3_vv57sg789kc0000gn/T/ipykernel_21265/3826151245.py:1: SettingWithCopyWarning: \n",
      "A value is trying to be set on a copy of a slice from a DataFrame.\n",
      "Try using .loc[row_indexer,col_indexer] = value instead\n",
      "\n",
      "See the caveats in the documentation: https://pandas.pydata.org/pandas-docs/stable/user_guide/indexing.html#returning-a-view-versus-a-copy\n",
      "  screw['mean'] = screw.mean(axis = 1)\n"
     ]
    }
   ],
   "source": [
    "screw['mean'] = screw.mean(axis = 1)\n",
    "# screw.head(2)"
   ]
  },
  {
   "cell_type": "code",
   "execution_count": 22,
   "id": "40da2049",
   "metadata": {
    "ExecuteTime": {
     "end_time": "2022-08-24T11:39:44.080750Z",
     "start_time": "2022-08-24T11:39:44.073073Z"
    }
   },
   "outputs": [],
   "source": [
    "train_df2.drop(columns=['X_19', 'X_20', 'X_21', 'X_22'], inplace=True)"
   ]
  },
  {
   "cell_type": "markdown",
   "id": "dbfad7f4",
   "metadata": {},
   "source": [
    "## \t커넥터 1~6번 핀 치수 train_df['X_24','X_25',X_26',X_27','X_28','X_29']\n",
    "drop!"
   ]
  },
  {
   "cell_type": "code",
   "execution_count": 23,
   "id": "74e5dda6",
   "metadata": {
    "ExecuteTime": {
     "end_time": "2022-08-24T11:39:47.546508Z",
     "start_time": "2022-08-24T11:39:47.526452Z"
    }
   },
   "outputs": [
    {
     "data": {
      "text/html": [
       "<div>\n",
       "<style scoped>\n",
       "    .dataframe tbody tr th:only-of-type {\n",
       "        vertical-align: middle;\n",
       "    }\n",
       "\n",
       "    .dataframe tbody tr th {\n",
       "        vertical-align: top;\n",
       "    }\n",
       "\n",
       "    .dataframe thead th {\n",
       "        text-align: right;\n",
       "    }\n",
       "</style>\n",
       "<table border=\"1\" class=\"dataframe\">\n",
       "  <thead>\n",
       "    <tr style=\"text-align: right;\">\n",
       "      <th></th>\n",
       "      <th>X_24</th>\n",
       "      <th>X_25</th>\n",
       "      <th>X_26</th>\n",
       "      <th>X_27</th>\n",
       "      <th>X_28</th>\n",
       "      <th>X_29</th>\n",
       "    </tr>\n",
       "  </thead>\n",
       "  <tbody>\n",
       "    <tr>\n",
       "      <th>count</th>\n",
       "      <td>39607.000000</td>\n",
       "      <td>39607.000000</td>\n",
       "      <td>39607.000000</td>\n",
       "      <td>39607.000000</td>\n",
       "      <td>39607.000000</td>\n",
       "      <td>39607.000000</td>\n",
       "    </tr>\n",
       "    <tr>\n",
       "      <th>mean</th>\n",
       "      <td>2.115674</td>\n",
       "      <td>2.093895</td>\n",
       "      <td>2.090377</td>\n",
       "      <td>2.098249</td>\n",
       "      <td>2.118594</td>\n",
       "      <td>2.173727</td>\n",
       "    </tr>\n",
       "    <tr>\n",
       "      <th>std</th>\n",
       "      <td>0.032440</td>\n",
       "      <td>0.033148</td>\n",
       "      <td>0.038512</td>\n",
       "      <td>0.038056</td>\n",
       "      <td>0.042782</td>\n",
       "      <td>0.046689</td>\n",
       "    </tr>\n",
       "    <tr>\n",
       "      <th>min</th>\n",
       "      <td>1.830000</td>\n",
       "      <td>1.960000</td>\n",
       "      <td>1.980000</td>\n",
       "      <td>1.990000</td>\n",
       "      <td>1.930000</td>\n",
       "      <td>2.020000</td>\n",
       "    </tr>\n",
       "    <tr>\n",
       "      <th>25%</th>\n",
       "      <td>2.090000</td>\n",
       "      <td>2.070000</td>\n",
       "      <td>2.060000</td>\n",
       "      <td>2.070000</td>\n",
       "      <td>2.090000</td>\n",
       "      <td>2.140000</td>\n",
       "    </tr>\n",
       "    <tr>\n",
       "      <th>50%</th>\n",
       "      <td>2.120000</td>\n",
       "      <td>2.090000</td>\n",
       "      <td>2.090000</td>\n",
       "      <td>2.090000</td>\n",
       "      <td>2.120000</td>\n",
       "      <td>2.170000</td>\n",
       "    </tr>\n",
       "    <tr>\n",
       "      <th>75%</th>\n",
       "      <td>2.140000</td>\n",
       "      <td>2.120000</td>\n",
       "      <td>2.120000</td>\n",
       "      <td>2.120000</td>\n",
       "      <td>2.140000</td>\n",
       "      <td>2.200000</td>\n",
       "    </tr>\n",
       "    <tr>\n",
       "      <th>max</th>\n",
       "      <td>2.350000</td>\n",
       "      <td>2.350000</td>\n",
       "      <td>2.350000</td>\n",
       "      <td>2.350000</td>\n",
       "      <td>2.350000</td>\n",
       "      <td>2.360000</td>\n",
       "    </tr>\n",
       "  </tbody>\n",
       "</table>\n",
       "</div>"
      ],
      "text/plain": [
       "               X_24          X_25          X_26          X_27          X_28  \\\n",
       "count  39607.000000  39607.000000  39607.000000  39607.000000  39607.000000   \n",
       "mean       2.115674      2.093895      2.090377      2.098249      2.118594   \n",
       "std        0.032440      0.033148      0.038512      0.038056      0.042782   \n",
       "min        1.830000      1.960000      1.980000      1.990000      1.930000   \n",
       "25%        2.090000      2.070000      2.060000      2.070000      2.090000   \n",
       "50%        2.120000      2.090000      2.090000      2.090000      2.120000   \n",
       "75%        2.140000      2.120000      2.120000      2.120000      2.140000   \n",
       "max        2.350000      2.350000      2.350000      2.350000      2.350000   \n",
       "\n",
       "               X_29  \n",
       "count  39607.000000  \n",
       "mean       2.173727  \n",
       "std        0.046689  \n",
       "min        2.020000  \n",
       "25%        2.140000  \n",
       "50%        2.170000  \n",
       "75%        2.200000  \n",
       "max        2.360000  "
      ]
     },
     "execution_count": 23,
     "metadata": {},
     "output_type": "execute_result"
    }
   ],
   "source": [
    "connecter = train_df[['X_24','X_25','X_26','X_27','X_28','X_29']]\n",
    "connecter.describe()"
   ]
  },
  {
   "cell_type": "code",
   "execution_count": 24,
   "id": "9a6c2672",
   "metadata": {
    "ExecuteTime": {
     "end_time": "2022-08-24T11:39:52.563060Z",
     "start_time": "2022-08-24T11:39:52.554437Z"
    }
   },
   "outputs": [
    {
     "data": {
      "text/html": [
       "<div>\n",
       "<style scoped>\n",
       "    .dataframe tbody tr th:only-of-type {\n",
       "        vertical-align: middle;\n",
       "    }\n",
       "\n",
       "    .dataframe tbody tr th {\n",
       "        vertical-align: top;\n",
       "    }\n",
       "\n",
       "    .dataframe thead th {\n",
       "        text-align: right;\n",
       "    }\n",
       "</style>\n",
       "<table border=\"1\" class=\"dataframe\">\n",
       "  <thead>\n",
       "    <tr style=\"text-align: right;\">\n",
       "      <th></th>\n",
       "      <th>X_24</th>\n",
       "      <th>X_25</th>\n",
       "      <th>X_26</th>\n",
       "      <th>X_27</th>\n",
       "      <th>X_28</th>\n",
       "      <th>X_29</th>\n",
       "    </tr>\n",
       "  </thead>\n",
       "  <tbody>\n",
       "    <tr>\n",
       "      <th>X_24</th>\n",
       "      <td>1.000000</td>\n",
       "      <td>0.725475</td>\n",
       "      <td>0.816194</td>\n",
       "      <td>0.627911</td>\n",
       "      <td>0.700279</td>\n",
       "      <td>0.588131</td>\n",
       "    </tr>\n",
       "    <tr>\n",
       "      <th>X_25</th>\n",
       "      <td>0.725475</td>\n",
       "      <td>1.000000</td>\n",
       "      <td>0.672667</td>\n",
       "      <td>0.775328</td>\n",
       "      <td>0.590988</td>\n",
       "      <td>0.665554</td>\n",
       "    </tr>\n",
       "    <tr>\n",
       "      <th>X_26</th>\n",
       "      <td>0.816194</td>\n",
       "      <td>0.672667</td>\n",
       "      <td>1.000000</td>\n",
       "      <td>0.658264</td>\n",
       "      <td>0.750090</td>\n",
       "      <td>0.645966</td>\n",
       "    </tr>\n",
       "    <tr>\n",
       "      <th>X_27</th>\n",
       "      <td>0.627911</td>\n",
       "      <td>0.775328</td>\n",
       "      <td>0.658264</td>\n",
       "      <td>1.000000</td>\n",
       "      <td>0.648760</td>\n",
       "      <td>0.712328</td>\n",
       "    </tr>\n",
       "    <tr>\n",
       "      <th>X_28</th>\n",
       "      <td>0.700279</td>\n",
       "      <td>0.590988</td>\n",
       "      <td>0.750090</td>\n",
       "      <td>0.648760</td>\n",
       "      <td>1.000000</td>\n",
       "      <td>0.668306</td>\n",
       "    </tr>\n",
       "    <tr>\n",
       "      <th>X_29</th>\n",
       "      <td>0.588131</td>\n",
       "      <td>0.665554</td>\n",
       "      <td>0.645966</td>\n",
       "      <td>0.712328</td>\n",
       "      <td>0.668306</td>\n",
       "      <td>1.000000</td>\n",
       "    </tr>\n",
       "  </tbody>\n",
       "</table>\n",
       "</div>"
      ],
      "text/plain": [
       "          X_24      X_25      X_26      X_27      X_28      X_29\n",
       "X_24  1.000000  0.725475  0.816194  0.627911  0.700279  0.588131\n",
       "X_25  0.725475  1.000000  0.672667  0.775328  0.590988  0.665554\n",
       "X_26  0.816194  0.672667  1.000000  0.658264  0.750090  0.645966\n",
       "X_27  0.627911  0.775328  0.658264  1.000000  0.648760  0.712328\n",
       "X_28  0.700279  0.590988  0.750090  0.648760  1.000000  0.668306\n",
       "X_29  0.588131  0.665554  0.645966  0.712328  0.668306  1.000000"
      ]
     },
     "execution_count": 24,
     "metadata": {},
     "output_type": "execute_result"
    }
   ],
   "source": [
    "connecter.corr()"
   ]
  },
  {
   "cell_type": "code",
   "execution_count": 25,
   "id": "aaf7ceb9",
   "metadata": {
    "ExecuteTime": {
     "end_time": "2022-08-24T11:39:55.014133Z",
     "start_time": "2022-08-24T11:39:54.948447Z"
    }
   },
   "outputs": [
    {
     "data": {
      "image/png": "[encoded data removed]",
      "text/plain": [
       "<Figure size 576x360 with 1 Axes>"
      ]
     },
     "metadata": {
      "needs_background": "light"
     },
     "output_type": "display_data"
    }
   ],
   "source": [
    "plt.figure(figsize=(8,5))\n",
    "plt.boxplot(connecter)\n",
    "plt.show()"
   ]
  },
  {
   "cell_type": "code",
   "execution_count": 124,
   "id": "57021355",
   "metadata": {
    "ExecuteTime": {
     "end_time": "2022-08-24T10:59:22.693108Z",
     "start_time": "2022-08-24T10:59:22.686954Z"
    }
   },
   "outputs": [
    {
     "name": "stderr",
     "output_type": "stream",
     "text": [
      "/var/folders/lm/z4n_2b8s6rj3_vv57sg789kc0000gn/T/ipykernel_94867/108759593.py:1: SettingWithCopyWarning: \n",
      "A value is trying to be set on a copy of a slice from a DataFrame.\n",
      "Try using .loc[row_indexer,col_indexer] = value instead\n",
      "\n",
      "See the caveats in the documentation: https://pandas.pydata.org/pandas-docs/stable/user_guide/indexing.html#returning-a-view-versus-a-copy\n",
      "  connecter['connecter'] = connecter.mean(axis = 1)\n"
     ]
    },
    {
     "data": {
      "text/html": [
       "<div>\n",
       "<style scoped>\n",
       "    .dataframe tbody tr th:only-of-type {\n",
       "        vertical-align: middle;\n",
       "    }\n",
       "\n",
       "    .dataframe tbody tr th {\n",
       "        vertical-align: top;\n",
       "    }\n",
       "\n",
       "    .dataframe thead th {\n",
       "        text-align: right;\n",
       "    }\n",
       "</style>\n",
       "<table border=\"1\" class=\"dataframe\">\n",
       "  <thead>\n",
       "    <tr style=\"text-align: right;\">\n",
       "      <th></th>\n",
       "      <th>X_24</th>\n",
       "      <th>X_25</th>\n",
       "      <th>X_26</th>\n",
       "      <th>X_27</th>\n",
       "      <th>X_28</th>\n",
       "      <th>X_29</th>\n",
       "      <th>connecter</th>\n",
       "    </tr>\n",
       "  </thead>\n",
       "  <tbody>\n",
       "    <tr>\n",
       "      <th>0</th>\n",
       "      <td>2.05</td>\n",
       "      <td>2.07</td>\n",
       "      <td>2.05</td>\n",
       "      <td>2.06</td>\n",
       "      <td>2.06</td>\n",
       "      <td>2.35</td>\n",
       "      <td>2.106667</td>\n",
       "    </tr>\n",
       "    <tr>\n",
       "      <th>1</th>\n",
       "      <td>2.10</td>\n",
       "      <td>2.10</td>\n",
       "      <td>2.10</td>\n",
       "      <td>2.10</td>\n",
       "      <td>2.17</td>\n",
       "      <td>2.28</td>\n",
       "      <td>2.141667</td>\n",
       "    </tr>\n",
       "  </tbody>\n",
       "</table>\n",
       "</div>"
      ],
      "text/plain": [
       "   X_24  X_25  X_26  X_27  X_28  X_29  connecter\n",
       "0  2.05  2.07  2.05  2.06  2.06  2.35   2.106667\n",
       "1  2.10  2.10  2.10  2.10  2.17  2.28   2.141667"
      ]
     },
     "execution_count": 124,
     "metadata": {},
     "output_type": "execute_result"
    }
   ],
   "source": [
    "connecter['connecter'] = connecter.mean(axis = 1)\n",
    "connecter.head(2)"
   ]
  },
  {
   "cell_type": "code",
   "execution_count": 26,
   "id": "e625275e",
   "metadata": {
    "ExecuteTime": {
     "end_time": "2022-08-24T11:40:09.938571Z",
     "start_time": "2022-08-24T11:40:09.929761Z"
    }
   },
   "outputs": [
    {
     "data": {
      "text/html": [
       "<div>\n",
       "<style scoped>\n",
       "    .dataframe tbody tr th:only-of-type {\n",
       "        vertical-align: middle;\n",
       "    }\n",
       "\n",
       "    .dataframe tbody tr th {\n",
       "        vertical-align: top;\n",
       "    }\n",
       "\n",
       "    .dataframe thead th {\n",
       "        text-align: right;\n",
       "    }\n",
       "</style>\n",
       "<table border=\"1\" class=\"dataframe\">\n",
       "  <thead>\n",
       "    <tr style=\"text-align: right;\">\n",
       "      <th></th>\n",
       "      <th>ID</th>\n",
       "      <th>X_01</th>\n",
       "      <th>X_03</th>\n",
       "      <th>X_05</th>\n",
       "      <th>X_06</th>\n",
       "      <th>X_07</th>\n",
       "      <th>X_08</th>\n",
       "      <th>X_09</th>\n",
       "      <th>X_12</th>\n",
       "      <th>X_13</th>\n",
       "      <th>...</th>\n",
       "      <th>X_49</th>\n",
       "      <th>X_50</th>\n",
       "      <th>X_51</th>\n",
       "      <th>X_52</th>\n",
       "      <th>X_53</th>\n",
       "      <th>X_54</th>\n",
       "      <th>X_55</th>\n",
       "      <th>X_56</th>\n",
       "      <th>screw</th>\n",
       "      <th>connecter</th>\n",
       "    </tr>\n",
       "  </thead>\n",
       "  <tbody>\n",
       "    <tr>\n",
       "      <th>0</th>\n",
       "      <td>TRAIN_00001</td>\n",
       "      <td>70.544</td>\n",
       "      <td>67.47</td>\n",
       "      <td>101.892</td>\n",
       "      <td>74.983</td>\n",
       "      <td>29.45</td>\n",
       "      <td>62.38</td>\n",
       "      <td>245.71</td>\n",
       "      <td>4.34</td>\n",
       "      <td>0.18</td>\n",
       "      <td>...</td>\n",
       "      <td>9706.03</td>\n",
       "      <td>137.043591</td>\n",
       "      <td>135.359219</td>\n",
       "      <td>147.837968</td>\n",
       "      <td>134.313475</td>\n",
       "      <td>125.605427</td>\n",
       "      <td>136.721425</td>\n",
       "      <td>125.028256</td>\n",
       "      <td>3.1175</td>\n",
       "      <td>2.106667</td>\n",
       "    </tr>\n",
       "    <tr>\n",
       "      <th>1</th>\n",
       "      <td>TRAIN_00002</td>\n",
       "      <td>69.524</td>\n",
       "      <td>65.17</td>\n",
       "      <td>101.944</td>\n",
       "      <td>72.943</td>\n",
       "      <td>28.73</td>\n",
       "      <td>61.23</td>\n",
       "      <td>233.61</td>\n",
       "      <td>4.38</td>\n",
       "      <td>0.18</td>\n",
       "      <td>...</td>\n",
       "      <td>10423.43</td>\n",
       "      <td>133.736691</td>\n",
       "      <td>135.979817</td>\n",
       "      <td>149.924692</td>\n",
       "      <td>123.630583</td>\n",
       "      <td>127.893337</td>\n",
       "      <td>143.322659</td>\n",
       "      <td>124.877308</td>\n",
       "      <td>3.0475</td>\n",
       "      <td>2.141667</td>\n",
       "    </tr>\n",
       "  </tbody>\n",
       "</table>\n",
       "<p>2 rows × 47 columns</p>\n",
       "</div>"
      ],
      "text/plain": [
       "            ID    X_01   X_03     X_05    X_06   X_07   X_08    X_09  X_12  \\\n",
       "0  TRAIN_00001  70.544  67.47  101.892  74.983  29.45  62.38  245.71  4.34   \n",
       "1  TRAIN_00002  69.524  65.17  101.944  72.943  28.73  61.23  233.61  4.38   \n",
       "\n",
       "   X_13  ...      X_49        X_50        X_51        X_52        X_53  \\\n",
       "0  0.18  ...   9706.03  137.043591  135.359219  147.837968  134.313475   \n",
       "1  0.18  ...  10423.43  133.736691  135.979817  149.924692  123.630583   \n",
       "\n",
       "         X_54        X_55        X_56   screw  connecter  \n",
       "0  125.605427  136.721425  125.028256  3.1175   2.106667  \n",
       "1  127.893337  143.322659  124.877308  3.0475   2.141667  \n",
       "\n",
       "[2 rows x 47 columns]"
      ]
     },
     "execution_count": 26,
     "metadata": {},
     "output_type": "execute_result"
    }
   ],
   "source": [
    "train_df2['connecter'] = connecter.mean(axis = 1)\n",
    "train_df2.head(2)"
   ]
  },
  {
   "cell_type": "code",
   "execution_count": 27,
   "id": "7e129061",
   "metadata": {
    "ExecuteTime": {
     "end_time": "2022-08-24T11:40:13.351646Z",
     "start_time": "2022-08-24T11:40:13.345282Z"
    }
   },
   "outputs": [],
   "source": [
    "train_df2.drop(columns=['X_24','X_25','X_26','X_27','X_28','X_29'],inplace=True)"
   ]
  },
  {
   "cell_type": "code",
   "execution_count": 28,
   "id": "b0c22a41",
   "metadata": {
    "ExecuteTime": {
     "end_time": "2022-08-24T11:40:15.665684Z",
     "start_time": "2022-08-24T11:40:15.663365Z"
    }
   },
   "outputs": [
    {
     "data": {
      "text/plain": [
       "(39607, 41)"
      ]
     },
     "execution_count": 28,
     "metadata": {},
     "output_type": "execute_result"
    }
   ],
   "source": [
    "train_df2.shape"
   ]
  },
  {
   "cell_type": "markdown",
   "id": "478dfb85",
   "metadata": {},
   "source": [
    "## 하우징 PCB 안착부 치수 train_df['X_38','X_39','X_40']\n",
    "drop!!"
   ]
  },
  {
   "cell_type": "code",
   "execution_count": 29,
   "id": "31900f16",
   "metadata": {
    "ExecuteTime": {
     "end_time": "2022-08-24T11:40:19.558758Z",
     "start_time": "2022-08-24T11:40:19.556631Z"
    }
   },
   "outputs": [],
   "source": [
    "PCB = train_df2[['X_38','X_39','X_40']]"
   ]
  },
  {
   "cell_type": "code",
   "execution_count": 30,
   "id": "df7c7152",
   "metadata": {
    "ExecuteTime": {
     "end_time": "2022-08-24T11:40:19.831929Z",
     "start_time": "2022-08-24T11:40:19.818566Z"
    }
   },
   "outputs": [
    {
     "data": {
      "text/html": [
       "<div>\n",
       "<style scoped>\n",
       "    .dataframe tbody tr th:only-of-type {\n",
       "        vertical-align: middle;\n",
       "    }\n",
       "\n",
       "    .dataframe tbody tr th {\n",
       "        vertical-align: top;\n",
       "    }\n",
       "\n",
       "    .dataframe thead th {\n",
       "        text-align: right;\n",
       "    }\n",
       "</style>\n",
       "<table border=\"1\" class=\"dataframe\">\n",
       "  <thead>\n",
       "    <tr style=\"text-align: right;\">\n",
       "      <th></th>\n",
       "      <th>X_38</th>\n",
       "      <th>X_39</th>\n",
       "      <th>X_40</th>\n",
       "    </tr>\n",
       "  </thead>\n",
       "  <tbody>\n",
       "    <tr>\n",
       "      <th>count</th>\n",
       "      <td>39607.000000</td>\n",
       "      <td>39607.000000</td>\n",
       "      <td>39607.000000</td>\n",
       "    </tr>\n",
       "    <tr>\n",
       "      <th>mean</th>\n",
       "      <td>-15.903737</td>\n",
       "      <td>-15.889576</td>\n",
       "      <td>-16.572162</td>\n",
       "    </tr>\n",
       "    <tr>\n",
       "      <th>std</th>\n",
       "      <td>0.595420</td>\n",
       "      <td>0.746665</td>\n",
       "      <td>0.344486</td>\n",
       "    </tr>\n",
       "    <tr>\n",
       "      <th>min</th>\n",
       "      <td>-17.090000</td>\n",
       "      <td>-17.090000</td>\n",
       "      <td>-17.720000</td>\n",
       "    </tr>\n",
       "    <tr>\n",
       "      <th>25%</th>\n",
       "      <td>-16.160000</td>\n",
       "      <td>-16.160000</td>\n",
       "      <td>-16.810000</td>\n",
       "    </tr>\n",
       "    <tr>\n",
       "      <th>50%</th>\n",
       "      <td>-15.990000</td>\n",
       "      <td>-15.990000</td>\n",
       "      <td>-16.640000</td>\n",
       "    </tr>\n",
       "    <tr>\n",
       "      <th>75%</th>\n",
       "      <td>-15.750000</td>\n",
       "      <td>-15.750000</td>\n",
       "      <td>-16.400000</td>\n",
       "    </tr>\n",
       "    <tr>\n",
       "      <th>max</th>\n",
       "      <td>32.230000</td>\n",
       "      <td>-2.650000</td>\n",
       "      <td>-14.800000</td>\n",
       "    </tr>\n",
       "  </tbody>\n",
       "</table>\n",
       "</div>"
      ],
      "text/plain": [
       "               X_38          X_39          X_40\n",
       "count  39607.000000  39607.000000  39607.000000\n",
       "mean     -15.903737    -15.889576    -16.572162\n",
       "std        0.595420      0.746665      0.344486\n",
       "min      -17.090000    -17.090000    -17.720000\n",
       "25%      -16.160000    -16.160000    -16.810000\n",
       "50%      -15.990000    -15.990000    -16.640000\n",
       "75%      -15.750000    -15.750000    -16.400000\n",
       "max       32.230000     -2.650000    -14.800000"
      ]
     },
     "execution_count": 30,
     "metadata": {},
     "output_type": "execute_result"
    }
   ],
   "source": [
    "PCB.describe()"
   ]
  },
  {
   "cell_type": "code",
   "execution_count": 212,
   "id": "b6bcfe99",
   "metadata": {
    "ExecuteTime": {
     "end_time": "2022-08-24T11:28:31.488094Z",
     "start_time": "2022-08-24T11:28:31.484462Z"
    }
   },
   "outputs": [
    {
     "name": "stderr",
     "output_type": "stream",
     "text": [
      "/var/folders/lm/z4n_2b8s6rj3_vv57sg789kc0000gn/T/ipykernel_94867/4151078004.py:1: SettingWithCopyWarning: \n",
      "A value is trying to be set on a copy of a slice from a DataFrame.\n",
      "Try using .loc[row_indexer,col_indexer] = value instead\n",
      "\n",
      "See the caveats in the documentation: https://pandas.pydata.org/pandas-docs/stable/user_guide/indexing.html#returning-a-view-versus-a-copy\n",
      "  PCB['mean'] = PCB.mean(axis = 1)\n"
     ]
    }
   ],
   "source": [
    "PCB['mean'] = PCB.mean(axis = 1)"
   ]
  },
  {
   "cell_type": "code",
   "execution_count": 31,
   "id": "c9a7fc0c",
   "metadata": {
    "ExecuteTime": {
     "end_time": "2022-08-24T11:40:32.109933Z",
     "start_time": "2022-08-24T11:40:32.100850Z"
    }
   },
   "outputs": [
    {
     "data": {
      "text/html": [
       "<div>\n",
       "<style scoped>\n",
       "    .dataframe tbody tr th:only-of-type {\n",
       "        vertical-align: middle;\n",
       "    }\n",
       "\n",
       "    .dataframe tbody tr th {\n",
       "        vertical-align: top;\n",
       "    }\n",
       "\n",
       "    .dataframe thead th {\n",
       "        text-align: right;\n",
       "    }\n",
       "</style>\n",
       "<table border=\"1\" class=\"dataframe\">\n",
       "  <thead>\n",
       "    <tr style=\"text-align: right;\">\n",
       "      <th></th>\n",
       "      <th>ID</th>\n",
       "      <th>X_01</th>\n",
       "      <th>X_03</th>\n",
       "      <th>X_05</th>\n",
       "      <th>X_06</th>\n",
       "      <th>X_07</th>\n",
       "      <th>X_08</th>\n",
       "      <th>X_09</th>\n",
       "      <th>X_12</th>\n",
       "      <th>X_13</th>\n",
       "      <th>...</th>\n",
       "      <th>X_50</th>\n",
       "      <th>X_51</th>\n",
       "      <th>X_52</th>\n",
       "      <th>X_53</th>\n",
       "      <th>X_54</th>\n",
       "      <th>X_55</th>\n",
       "      <th>X_56</th>\n",
       "      <th>screw</th>\n",
       "      <th>connecter</th>\n",
       "      <th>PCB</th>\n",
       "    </tr>\n",
       "  </thead>\n",
       "  <tbody>\n",
       "    <tr>\n",
       "      <th>0</th>\n",
       "      <td>TRAIN_00001</td>\n",
       "      <td>70.544</td>\n",
       "      <td>67.47</td>\n",
       "      <td>101.892</td>\n",
       "      <td>74.983</td>\n",
       "      <td>29.45</td>\n",
       "      <td>62.38</td>\n",
       "      <td>245.71</td>\n",
       "      <td>4.34</td>\n",
       "      <td>0.18</td>\n",
       "      <td>...</td>\n",
       "      <td>137.043591</td>\n",
       "      <td>135.359219</td>\n",
       "      <td>147.837968</td>\n",
       "      <td>134.313475</td>\n",
       "      <td>125.605427</td>\n",
       "      <td>136.721425</td>\n",
       "      <td>125.028256</td>\n",
       "      <td>3.1175</td>\n",
       "      <td>2.106667</td>\n",
       "      <td>-16.600000</td>\n",
       "    </tr>\n",
       "    <tr>\n",
       "      <th>1</th>\n",
       "      <td>TRAIN_00002</td>\n",
       "      <td>69.524</td>\n",
       "      <td>65.17</td>\n",
       "      <td>101.944</td>\n",
       "      <td>72.943</td>\n",
       "      <td>28.73</td>\n",
       "      <td>61.23</td>\n",
       "      <td>233.61</td>\n",
       "      <td>4.38</td>\n",
       "      <td>0.18</td>\n",
       "      <td>...</td>\n",
       "      <td>133.736691</td>\n",
       "      <td>135.979817</td>\n",
       "      <td>149.924692</td>\n",
       "      <td>123.630583</td>\n",
       "      <td>127.893337</td>\n",
       "      <td>143.322659</td>\n",
       "      <td>124.877308</td>\n",
       "      <td>3.0475</td>\n",
       "      <td>2.141667</td>\n",
       "      <td>-16.303333</td>\n",
       "    </tr>\n",
       "  </tbody>\n",
       "</table>\n",
       "<p>2 rows × 42 columns</p>\n",
       "</div>"
      ],
      "text/plain": [
       "            ID    X_01   X_03     X_05    X_06   X_07   X_08    X_09  X_12  \\\n",
       "0  TRAIN_00001  70.544  67.47  101.892  74.983  29.45  62.38  245.71  4.34   \n",
       "1  TRAIN_00002  69.524  65.17  101.944  72.943  28.73  61.23  233.61  4.38   \n",
       "\n",
       "   X_13  ...        X_50        X_51        X_52        X_53        X_54  \\\n",
       "0  0.18  ...  137.043591  135.359219  147.837968  134.313475  125.605427   \n",
       "1  0.18  ...  133.736691  135.979817  149.924692  123.630583  127.893337   \n",
       "\n",
       "         X_55        X_56   screw  connecter        PCB  \n",
       "0  136.721425  125.028256  3.1175   2.106667 -16.600000  \n",
       "1  143.322659  124.877308  3.0475   2.141667 -16.303333  \n",
       "\n",
       "[2 rows x 42 columns]"
      ]
     },
     "execution_count": 31,
     "metadata": {},
     "output_type": "execute_result"
    }
   ],
   "source": [
    "train_df2['PCB'] = PCB.mean(axis = 1)\n",
    "train_df2.head(2)"
   ]
  },
  {
   "cell_type": "code",
   "execution_count": 32,
   "id": "48d04236",
   "metadata": {
    "ExecuteTime": {
     "end_time": "2022-08-24T11:40:32.388499Z",
     "start_time": "2022-08-24T11:40:32.382162Z"
    }
   },
   "outputs": [],
   "source": [
    "train_df2.drop(columns=['X_38','X_39','X_40'], inplace=True)"
   ]
  },
  {
   "cell_type": "markdown",
   "id": "ea1cacaf",
   "metadata": {
    "ExecuteTime": {
     "end_time": "2022-08-24T11:29:06.151540Z",
     "start_time": "2022-08-24T11:29:06.134206Z"
    }
   },
   "source": [
    "## 레이돔 치수 (안테나 부위) train_df['X_41','X_42','X_43','X_44']\n",
    "drop!"
   ]
  },
  {
   "cell_type": "code",
   "execution_count": 33,
   "id": "d1782bda",
   "metadata": {
    "ExecuteTime": {
     "end_time": "2022-08-24T11:40:36.873519Z",
     "start_time": "2022-08-24T11:40:36.859624Z"
    }
   },
   "outputs": [
    {
     "data": {
      "text/html": [
       "<div>\n",
       "<style scoped>\n",
       "    .dataframe tbody tr th:only-of-type {\n",
       "        vertical-align: middle;\n",
       "    }\n",
       "\n",
       "    .dataframe tbody tr th {\n",
       "        vertical-align: top;\n",
       "    }\n",
       "\n",
       "    .dataframe thead th {\n",
       "        text-align: right;\n",
       "    }\n",
       "</style>\n",
       "<table border=\"1\" class=\"dataframe\">\n",
       "  <thead>\n",
       "    <tr style=\"text-align: right;\">\n",
       "      <th></th>\n",
       "      <th>X_41</th>\n",
       "      <th>X_42</th>\n",
       "      <th>X_43</th>\n",
       "      <th>X_44</th>\n",
       "    </tr>\n",
       "  </thead>\n",
       "  <tbody>\n",
       "    <tr>\n",
       "      <th>count</th>\n",
       "      <td>39607.000000</td>\n",
       "      <td>39607.000000</td>\n",
       "      <td>39607.000000</td>\n",
       "      <td>39607.000000</td>\n",
       "    </tr>\n",
       "    <tr>\n",
       "      <th>mean</th>\n",
       "      <td>21.186992</td>\n",
       "      <td>21.059334</td>\n",
       "      <td>21.203705</td>\n",
       "      <td>21.160107</td>\n",
       "    </tr>\n",
       "    <tr>\n",
       "      <th>std</th>\n",
       "      <td>0.031128</td>\n",
       "      <td>0.040288</td>\n",
       "      <td>0.047211</td>\n",
       "      <td>0.042176</td>\n",
       "    </tr>\n",
       "    <tr>\n",
       "      <th>min</th>\n",
       "      <td>20.730000</td>\n",
       "      <td>20.790000</td>\n",
       "      <td>20.800000</td>\n",
       "      <td>20.930000</td>\n",
       "    </tr>\n",
       "    <tr>\n",
       "      <th>25%</th>\n",
       "      <td>21.170000</td>\n",
       "      <td>21.030000</td>\n",
       "      <td>21.170000</td>\n",
       "      <td>21.130000</td>\n",
       "    </tr>\n",
       "    <tr>\n",
       "      <th>50%</th>\n",
       "      <td>21.190000</td>\n",
       "      <td>21.060000</td>\n",
       "      <td>21.200000</td>\n",
       "      <td>21.160000</td>\n",
       "    </tr>\n",
       "    <tr>\n",
       "      <th>75%</th>\n",
       "      <td>21.210000</td>\n",
       "      <td>21.090000</td>\n",
       "      <td>21.240000</td>\n",
       "      <td>21.190000</td>\n",
       "    </tr>\n",
       "    <tr>\n",
       "      <th>max</th>\n",
       "      <td>21.620000</td>\n",
       "      <td>21.440000</td>\n",
       "      <td>21.410000</td>\n",
       "      <td>21.320000</td>\n",
       "    </tr>\n",
       "  </tbody>\n",
       "</table>\n",
       "</div>"
      ],
      "text/plain": [
       "               X_41          X_42          X_43          X_44\n",
       "count  39607.000000  39607.000000  39607.000000  39607.000000\n",
       "mean      21.186992     21.059334     21.203705     21.160107\n",
       "std        0.031128      0.040288      0.047211      0.042176\n",
       "min       20.730000     20.790000     20.800000     20.930000\n",
       "25%       21.170000     21.030000     21.170000     21.130000\n",
       "50%       21.190000     21.060000     21.200000     21.160000\n",
       "75%       21.210000     21.090000     21.240000     21.190000\n",
       "max       21.620000     21.440000     21.410000     21.320000"
      ]
     },
     "execution_count": 33,
     "metadata": {},
     "output_type": "execute_result"
    }
   ],
   "source": [
    "radome = train_df[['X_41','X_42','X_43','X_44']]\n",
    "radome.describe()"
   ]
  },
  {
   "cell_type": "code",
   "execution_count": 34,
   "id": "499520f6",
   "metadata": {
    "ExecuteTime": {
     "end_time": "2022-08-24T11:41:34.234759Z",
     "start_time": "2022-08-24T11:41:34.185577Z"
    }
   },
   "outputs": [
    {
     "data": {
      "image/png": "[encoded data removed]",
      "text/plain": [
       "<Figure size 576x360 with 1 Axes>"
      ]
     },
     "metadata": {
      "needs_background": "light"
     },
     "output_type": "display_data"
    }
   ],
   "source": [
    "plt.figure(figsize=(8,5))\n",
    "plt.boxplot(radome)\n",
    "plt.show()"
   ]
  },
  {
   "cell_type": "code",
   "execution_count": 37,
   "id": "02844b4e",
   "metadata": {
    "ExecuteTime": {
     "end_time": "2022-08-24T11:42:52.107707Z",
     "start_time": "2022-08-24T11:42:52.103805Z"
    }
   },
   "outputs": [
    {
     "name": "stderr",
     "output_type": "stream",
     "text": [
      "/var/folders/lm/z4n_2b8s6rj3_vv57sg789kc0000gn/T/ipykernel_21265/3751970350.py:1: SettingWithCopyWarning: \n",
      "A value is trying to be set on a copy of a slice from a DataFrame.\n",
      "Try using .loc[row_indexer,col_indexer] = value instead\n",
      "\n",
      "See the caveats in the documentation: https://pandas.pydata.org/pandas-docs/stable/user_guide/indexing.html#returning-a-view-versus-a-copy\n",
      "  radome['mean'] = radome.mean(axis = 1)\n"
     ]
    }
   ],
   "source": [
    "radome['mean'] = radome.mean(axis = 1)\n",
    "# radome"
   ]
  },
  {
   "cell_type": "code",
   "execution_count": 39,
   "id": "67027a5c",
   "metadata": {
    "ExecuteTime": {
     "end_time": "2022-08-24T11:43:25.138047Z",
     "start_time": "2022-08-24T11:43:25.135138Z"
    }
   },
   "outputs": [],
   "source": [
    "train_df2['radome'] = radome.mean(axis=1)"
   ]
  },
  {
   "cell_type": "code",
   "execution_count": 41,
   "id": "90087e1a",
   "metadata": {
    "ExecuteTime": {
     "end_time": "2022-08-24T11:43:51.882417Z",
     "start_time": "2022-08-24T11:43:51.876082Z"
    }
   },
   "outputs": [],
   "source": [
    "train_df2.drop(columns=['X_41','X_42','X_43','X_44'], inplace=True)"
   ]
  },
  {
   "cell_type": "markdown",
   "id": "200ee466",
   "metadata": {
    "ExecuteTime": {
     "end_time": "2022-08-16T11:16:18.302367Z",
     "start_time": "2022-08-16T11:16:18.033744Z"
    }
   },
   "source": [
    "##  RF 1 ~ 7 부분 SMT 납 량 : train_df['X_50~56']\n",
    "drop!"
   ]
  },
  {
   "cell_type": "code",
   "execution_count": 100,
   "id": "ee5bef2c",
   "metadata": {
    "ExecuteTime": {
     "end_time": "2022-08-24T14:58:11.397751Z",
     "start_time": "2022-08-24T14:58:11.383837Z"
    }
   },
   "outputs": [
    {
     "data": {
      "text/html": [
       "<div>\n",
       "<style scoped>\n",
       "    .dataframe tbody tr th:only-of-type {\n",
       "        vertical-align: middle;\n",
       "    }\n",
       "\n",
       "    .dataframe tbody tr th {\n",
       "        vertical-align: top;\n",
       "    }\n",
       "\n",
       "    .dataframe thead th {\n",
       "        text-align: right;\n",
       "    }\n",
       "</style>\n",
       "<table border=\"1\" class=\"dataframe\">\n",
       "  <thead>\n",
       "    <tr style=\"text-align: right;\">\n",
       "      <th></th>\n",
       "      <th>X_50</th>\n",
       "      <th>X_51</th>\n",
       "      <th>X_52</th>\n",
       "      <th>X_53</th>\n",
       "      <th>X_54</th>\n",
       "      <th>X_55</th>\n",
       "      <th>X_56</th>\n",
       "    </tr>\n",
       "  </thead>\n",
       "  <tbody>\n",
       "    <tr>\n",
       "      <th>0</th>\n",
       "      <td>138.130429</td>\n",
       "      <td>129.460682</td>\n",
       "      <td>141.506570</td>\n",
       "      <td>133.427229</td>\n",
       "      <td>129.711498</td>\n",
       "      <td>133.138096</td>\n",
       "      <td>121.859684</td>\n",
       "    </tr>\n",
       "    <tr>\n",
       "      <th>1</th>\n",
       "      <td>136.148839</td>\n",
       "      <td>128.266277</td>\n",
       "      <td>145.911745</td>\n",
       "      <td>131.196417</td>\n",
       "      <td>132.411480</td>\n",
       "      <td>133.629025</td>\n",
       "      <td>124.178623</td>\n",
       "    </tr>\n",
       "  </tbody>\n",
       "</table>\n",
       "</div>"
      ],
      "text/plain": [
       "         X_50        X_51        X_52        X_53        X_54        X_55  \\\n",
       "0  138.130429  129.460682  141.506570  133.427229  129.711498  133.138096   \n",
       "1  136.148839  128.266277  145.911745  131.196417  132.411480  133.629025   \n",
       "\n",
       "         X_56  \n",
       "0  121.859684  \n",
       "1  124.178623  "
      ]
     },
     "execution_count": 100,
     "metadata": {},
     "output_type": "execute_result"
    }
   ],
   "source": [
    "SMT = train_df.iloc[:,50:]\n",
    "SMT.head(2)"
   ]
  },
  {
   "cell_type": "code",
   "execution_count": 101,
   "id": "a269b723",
   "metadata": {
    "ExecuteTime": {
     "end_time": "2022-08-24T14:58:15.300855Z",
     "start_time": "2022-08-24T14:58:15.259314Z"
    },
    "scrolled": false
   },
   "outputs": [
    {
     "data": {
      "text/html": [
       "<div>\n",
       "<style scoped>\n",
       "    .dataframe tbody tr th:only-of-type {\n",
       "        vertical-align: middle;\n",
       "    }\n",
       "\n",
       "    .dataframe tbody tr th {\n",
       "        vertical-align: top;\n",
       "    }\n",
       "\n",
       "    .dataframe thead th {\n",
       "        text-align: right;\n",
       "    }\n",
       "</style>\n",
       "<table border=\"1\" class=\"dataframe\">\n",
       "  <thead>\n",
       "    <tr style=\"text-align: right;\">\n",
       "      <th></th>\n",
       "      <th>X_50</th>\n",
       "      <th>X_51</th>\n",
       "      <th>X_52</th>\n",
       "      <th>X_53</th>\n",
       "      <th>X_54</th>\n",
       "      <th>X_55</th>\n",
       "      <th>X_56</th>\n",
       "    </tr>\n",
       "  </thead>\n",
       "  <tbody>\n",
       "    <tr>\n",
       "      <th>count</th>\n",
       "      <td>39608.000000</td>\n",
       "      <td>39608.000000</td>\n",
       "      <td>39608.000000</td>\n",
       "      <td>39608.000000</td>\n",
       "      <td>39608.000000</td>\n",
       "      <td>39608.000000</td>\n",
       "      <td>39608.000000</td>\n",
       "    </tr>\n",
       "    <tr>\n",
       "      <th>mean</th>\n",
       "      <td>130.792771</td>\n",
       "      <td>131.506077</td>\n",
       "      <td>138.619585</td>\n",
       "      <td>128.012468</td>\n",
       "      <td>128.024288</td>\n",
       "      <td>137.897399</td>\n",
       "      <td>128.479544</td>\n",
       "    </tr>\n",
       "    <tr>\n",
       "      <th>std</th>\n",
       "      <td>6.283461</td>\n",
       "      <td>6.248113</td>\n",
       "      <td>6.711747</td>\n",
       "      <td>6.022616</td>\n",
       "      <td>5.783733</td>\n",
       "      <td>6.825189</td>\n",
       "      <td>5.766703</td>\n",
       "    </tr>\n",
       "    <tr>\n",
       "      <th>min</th>\n",
       "      <td>21.800000</td>\n",
       "      <td>21.910000</td>\n",
       "      <td>23.100000</td>\n",
       "      <td>21.330000</td>\n",
       "      <td>21.340000</td>\n",
       "      <td>22.980000</td>\n",
       "      <td>21.410000</td>\n",
       "    </tr>\n",
       "    <tr>\n",
       "      <th>25%</th>\n",
       "      <td>127.007745</td>\n",
       "      <td>127.715514</td>\n",
       "      <td>134.507082</td>\n",
       "      <td>124.397173</td>\n",
       "      <td>124.726521</td>\n",
       "      <td>133.703757</td>\n",
       "      <td>125.172442</td>\n",
       "    </tr>\n",
       "    <tr>\n",
       "      <th>50%</th>\n",
       "      <td>130.748868</td>\n",
       "      <td>131.460499</td>\n",
       "      <td>138.622976</td>\n",
       "      <td>128.048022</td>\n",
       "      <td>128.136952</td>\n",
       "      <td>137.892594</td>\n",
       "      <td>128.468109</td>\n",
       "    </tr>\n",
       "    <tr>\n",
       "      <th>75%</th>\n",
       "      <td>134.562718</td>\n",
       "      <td>135.301195</td>\n",
       "      <td>142.792608</td>\n",
       "      <td>131.706046</td>\n",
       "      <td>131.502206</td>\n",
       "      <td>142.087140</td>\n",
       "      <td>131.889357</td>\n",
       "    </tr>\n",
       "    <tr>\n",
       "      <th>max</th>\n",
       "      <td>162.657956</td>\n",
       "      <td>161.207806</td>\n",
       "      <td>177.616739</td>\n",
       "      <td>169.774016</td>\n",
       "      <td>169.065281</td>\n",
       "      <td>169.452855</td>\n",
       "      <td>159.642590</td>\n",
       "    </tr>\n",
       "  </tbody>\n",
       "</table>\n",
       "</div>"
      ],
      "text/plain": [
       "               X_50          X_51          X_52          X_53          X_54  \\\n",
       "count  39608.000000  39608.000000  39608.000000  39608.000000  39608.000000   \n",
       "mean     130.792771    131.506077    138.619585    128.012468    128.024288   \n",
       "std        6.283461      6.248113      6.711747      6.022616      5.783733   \n",
       "min       21.800000     21.910000     23.100000     21.330000     21.340000   \n",
       "25%      127.007745    127.715514    134.507082    124.397173    124.726521   \n",
       "50%      130.748868    131.460499    138.622976    128.048022    128.136952   \n",
       "75%      134.562718    135.301195    142.792608    131.706046    131.502206   \n",
       "max      162.657956    161.207806    177.616739    169.774016    169.065281   \n",
       "\n",
       "               X_55          X_56  \n",
       "count  39608.000000  39608.000000  \n",
       "mean     137.897399    128.479544  \n",
       "std        6.825189      5.766703  \n",
       "min       22.980000     21.410000  \n",
       "25%      133.703757    125.172442  \n",
       "50%      137.892594    128.468109  \n",
       "75%      142.087140    131.889357  \n",
       "max      169.452855    159.642590  "
      ]
     },
     "execution_count": 101,
     "metadata": {},
     "output_type": "execute_result"
    }
   ],
   "source": [
    "SMT.describe()"
   ]
  },
  {
   "cell_type": "code",
   "execution_count": 102,
   "id": "7774e8f2",
   "metadata": {
    "ExecuteTime": {
     "end_time": "2022-08-24T14:58:17.383882Z",
     "start_time": "2022-08-24T14:58:17.362517Z"
    }
   },
   "outputs": [
    {
     "data": {
      "text/html": [
       "<div>\n",
       "<style scoped>\n",
       "    .dataframe tbody tr th:only-of-type {\n",
       "        vertical-align: middle;\n",
       "    }\n",
       "\n",
       "    .dataframe tbody tr th {\n",
       "        vertical-align: top;\n",
       "    }\n",
       "\n",
       "    .dataframe thead th {\n",
       "        text-align: right;\n",
       "    }\n",
       "</style>\n",
       "<table border=\"1\" class=\"dataframe\">\n",
       "  <thead>\n",
       "    <tr style=\"text-align: right;\">\n",
       "      <th></th>\n",
       "      <th>X_50</th>\n",
       "      <th>X_51</th>\n",
       "      <th>X_52</th>\n",
       "      <th>X_53</th>\n",
       "      <th>X_54</th>\n",
       "      <th>X_55</th>\n",
       "      <th>X_56</th>\n",
       "    </tr>\n",
       "  </thead>\n",
       "  <tbody>\n",
       "    <tr>\n",
       "      <th>X_50</th>\n",
       "      <td>1.000000</td>\n",
       "      <td>0.466591</td>\n",
       "      <td>0.472083</td>\n",
       "      <td>0.553410</td>\n",
       "      <td>0.525219</td>\n",
       "      <td>0.500562</td>\n",
       "      <td>0.493637</td>\n",
       "    </tr>\n",
       "    <tr>\n",
       "      <th>X_51</th>\n",
       "      <td>0.466591</td>\n",
       "      <td>1.000000</td>\n",
       "      <td>0.481071</td>\n",
       "      <td>0.547477</td>\n",
       "      <td>0.503469</td>\n",
       "      <td>0.462100</td>\n",
       "      <td>0.451028</td>\n",
       "    </tr>\n",
       "    <tr>\n",
       "      <th>X_52</th>\n",
       "      <td>0.472083</td>\n",
       "      <td>0.481071</td>\n",
       "      <td>1.000000</td>\n",
       "      <td>0.537821</td>\n",
       "      <td>0.469835</td>\n",
       "      <td>0.623511</td>\n",
       "      <td>0.481948</td>\n",
       "    </tr>\n",
       "    <tr>\n",
       "      <th>X_53</th>\n",
       "      <td>0.553410</td>\n",
       "      <td>0.547477</td>\n",
       "      <td>0.537821</td>\n",
       "      <td>1.000000</td>\n",
       "      <td>0.570951</td>\n",
       "      <td>0.490595</td>\n",
       "      <td>0.479412</td>\n",
       "    </tr>\n",
       "    <tr>\n",
       "      <th>X_54</th>\n",
       "      <td>0.525219</td>\n",
       "      <td>0.503469</td>\n",
       "      <td>0.469835</td>\n",
       "      <td>0.570951</td>\n",
       "      <td>1.000000</td>\n",
       "      <td>0.475308</td>\n",
       "      <td>0.453502</td>\n",
       "    </tr>\n",
       "    <tr>\n",
       "      <th>X_55</th>\n",
       "      <td>0.500562</td>\n",
       "      <td>0.462100</td>\n",
       "      <td>0.623511</td>\n",
       "      <td>0.490595</td>\n",
       "      <td>0.475308</td>\n",
       "      <td>1.000000</td>\n",
       "      <td>0.509252</td>\n",
       "    </tr>\n",
       "    <tr>\n",
       "      <th>X_56</th>\n",
       "      <td>0.493637</td>\n",
       "      <td>0.451028</td>\n",
       "      <td>0.481948</td>\n",
       "      <td>0.479412</td>\n",
       "      <td>0.453502</td>\n",
       "      <td>0.509252</td>\n",
       "      <td>1.000000</td>\n",
       "    </tr>\n",
       "  </tbody>\n",
       "</table>\n",
       "</div>"
      ],
      "text/plain": [
       "          X_50      X_51      X_52      X_53      X_54      X_55      X_56\n",
       "X_50  1.000000  0.466591  0.472083  0.553410  0.525219  0.500562  0.493637\n",
       "X_51  0.466591  1.000000  0.481071  0.547477  0.503469  0.462100  0.451028\n",
       "X_52  0.472083  0.481071  1.000000  0.537821  0.469835  0.623511  0.481948\n",
       "X_53  0.553410  0.547477  0.537821  1.000000  0.570951  0.490595  0.479412\n",
       "X_54  0.525219  0.503469  0.469835  0.570951  1.000000  0.475308  0.453502\n",
       "X_55  0.500562  0.462100  0.623511  0.490595  0.475308  1.000000  0.509252\n",
       "X_56  0.493637  0.451028  0.481948  0.479412  0.453502  0.509252  1.000000"
      ]
     },
     "execution_count": 102,
     "metadata": {},
     "output_type": "execute_result"
    }
   ],
   "source": [
    "SMT.corr()"
   ]
  },
  {
   "cell_type": "code",
   "execution_count": 103,
   "id": "259f1f0c",
   "metadata": {
    "ExecuteTime": {
     "end_time": "2022-08-24T14:58:26.951188Z",
     "start_time": "2022-08-24T14:58:26.847995Z"
    }
   },
   "outputs": [
    {
     "data": {
      "image/png": "[encoded data removed]",
      "text/plain": [
       "<Figure size 432x288 with 1 Axes>"
      ]
     },
     "metadata": {
      "needs_background": "light"
     },
     "output_type": "display_data"
    }
   ],
   "source": [
    "# plt.figure(figsize=(15,10))\n",
    "plt.boxplot(SMT)\n",
    "plt.show()"
   ]
  },
  {
   "cell_type": "code",
   "execution_count": 104,
   "id": "ad42a7f2",
   "metadata": {
    "ExecuteTime": {
     "end_time": "2022-08-24T14:58:31.447668Z",
     "start_time": "2022-08-24T14:58:31.430055Z"
    }
   },
   "outputs": [
    {
     "data": {
      "text/html": [
       "<div>\n",
       "<style scoped>\n",
       "    .dataframe tbody tr th:only-of-type {\n",
       "        vertical-align: middle;\n",
       "    }\n",
       "\n",
       "    .dataframe tbody tr th {\n",
       "        vertical-align: top;\n",
       "    }\n",
       "\n",
       "    .dataframe thead th {\n",
       "        text-align: right;\n",
       "    }\n",
       "</style>\n",
       "<table border=\"1\" class=\"dataframe\">\n",
       "  <thead>\n",
       "    <tr style=\"text-align: right;\">\n",
       "      <th></th>\n",
       "      <th>X_50</th>\n",
       "      <th>X_51</th>\n",
       "      <th>X_52</th>\n",
       "      <th>X_53</th>\n",
       "      <th>X_54</th>\n",
       "      <th>X_55</th>\n",
       "      <th>X_56</th>\n",
       "      <th>mean</th>\n",
       "    </tr>\n",
       "  </thead>\n",
       "  <tbody>\n",
       "    <tr>\n",
       "      <th>0</th>\n",
       "      <td>138.130429</td>\n",
       "      <td>129.460682</td>\n",
       "      <td>141.506570</td>\n",
       "      <td>133.427229</td>\n",
       "      <td>129.711498</td>\n",
       "      <td>133.138096</td>\n",
       "      <td>121.859684</td>\n",
       "      <td>132.462027</td>\n",
       "    </tr>\n",
       "    <tr>\n",
       "      <th>1</th>\n",
       "      <td>136.148839</td>\n",
       "      <td>128.266277</td>\n",
       "      <td>145.911745</td>\n",
       "      <td>131.196417</td>\n",
       "      <td>132.411480</td>\n",
       "      <td>133.629025</td>\n",
       "      <td>124.178623</td>\n",
       "      <td>133.106058</td>\n",
       "    </tr>\n",
       "  </tbody>\n",
       "</table>\n",
       "</div>"
      ],
      "text/plain": [
       "         X_50        X_51        X_52        X_53        X_54        X_55  \\\n",
       "0  138.130429  129.460682  141.506570  133.427229  129.711498  133.138096   \n",
       "1  136.148839  128.266277  145.911745  131.196417  132.411480  133.629025   \n",
       "\n",
       "         X_56        mean  \n",
       "0  121.859684  132.462027  \n",
       "1  124.178623  133.106058  "
      ]
     },
     "execution_count": 104,
     "metadata": {},
     "output_type": "execute_result"
    }
   ],
   "source": [
    "SMT['mean'] = SMT.mean(axis = 1)\n",
    "SMT.head(2)"
   ]
  },
  {
   "cell_type": "code",
   "execution_count": 105,
   "id": "ac7330bf",
   "metadata": {
    "ExecuteTime": {
     "end_time": "2022-08-24T14:58:35.820418Z",
     "start_time": "2022-08-24T14:58:35.790947Z"
    }
   },
   "outputs": [
    {
     "data": {
      "text/html": [
       "<div>\n",
       "<style scoped>\n",
       "    .dataframe tbody tr th:only-of-type {\n",
       "        vertical-align: middle;\n",
       "    }\n",
       "\n",
       "    .dataframe tbody tr th {\n",
       "        vertical-align: top;\n",
       "    }\n",
       "\n",
       "    .dataframe thead th {\n",
       "        text-align: right;\n",
       "    }\n",
       "</style>\n",
       "<table border=\"1\" class=\"dataframe\">\n",
       "  <thead>\n",
       "    <tr style=\"text-align: right;\">\n",
       "      <th></th>\n",
       "      <th>ID</th>\n",
       "      <th>X_01</th>\n",
       "      <th>X_03</th>\n",
       "      <th>X_05</th>\n",
       "      <th>X_06</th>\n",
       "      <th>X_07</th>\n",
       "      <th>X_08</th>\n",
       "      <th>X_09</th>\n",
       "      <th>X_12</th>\n",
       "      <th>X_13</th>\n",
       "      <th>...</th>\n",
       "      <th>X_36</th>\n",
       "      <th>X_37</th>\n",
       "      <th>X_45</th>\n",
       "      <th>X_49</th>\n",
       "      <th>X_screw</th>\n",
       "      <th>X_connecter</th>\n",
       "      <th>X_PCB</th>\n",
       "      <th>X_radome</th>\n",
       "      <th>X_SMT</th>\n",
       "      <th>SMT</th>\n",
       "    </tr>\n",
       "  </thead>\n",
       "  <tbody>\n",
       "    <tr>\n",
       "      <th>0</th>\n",
       "      <td>TRAIN_00001</td>\n",
       "      <td>70.544</td>\n",
       "      <td>67.47</td>\n",
       "      <td>101.892</td>\n",
       "      <td>74.983</td>\n",
       "      <td>29.45</td>\n",
       "      <td>62.38</td>\n",
       "      <td>245.71</td>\n",
       "      <td>4.34</td>\n",
       "      <td>0.18</td>\n",
       "      <td>...</td>\n",
       "      <td>12.89</td>\n",
       "      <td>12.99</td>\n",
       "      <td>0.29</td>\n",
       "      <td>9706.03</td>\n",
       "      <td>3.1175</td>\n",
       "      <td>2.106667</td>\n",
       "      <td>-16.600000</td>\n",
       "      <td>21.14</td>\n",
       "      <td>5.505714</td>\n",
       "      <td>132.462027</td>\n",
       "    </tr>\n",
       "    <tr>\n",
       "      <th>1</th>\n",
       "      <td>TRAIN_00002</td>\n",
       "      <td>69.524</td>\n",
       "      <td>65.17</td>\n",
       "      <td>101.944</td>\n",
       "      <td>72.943</td>\n",
       "      <td>28.73</td>\n",
       "      <td>61.23</td>\n",
       "      <td>233.61</td>\n",
       "      <td>4.38</td>\n",
       "      <td>0.18</td>\n",
       "      <td>...</td>\n",
       "      <td>12.89</td>\n",
       "      <td>12.93</td>\n",
       "      <td>0.13</td>\n",
       "      <td>10423.43</td>\n",
       "      <td>3.0475</td>\n",
       "      <td>2.141667</td>\n",
       "      <td>-16.303333</td>\n",
       "      <td>21.12</td>\n",
       "      <td>5.522857</td>\n",
       "      <td>133.106058</td>\n",
       "    </tr>\n",
       "  </tbody>\n",
       "</table>\n",
       "<p>2 rows × 31 columns</p>\n",
       "</div>"
      ],
      "text/plain": [
       "            ID    X_01   X_03     X_05    X_06   X_07   X_08    X_09  X_12  \\\n",
       "0  TRAIN_00001  70.544  67.47  101.892  74.983  29.45  62.38  245.71  4.34   \n",
       "1  TRAIN_00002  69.524  65.17  101.944  72.943  28.73  61.23  233.61  4.38   \n",
       "\n",
       "   X_13  ...   X_36   X_37  X_45      X_49  X_screw  X_connecter      X_PCB  \\\n",
       "0  0.18  ...  12.89  12.99  0.29   9706.03   3.1175     2.106667 -16.600000   \n",
       "1  0.18  ...  12.89  12.93  0.13  10423.43   3.0475     2.141667 -16.303333   \n",
       "\n",
       "   X_radome     X_SMT         SMT  \n",
       "0     21.14  5.505714  132.462027  \n",
       "1     21.12  5.522857  133.106058  \n",
       "\n",
       "[2 rows x 31 columns]"
      ]
     },
     "execution_count": 105,
     "metadata": {},
     "output_type": "execute_result"
    }
   ],
   "source": [
    "train_df2['SMT'] = SMT.mean(axis = 1)\n",
    "train_df2.head(2)"
   ]
  },
  {
   "cell_type": "code",
   "execution_count": 45,
   "id": "dd9f06ee",
   "metadata": {
    "ExecuteTime": {
     "end_time": "2022-08-24T11:44:10.634262Z",
     "start_time": "2022-08-24T11:44:10.629080Z"
    }
   },
   "outputs": [],
   "source": [
    "train_df2.drop(columns=['X_50', 'X_51', 'X_52', 'X_53', 'X_54', 'X_55', 'X_56'], inplace=True)"
   ]
  },
  {
   "cell_type": "code",
   "execution_count": 107,
   "id": "12838685",
   "metadata": {
    "ExecuteTime": {
     "end_time": "2022-08-24T14:59:26.109250Z",
     "start_time": "2022-08-24T14:59:26.083045Z"
    }
   },
   "outputs": [
    {
     "data": {
      "text/html": [
       "<div>\n",
       "<style scoped>\n",
       "    .dataframe tbody tr th:only-of-type {\n",
       "        vertical-align: middle;\n",
       "    }\n",
       "\n",
       "    .dataframe tbody tr th {\n",
       "        vertical-align: top;\n",
       "    }\n",
       "\n",
       "    .dataframe thead th {\n",
       "        text-align: right;\n",
       "    }\n",
       "</style>\n",
       "<table border=\"1\" class=\"dataframe\">\n",
       "  <thead>\n",
       "    <tr style=\"text-align: right;\">\n",
       "      <th></th>\n",
       "      <th>ID</th>\n",
       "      <th>X_01</th>\n",
       "      <th>X_03</th>\n",
       "      <th>X_05</th>\n",
       "      <th>X_06</th>\n",
       "      <th>X_07</th>\n",
       "      <th>X_08</th>\n",
       "      <th>X_09</th>\n",
       "      <th>X_12</th>\n",
       "      <th>X_13</th>\n",
       "      <th>...</th>\n",
       "      <th>X_35</th>\n",
       "      <th>X_36</th>\n",
       "      <th>X_37</th>\n",
       "      <th>X_45</th>\n",
       "      <th>X_49</th>\n",
       "      <th>X_screw</th>\n",
       "      <th>X_connecter</th>\n",
       "      <th>X_PCB</th>\n",
       "      <th>X_radome</th>\n",
       "      <th>SMT</th>\n",
       "    </tr>\n",
       "  </thead>\n",
       "  <tbody>\n",
       "    <tr>\n",
       "      <th>0</th>\n",
       "      <td>TRAIN_00001</td>\n",
       "      <td>70.544</td>\n",
       "      <td>67.47</td>\n",
       "      <td>101.892</td>\n",
       "      <td>74.983</td>\n",
       "      <td>29.45</td>\n",
       "      <td>62.38</td>\n",
       "      <td>245.71</td>\n",
       "      <td>4.34</td>\n",
       "      <td>0.18</td>\n",
       "      <td>...</td>\n",
       "      <td>12.88</td>\n",
       "      <td>12.89</td>\n",
       "      <td>12.99</td>\n",
       "      <td>0.29</td>\n",
       "      <td>9706.03</td>\n",
       "      <td>3.1175</td>\n",
       "      <td>2.106667</td>\n",
       "      <td>-16.600000</td>\n",
       "      <td>21.14</td>\n",
       "      <td>132.462027</td>\n",
       "    </tr>\n",
       "    <tr>\n",
       "      <th>1</th>\n",
       "      <td>TRAIN_00002</td>\n",
       "      <td>69.524</td>\n",
       "      <td>65.17</td>\n",
       "      <td>101.944</td>\n",
       "      <td>72.943</td>\n",
       "      <td>28.73</td>\n",
       "      <td>61.23</td>\n",
       "      <td>233.61</td>\n",
       "      <td>4.38</td>\n",
       "      <td>0.18</td>\n",
       "      <td>...</td>\n",
       "      <td>12.87</td>\n",
       "      <td>12.89</td>\n",
       "      <td>12.93</td>\n",
       "      <td>0.13</td>\n",
       "      <td>10423.43</td>\n",
       "      <td>3.0475</td>\n",
       "      <td>2.141667</td>\n",
       "      <td>-16.303333</td>\n",
       "      <td>21.12</td>\n",
       "      <td>133.106058</td>\n",
       "    </tr>\n",
       "  </tbody>\n",
       "</table>\n",
       "<p>2 rows × 30 columns</p>\n",
       "</div>"
      ],
      "text/plain": [
       "            ID    X_01   X_03     X_05    X_06   X_07   X_08    X_09  X_12  \\\n",
       "0  TRAIN_00001  70.544  67.47  101.892  74.983  29.45  62.38  245.71  4.34   \n",
       "1  TRAIN_00002  69.524  65.17  101.944  72.943  28.73  61.23  233.61  4.38   \n",
       "\n",
       "   X_13  ...   X_35   X_36   X_37  X_45      X_49  X_screw  X_connecter  \\\n",
       "0  0.18  ...  12.88  12.89  12.99  0.29   9706.03   3.1175     2.106667   \n",
       "1  0.18  ...  12.87  12.89  12.93  0.13  10423.43   3.0475     2.141667   \n",
       "\n",
       "       X_PCB  X_radome         SMT  \n",
       "0 -16.600000     21.14  132.462027  \n",
       "1 -16.303333     21.12  133.106058  \n",
       "\n",
       "[2 rows x 30 columns]"
      ]
     },
     "execution_count": 107,
     "metadata": {},
     "output_type": "execute_result"
    }
   ],
   "source": [
    "train_df2.head(2)"
   ]
  },
  {
   "cell_type": "code",
   "execution_count": 108,
   "id": "cbae31cf",
   "metadata": {
    "ExecuteTime": {
     "end_time": "2022-08-24T14:59:33.405567Z",
     "start_time": "2022-08-24T14:59:33.401508Z"
    }
   },
   "outputs": [],
   "source": [
    "train_df2.rename(columns ={'screw': 'X_screw','connecter': 'X_connecter', 'PCB':'X_PCB','radome':'X_radome','SMT':'X_SMT'}, inplace=True)"
   ]
  },
  {
   "cell_type": "code",
   "execution_count": 109,
   "id": "be19ca40",
   "metadata": {
    "ExecuteTime": {
     "end_time": "2022-08-24T14:59:34.221815Z",
     "start_time": "2022-08-24T14:59:34.217178Z"
    }
   },
   "outputs": [
    {
     "data": {
      "text/plain": [
       "(39607, 30)"
      ]
     },
     "execution_count": 109,
     "metadata": {},
     "output_type": "execute_result"
    }
   ],
   "source": [
    "train_df2.shape"
   ]
  },
  {
   "cell_type": "markdown",
   "id": "2e02a9f4",
   "metadata": {},
   "source": [
    "## 시간 -> 분 (3600 나눔)"
   ]
  },
  {
   "cell_type": "code",
   "execution_count": 126,
   "id": "e7205fdb",
   "metadata": {
    "ExecuteTime": {
     "end_time": "2022-08-24T15:08:48.821113Z",
     "start_time": "2022-08-24T15:08:48.809838Z"
    }
   },
   "outputs": [],
   "source": [
    "train_df2.drop(columns=['X_49'],inplace=True)"
   ]
  },
  {
   "cell_type": "code",
   "execution_count": 127,
   "id": "b7865444",
   "metadata": {
    "ExecuteTime": {
     "end_time": "2022-08-24T15:08:50.518387Z",
     "start_time": "2022-08-24T15:08:50.514159Z"
    }
   },
   "outputs": [],
   "source": [
    "train_df2['X_49'] = train_df['X_49']/3600"
   ]
  },
  {
   "cell_type": "code",
   "execution_count": 110,
   "id": "18d92e33",
   "metadata": {
    "ExecuteTime": {
     "end_time": "2022-08-24T14:59:42.613275Z",
     "start_time": "2022-08-24T14:59:42.604758Z"
    }
   },
   "outputs": [],
   "source": [
    "train_df = pd.concat([train_df2, train_y], ignore_index=False, axis = 1, join='outer' )"
   ]
  },
  {
   "cell_type": "code",
   "execution_count": 111,
   "id": "1512645d",
   "metadata": {
    "ExecuteTime": {
     "end_time": "2022-08-24T14:59:43.377421Z",
     "start_time": "2022-08-24T14:59:43.373000Z"
    }
   },
   "outputs": [
    {
     "data": {
      "text/plain": [
       "(39607, 44)"
      ]
     },
     "execution_count": 111,
     "metadata": {},
     "output_type": "execute_result"
    }
   ],
   "source": [
    "train_df.shape"
   ]
  },
  {
   "cell_type": "code",
   "execution_count": 122,
   "id": "46e1910a",
   "metadata": {
    "ExecuteTime": {
     "end_time": "2022-08-24T15:02:15.950272Z",
     "start_time": "2022-08-24T15:02:15.282731Z"
    }
   },
   "outputs": [],
   "source": [
    "train_df.to_csv(base_path+'FeatureEngineering_train.csv', index=False)"
   ]
  },
  {
   "cell_type": "code",
   "execution_count": 139,
   "id": "d60cc954",
   "metadata": {
    "ExecuteTime": {
     "end_time": "2022-08-24T15:12:18.488316Z",
     "start_time": "2022-08-24T15:12:18.483425Z"
    }
   },
   "outputs": [
    {
     "data": {
      "text/plain": [
       "Index(['ID', 'X_01', 'X_03', 'X_05', 'X_06', 'X_07', 'X_08', 'X_09', 'X_12',\n",
       "       'X_13', 'X_14', 'X_15', 'X_16', 'X_17', 'X_18', 'X_30', 'X_31', 'X_32',\n",
       "       'X_33', 'X_34', 'X_35', 'X_36', 'X_37', 'X_45', 'X_screw',\n",
       "       'X_connecter', 'X_PCB', 'X_radome', 'X_SMT', 'Y_01', 'Y_02', 'Y_03',\n",
       "       'Y_04', 'Y_05', 'Y_06', 'Y_07', 'Y_08', 'Y_09', 'Y_10', 'Y_11', 'Y_12',\n",
       "       'Y_13', 'Y_14', 'X_49'],\n",
       "      dtype='object')"
      ]
     },
     "execution_count": 139,
     "metadata": {},
     "output_type": "execute_result"
    }
   ],
   "source": [
    "train_df.columns"
   ]
  },
  {
   "cell_type": "code",
   "execution_count": null,
   "id": "e9b409e0",
   "metadata": {},
   "outputs": [],
   "source": []
  }
 ],
 "metadata": {
  "colab": {
   "collapsed_sections": [],
   "name": "LGaimers_xgboost.ipynb",
   "provenance": []
  },
  "gpuClass": "standard",
  "kernelspec": {
   "display_name": "Python 3 (ipykernel)",
   "language": "python",
   "name": "python3"
  },
  "language_info": {
   "codemirror_mode": {
    "name": "ipython",
    "version": 3
   },
   "file_extension": ".py",
   "mimetype": "text/x-python",
   "name": "python",
   "nbconvert_exporter": "python",
   "pygments_lexer": "ipython3",
   "version": "3.8.13"
  },
  "toc": {
   "base_numbering": 1,
   "nav_menu": {},
   "number_sections": true,
   "sideBar": true,
   "skip_h1_title": false,
   "title_cell": "Table of Contents",
   "title_sidebar": "Contents",
   "toc_cell": false,
   "toc_position": {},
   "toc_section_display": true,
   "toc_window_display": false
  },
  "vscode": {
   "interpreter": {
    "hash": "b0fa6594d8f4cbf19f97940f81e996739fb7646882a419484c72d19e05852a7e"
   }
  }
 },
 "nbformat": 4,
 "nbformat_minor": 5
}
